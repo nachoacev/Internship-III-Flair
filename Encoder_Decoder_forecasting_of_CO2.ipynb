{
  "cells": [
    {
      "cell_type": "markdown",
      "metadata": {
        "id": "AkgZ_nC9_VZ8"
      },
      "source": [
        "# Flair Intership: Implementation of Encoder-Decoder techniques for Forecasting of levels of $CO_2$ using data collected from Airly devices\n",
        "\n",
        "## **Author**: Ignacio Acevedo"
      ]
    },
    {
      "cell_type": "code",
      "execution_count": 1,
      "metadata": {
        "id": "33EDQvCa1ktV"
      },
      "outputs": [],
      "source": [
        "# libraries and modules used through the implementation and analysis code\n",
        "\n",
        "import pandas as pd\n",
        "import numpy as np\n",
        "import matplotlib.pyplot as plt\n",
        "plt.rcParams.update({'font.size': 14})\n",
        "import os, re, sys\n",
        "from datetime import datetime, timedelta\n",
        "\n",
        "# libraries and modules specialized in deep learning\n",
        "\n",
        "import torch\n",
        "import torch.nn as nn\n",
        "import torch.nn.functional as F\n",
        "import torch.optim as optim\n",
        "from torch.utils.data import Dataset, DataLoader\n",
        "import numpy as np\n",
        "from scipy.spatial import distance\n",
        "from timeit import default_timer as timer\n",
        "from torch.utils.data import random_split"
      ]
    },
    {
      "cell_type": "markdown",
      "metadata": {
        "id": "REvjshZzJuAG"
      },
      "source": [
        "# Load data"
      ]
    },
    {
      "cell_type": "code",
      "execution_count": 2,
      "metadata": {
        "id": "SmY-RivjAUya"
      },
      "outputs": [],
      "source": [
        "# general function to generate sequences of time series\n",
        "\n",
        "def tseries_gen(data, deltaT, Lmin, Lmax, Lf, max_gap=500*1E+03, output=['co2'], N=20):\n",
        "  '''\n",
        "    Args:\n",
        "            data (DataFrame): data with the features of the device for the input.\n",
        "            deltaT (list/serie): list of the times from the last sample measured by the device.\n",
        "            Lmin (int): minimum length of the input time serie.\n",
        "            Lmax (int): maximum length of the input time serie.\n",
        "            Lf (int): length of the time serie to predict.\n",
        "            max_gap (float) : maximum value of the difference of time between samples.\n",
        "            output (str) : feature to predict in the output.\n",
        "            N (int) : Number of samples of time series with length between [Lmin, Lmax].\n",
        "    \n",
        "    Return: List of time series samples in the following structure\n",
        "            input_enc, input_dec, output_dec\n",
        "            where 'input_enc' is a list of features from 'data' with length between [Lmin, Lmax]. 'input_dec'\n",
        "            is the difference of times of 'output_dec' and 'output_dec' is the time serie to predict.\n",
        "    '''\n",
        "  input_enc = []\n",
        "  input_dec = []\n",
        "  output_dec = []\n",
        "  index = np.random.randint(Lmin, Lmax, size=N)\n",
        "  for i in range(len(data)-Lmax-Lf):\n",
        "    for j in index:\n",
        "      if (deltaT[i:i+j] < max_gap).all():\n",
        "        # seqs_enc.append([data[i:i+j], deltaT[i:i+j]])\n",
        "        input_enc.append(data[i:i+j])\n",
        "        input_dec.append(deltaT[i+j:i+j+Lf])\n",
        "        output_dec.append(data[i+j:i+j+Lf][output]) #, deltaT[i+j:i+j+Lf]])\n",
        "  \n",
        "  return input_enc, input_dec, output_dec"
      ]
    },
    {
      "cell_type": "code",
      "execution_count": 3,
      "metadata": {
        "id": "BefehwnWHL7s"
      },
      "outputs": [],
      "source": [
        "# # Aqui descargamos algunas funciones utiles para resolver la tarea y entrenar los modelos\n",
        "# if not os.path.exists('utils.py'):\n",
        "#   !wget https://raw.githubusercontent.com/dccuchile/CC6204/master/2020/tareas/tarea4/utils.py"
      ]
    },
    {
      "cell_type": "code",
      "execution_count": 4,
      "metadata": {
        "colab": {
          "base_uri": "https://localhost:8080/"
        },
        "id": "90p88VX1QB5F",
        "outputId": "1e29e529-7ee5-40b4-9789-762ef10ff425"
      },
      "outputs": [
        {
          "data": {
            "text/plain": [
              "['AirlyRNN.ipynb',\n",
              " 'chi-01.csv',\n",
              " 'chi-02.csv',\n",
              " 'chi-03.csv',\n",
              " 'chi-04.csv',\n",
              " 'data.csv',\n",
              " 'Encoder_Decoder_forecasting_of_CO2.ipynb',\n",
              " 'Internship-III-Flair',\n",
              " 'pkgrfnaf7e6fdc32vnsrtwqv7a.json',\n",
              " 'PreAnalysis',\n",
              " 'raw_data.csv',\n",
              " 'text.py']"
            ]
          },
          "execution_count": 4,
          "metadata": {},
          "output_type": "execute_result"
        }
      ],
      "source": [
        "# from google.colab import drive\n",
        "# drive.mount('/content/drive')\n",
        "\n",
        "os.listdir('./')"
      ]
    },
    {
      "cell_type": "code",
      "execution_count": 5,
      "metadata": {
        "id": "8tkoQtBx1NvX"
      },
      "outputs": [],
      "source": [
        "path = 'data.csv' #'/content/drive/MyDrive/7mo año/Práctica 2022/Data/data.csv'\n",
        "df = pd.read_csv(path, index_col='time')"
      ]
    },
    {
      "cell_type": "code",
      "execution_count": 6,
      "metadata": {
        "colab": {
          "base_uri": "https://localhost:8080/",
          "height": 237
        },
        "id": "xtSm1Z0H2AqM",
        "outputId": "847ddb02-659a-4d6a-8159-1a1e04d386bc"
      },
      "outputs": [
        {
          "data": {
            "text/html": [
              "<div>\n",
              "<style scoped>\n",
              "    .dataframe tbody tr th:only-of-type {\n",
              "        vertical-align: middle;\n",
              "    }\n",
              "\n",
              "    .dataframe tbody tr th {\n",
              "        vertical-align: top;\n",
              "    }\n",
              "\n",
              "    .dataframe thead th {\n",
              "        text-align: right;\n",
              "    }\n",
              "</style>\n",
              "<table border=\"1\" class=\"dataframe\">\n",
              "  <thead>\n",
              "    <tr style=\"text-align: right;\">\n",
              "      <th></th>\n",
              "      <th>sample_time</th>\n",
              "      <th>device_id</th>\n",
              "      <th>temperature</th>\n",
              "      <th>humidity</th>\n",
              "      <th>co2</th>\n",
              "      <th>hour</th>\n",
              "      <th>day_name</th>\n",
              "      <th>location</th>\n",
              "      <th>location_id</th>\n",
              "      <th>workday</th>\n",
              "      <th>dt_device</th>\n",
              "      <th>dt_location</th>\n",
              "    </tr>\n",
              "    <tr>\n",
              "      <th>time</th>\n",
              "      <th></th>\n",
              "      <th></th>\n",
              "      <th></th>\n",
              "      <th></th>\n",
              "      <th></th>\n",
              "      <th></th>\n",
              "      <th></th>\n",
              "      <th></th>\n",
              "      <th></th>\n",
              "      <th></th>\n",
              "      <th></th>\n",
              "      <th></th>\n",
              "    </tr>\n",
              "  </thead>\n",
              "  <tbody>\n",
              "    <tr>\n",
              "      <th>2021-08-04 16:09:38.272</th>\n",
              "      <td>1628107778272</td>\n",
              "      <td>gam-01</td>\n",
              "      <td>22.1</td>\n",
              "      <td>36</td>\n",
              "      <td>719</td>\n",
              "      <td>16.160556</td>\n",
              "      <td>Wednesday</td>\n",
              "      <td>gam</td>\n",
              "      <td>1</td>\n",
              "      <td>True</td>\n",
              "      <td>139239.0</td>\n",
              "      <td>67483.0</td>\n",
              "    </tr>\n",
              "    <tr>\n",
              "      <th>2021-08-04 16:11:10.627</th>\n",
              "      <td>1628107870627</td>\n",
              "      <td>gam-01</td>\n",
              "      <td>22.2</td>\n",
              "      <td>35</td>\n",
              "      <td>670</td>\n",
              "      <td>16.186111</td>\n",
              "      <td>Wednesday</td>\n",
              "      <td>gam</td>\n",
              "      <td>1</td>\n",
              "      <td>True</td>\n",
              "      <td>92355.0</td>\n",
              "      <td>92355.0</td>\n",
              "    </tr>\n",
              "    <tr>\n",
              "      <th>2021-08-04 16:12:07.277</th>\n",
              "      <td>1628107927277</td>\n",
              "      <td>gam-01</td>\n",
              "      <td>22.2</td>\n",
              "      <td>35</td>\n",
              "      <td>667</td>\n",
              "      <td>16.201944</td>\n",
              "      <td>Wednesday</td>\n",
              "      <td>gam</td>\n",
              "      <td>1</td>\n",
              "      <td>True</td>\n",
              "      <td>56650.0</td>\n",
              "      <td>56650.0</td>\n",
              "    </tr>\n",
              "    <tr>\n",
              "      <th>2021-08-04 16:13:04.394</th>\n",
              "      <td>1628107984394</td>\n",
              "      <td>gam-01</td>\n",
              "      <td>22.3</td>\n",
              "      <td>34</td>\n",
              "      <td>648</td>\n",
              "      <td>16.217778</td>\n",
              "      <td>Wednesday</td>\n",
              "      <td>gam</td>\n",
              "      <td>1</td>\n",
              "      <td>True</td>\n",
              "      <td>57117.0</td>\n",
              "      <td>57117.0</td>\n",
              "    </tr>\n",
              "    <tr>\n",
              "      <th>2021-08-04 16:14:01.490</th>\n",
              "      <td>1628108041490</td>\n",
              "      <td>gam-01</td>\n",
              "      <td>22.3</td>\n",
              "      <td>34</td>\n",
              "      <td>636</td>\n",
              "      <td>16.233611</td>\n",
              "      <td>Wednesday</td>\n",
              "      <td>gam</td>\n",
              "      <td>1</td>\n",
              "      <td>True</td>\n",
              "      <td>57096.0</td>\n",
              "      <td>57096.0</td>\n",
              "    </tr>\n",
              "  </tbody>\n",
              "</table>\n",
              "</div>"
            ],
            "text/plain": [
              "                           sample_time device_id  temperature  humidity  co2  \\\n",
              "time                                                                           \n",
              "2021-08-04 16:09:38.272  1628107778272    gam-01         22.1        36  719   \n",
              "2021-08-04 16:11:10.627  1628107870627    gam-01         22.2        35  670   \n",
              "2021-08-04 16:12:07.277  1628107927277    gam-01         22.2        35  667   \n",
              "2021-08-04 16:13:04.394  1628107984394    gam-01         22.3        34  648   \n",
              "2021-08-04 16:14:01.490  1628108041490    gam-01         22.3        34  636   \n",
              "\n",
              "                              hour   day_name location  location_id  workday  \\\n",
              "time                                                                           \n",
              "2021-08-04 16:09:38.272  16.160556  Wednesday      gam            1     True   \n",
              "2021-08-04 16:11:10.627  16.186111  Wednesday      gam            1     True   \n",
              "2021-08-04 16:12:07.277  16.201944  Wednesday      gam            1     True   \n",
              "2021-08-04 16:13:04.394  16.217778  Wednesday      gam            1     True   \n",
              "2021-08-04 16:14:01.490  16.233611  Wednesday      gam            1     True   \n",
              "\n",
              "                         dt_device  dt_location  \n",
              "time                                             \n",
              "2021-08-04 16:09:38.272   139239.0      67483.0  \n",
              "2021-08-04 16:11:10.627    92355.0      92355.0  \n",
              "2021-08-04 16:12:07.277    56650.0      56650.0  \n",
              "2021-08-04 16:13:04.394    57117.0      57117.0  \n",
              "2021-08-04 16:14:01.490    57096.0      57096.0  "
            ]
          },
          "execution_count": 6,
          "metadata": {},
          "output_type": "execute_result"
        }
      ],
      "source": [
        "df.head()"
      ]
    },
    {
      "cell_type": "markdown",
      "metadata": {
        "id": "ZpOrrX4x-edL"
      },
      "source": [
        "# Encode categorical variables and generate time series"
      ]
    },
    {
      "cell_type": "code",
      "execution_count": 7,
      "metadata": {
        "id": "lfPVeNqP2Uhd"
      },
      "outputs": [],
      "source": [
        "df.drop(columns=['sample_time', 'dt_location', 'location_id'], inplace=True)"
      ]
    },
    {
      "cell_type": "code",
      "execution_count": 8,
      "metadata": {
        "colab": {
          "base_uri": "https://localhost:8080/",
          "height": 237
        },
        "id": "uwV1Xd2L-oPx",
        "outputId": "eab92559-0b2c-45c8-daf4-dbd77a5661a9"
      },
      "outputs": [
        {
          "data": {
            "text/html": [
              "<div>\n",
              "<style scoped>\n",
              "    .dataframe tbody tr th:only-of-type {\n",
              "        vertical-align: middle;\n",
              "    }\n",
              "\n",
              "    .dataframe tbody tr th {\n",
              "        vertical-align: top;\n",
              "    }\n",
              "\n",
              "    .dataframe thead th {\n",
              "        text-align: right;\n",
              "    }\n",
              "</style>\n",
              "<table border=\"1\" class=\"dataframe\">\n",
              "  <thead>\n",
              "    <tr style=\"text-align: right;\">\n",
              "      <th></th>\n",
              "      <th>device_id</th>\n",
              "      <th>temperature</th>\n",
              "      <th>humidity</th>\n",
              "      <th>co2</th>\n",
              "      <th>hour</th>\n",
              "      <th>dt_device</th>\n",
              "      <th>location_gam</th>\n",
              "      <th>location_hcm</th>\n",
              "      <th>workday_False</th>\n",
              "      <th>workday_True</th>\n",
              "    </tr>\n",
              "    <tr>\n",
              "      <th>time</th>\n",
              "      <th></th>\n",
              "      <th></th>\n",
              "      <th></th>\n",
              "      <th></th>\n",
              "      <th></th>\n",
              "      <th></th>\n",
              "      <th></th>\n",
              "      <th></th>\n",
              "      <th></th>\n",
              "      <th></th>\n",
              "    </tr>\n",
              "  </thead>\n",
              "  <tbody>\n",
              "    <tr>\n",
              "      <th>2021-08-04 16:09:38.272</th>\n",
              "      <td>gam-01</td>\n",
              "      <td>22.1</td>\n",
              "      <td>36</td>\n",
              "      <td>719</td>\n",
              "      <td>16.160556</td>\n",
              "      <td>139239.0</td>\n",
              "      <td>1</td>\n",
              "      <td>0</td>\n",
              "      <td>0</td>\n",
              "      <td>1</td>\n",
              "    </tr>\n",
              "    <tr>\n",
              "      <th>2021-08-04 16:11:10.627</th>\n",
              "      <td>gam-01</td>\n",
              "      <td>22.2</td>\n",
              "      <td>35</td>\n",
              "      <td>670</td>\n",
              "      <td>16.186111</td>\n",
              "      <td>92355.0</td>\n",
              "      <td>1</td>\n",
              "      <td>0</td>\n",
              "      <td>0</td>\n",
              "      <td>1</td>\n",
              "    </tr>\n",
              "    <tr>\n",
              "      <th>2021-08-04 16:12:07.277</th>\n",
              "      <td>gam-01</td>\n",
              "      <td>22.2</td>\n",
              "      <td>35</td>\n",
              "      <td>667</td>\n",
              "      <td>16.201944</td>\n",
              "      <td>56650.0</td>\n",
              "      <td>1</td>\n",
              "      <td>0</td>\n",
              "      <td>0</td>\n",
              "      <td>1</td>\n",
              "    </tr>\n",
              "    <tr>\n",
              "      <th>2021-08-04 16:13:04.394</th>\n",
              "      <td>gam-01</td>\n",
              "      <td>22.3</td>\n",
              "      <td>34</td>\n",
              "      <td>648</td>\n",
              "      <td>16.217778</td>\n",
              "      <td>57117.0</td>\n",
              "      <td>1</td>\n",
              "      <td>0</td>\n",
              "      <td>0</td>\n",
              "      <td>1</td>\n",
              "    </tr>\n",
              "    <tr>\n",
              "      <th>2021-08-04 16:14:01.490</th>\n",
              "      <td>gam-01</td>\n",
              "      <td>22.3</td>\n",
              "      <td>34</td>\n",
              "      <td>636</td>\n",
              "      <td>16.233611</td>\n",
              "      <td>57096.0</td>\n",
              "      <td>1</td>\n",
              "      <td>0</td>\n",
              "      <td>0</td>\n",
              "      <td>1</td>\n",
              "    </tr>\n",
              "  </tbody>\n",
              "</table>\n",
              "</div>"
            ],
            "text/plain": [
              "                        device_id  temperature  humidity  co2       hour  \\\n",
              "time                                                                       \n",
              "2021-08-04 16:09:38.272    gam-01         22.1        36  719  16.160556   \n",
              "2021-08-04 16:11:10.627    gam-01         22.2        35  670  16.186111   \n",
              "2021-08-04 16:12:07.277    gam-01         22.2        35  667  16.201944   \n",
              "2021-08-04 16:13:04.394    gam-01         22.3        34  648  16.217778   \n",
              "2021-08-04 16:14:01.490    gam-01         22.3        34  636  16.233611   \n",
              "\n",
              "                         dt_device  location_gam  location_hcm  workday_False  \\\n",
              "time                                                                            \n",
              "2021-08-04 16:09:38.272   139239.0             1             0              0   \n",
              "2021-08-04 16:11:10.627    92355.0             1             0              0   \n",
              "2021-08-04 16:12:07.277    56650.0             1             0              0   \n",
              "2021-08-04 16:13:04.394    57117.0             1             0              0   \n",
              "2021-08-04 16:14:01.490    57096.0             1             0              0   \n",
              "\n",
              "                         workday_True  \n",
              "time                                   \n",
              "2021-08-04 16:09:38.272             1  \n",
              "2021-08-04 16:11:10.627             1  \n",
              "2021-08-04 16:12:07.277             1  \n",
              "2021-08-04 16:13:04.394             1  \n",
              "2021-08-04 16:14:01.490             1  "
            ]
          },
          "execution_count": 8,
          "metadata": {},
          "output_type": "execute_result"
        }
      ],
      "source": [
        "# One hot encoding for categorical variables\n",
        "\n",
        "df.drop(columns=['day_name'], inplace=True)\n",
        "df = pd.get_dummies(df, columns=['location', 'workday'])\n",
        "df.index = pd.to_datetime(df.index)\n",
        "df.head()"
      ]
    },
    {
      "cell_type": "code",
      "execution_count": 9,
      "metadata": {
        "id": "li-mKoONEoCF"
      },
      "outputs": [],
      "source": [
        "# Normalization\n",
        "# We could use scalar scikit-learn functions here\n",
        "\n",
        "mu = [df[feature].mean() for feature in ['temperature', 'humidity', 'co2', 'hour', 'dt_device']]\n",
        "sigma = [df[feature].std() for feature in ['temperature', 'humidity', 'co2', 'hour', 'dt_device']]\n",
        "\n",
        "for feature in ['temperature', 'humidity', 'co2', 'hour', 'dt_device']:\n",
        "  mean = df[feature].mean()\n",
        "  std = df[feature].std()\n",
        "  df[feature] -= mean\n",
        "  df[feature] /= std\n",
        "\n",
        "  mu.append(mean)\n",
        "  sigma.append(std)"
      ]
    },
    {
      "cell_type": "code",
      "execution_count": 10,
      "metadata": {
        "id": "ur2V-zPE-730"
      },
      "outputs": [],
      "source": [
        "mask = df.device_id == 'hcm-15'\n",
        "\n",
        "data = df[mask]\n",
        "deltaT = df[mask].dt_device\n",
        "data = df[mask].drop(columns=['device_id'])\n",
        "\n",
        "Lmin = 90 # \\approx 1 hour and a half\n",
        "Lmax = 180 # \\approx 3 hours\n",
        "Lf = 30 # \\approx 30 minutes\n",
        "max_gap = deltaT.quantile([0.99]).item()\n",
        "\n",
        "input_enc_test1, input_dec_test1, output_test1 = tseries_gen(data, deltaT, Lmin, Lmax, Lf, max_gap=max_gap, N=10)\n"
      ]
    },
    {
      "cell_type": "code",
      "execution_count": 11,
      "metadata": {
        "colab": {
          "base_uri": "https://localhost:8080/"
        },
        "id": "V6PcHJfG_oJU",
        "outputId": "e31e1eeb-629d-4872-c381-c25c08c5b280"
      },
      "outputs": [
        {
          "name": "stdout",
          "output_type": "stream",
          "text": [
            "total length of the serie: 37518\n",
            "total length of the future real CO2 value: 232744\n",
            "time series with random length from 90 to 180, and predicted length of 30: 232744\n",
            "number of devices: 49\n"
          ]
        }
      ],
      "source": [
        "print(f'total length of the serie: {len(data)}')\n",
        "print(f'total length of the future real CO2 value: {len(output_test1)}')\n",
        "print(f'time series with random length from {Lmin} to {Lmax}, and predicted length of {Lf}:', len(input_enc_test1))\n",
        "print('number of devices:', len(df.device_id.unique()))"
      ]
    },
    {
      "cell_type": "code",
      "execution_count": 12,
      "metadata": {
        "colab": {
          "base_uri": "https://localhost:8080/",
          "height": 900
        },
        "id": "tHqD3uUd_7Gr",
        "outputId": "23319cc3-0238-477a-ae5b-d1d624b42291"
      },
      "outputs": [
        {
          "data": {
            "image/png": "[encoded data removed]",
            "text/plain": [
              "<Figure size 1080x432 with 1 Axes>"
            ]
          },
          "metadata": {
            "needs_background": "light"
          },
          "output_type": "display_data"
        },
        {
          "data": {
            "image/png": "[encoded data removed]",
            "text/plain": [
              "<Figure size 1080x432 with 1 Axes>"
            ]
          },
          "metadata": {
            "needs_background": "light"
          },
          "output_type": "display_data"
        }
      ],
      "source": [
        "fig, ax = plt.subplots(figsize=(15, 6))\n",
        "index = np.random.randint(len(input_enc_test1))\n",
        "((sigma[-1]*input_enc_test1[index] + mu[-1]).dt_device / 1000).plot(y='$\\\\Delta t$ device [ms]', ax=ax, label=f'serie {index}')\n",
        "plt.xticks(rotation=45)\n",
        "handles, labels = ax.get_legend_handles_labels()\n",
        "ax.tick_params(axis='x', labelsize=20)\n",
        "ax.tick_params(axis='y', labelsize=20)\n",
        "ax.set_xlabel(\"Time\", fontsize=20)\n",
        "ax.set_title('Random example from data', fontsize=20)\n",
        "ax.set_ylabel('$\\\\Delta t$ device [ms]', fontsize=20)\n",
        "\n",
        "fig, ax = plt.subplots(figsize=(15, 6))\n",
        "ax.plot((sigma[2]*input_enc_test1[index] + mu[2]).co2, label='Input Encoder')\n",
        "ax.plot((sigma[2]*output_test1[index] + mu[2]), label='real co2')\n",
        "plt.xticks(rotation=45)\n",
        "handles, labels = ax.get_legend_handles_labels()\n",
        "ax.tick_params(axis='x', labelsize=20)\n",
        "ax.tick_params(axis='y', labelsize=20)\n",
        "ax.set_xlabel(\"Time\", fontsize=20)\n",
        "ax.legend()\n",
        "ax.set_ylabel('$CO_2$ [ppm]', fontsize=20);"
      ]
    },
    {
      "cell_type": "markdown",
      "metadata": {
        "id": "PzyS0msGBexR"
      },
      "source": [
        "# Custom Dataset"
      ]
    },
    {
      "cell_type": "code",
      "execution_count": 13,
      "metadata": {
        "id": "2D0PSbWtAL1z"
      },
      "outputs": [],
      "source": [
        "# we pass data to numpy arrays\n",
        "\n",
        "input_enc_test = [np.asarray(xserie) for xserie in input_enc_test1]\n",
        "input_dec_test = [np.asanyarray(serie) for serie in input_dec_test1]\n",
        "labels_test = [np.asanyarray(serie) for serie in output_test1]"
      ]
    },
    {
      "cell_type": "code",
      "execution_count": 14,
      "metadata": {},
      "outputs": [],
      "source": [
        "def collate_seqs(batch):\n",
        "    input_enc, input_dec, targets = [], [], []\n",
        "    \n",
        "    for x, deltat, y in batch:\n",
        "        input_enc.append(x)\n",
        "        input_dec.append(deltat)\n",
        "        targets.append(y)\n",
        "    input_enc = pack_sequence(input_enc, enforce_sorted=False)\n",
        "    input_dec = torch.stack(input_dec, dim=0)\n",
        "    targets = torch.stack(targets, dim=0)\n",
        "\n",
        "\n",
        "    return [input_enc, input_dec, targets]"
      ]
    },
    {
      "cell_type": "code",
      "execution_count": 15,
      "metadata": {
        "id": "Ao42aGxsCUZh"
      },
      "outputs": [],
      "source": [
        "class TSeriesDataset(Dataset):\n",
        "  def __init__(self, data_enc, data_dec, target):\n",
        "    self.Y = target\n",
        "    self.data_enc = data_enc\n",
        "    self.data_dec = data_dec\n",
        "    # self.deltaTdecoder = features[:][1]\n",
        "  \n",
        "  def __len__(self):\n",
        "    return len(self.Y)\n",
        "  \n",
        "  def __getitem__(self, idx):\n",
        "    X = torch.tensor(self.data_enc[idx], dtype=torch.float)\n",
        "    deltaT_dec = torch.tensor(self.data_dec[idx], dtype=torch.float).view(-1, 1)\n",
        "    Y = torch.tensor(self.Y[idx], dtype=torch.float).view(-1, 1)\n",
        "\n",
        "    return X, deltaT_dec, Y"
      ]
    },
    {
      "cell_type": "code",
      "execution_count": 84,
      "metadata": {
        "colab": {
          "base_uri": "https://localhost:8080/"
        },
        "id": "HSDVQ1BoMObS",
        "outputId": "5aec6e95-482a-4ea4-c300-cb0cdb099828"
      },
      "outputs": [
        {
          "name": "stdout",
          "output_type": "stream",
          "text": [
            "tensor([[ 5.5539e-01, -4.9290e-01, -1.6250e-02,  7.5882e-01, -1.1297e-02,\n",
            "          0.0000e+00,  1.0000e+00,  0.0000e+00,  1.0000e+00],\n",
            "        [ 5.5539e-01, -4.9290e-01, -1.6250e-02,  7.6165e-01, -2.5218e-02,\n",
            "          0.0000e+00,  1.0000e+00,  0.0000e+00,  1.0000e+00],\n",
            "        [ 5.5539e-01, -4.9290e-01, -1.6250e-02,  7.6754e-01, -9.9869e-03,\n",
            "          0.0000e+00,  1.0000e+00,  0.0000e+00,  1.0000e+00],\n",
            "        [ 5.5539e-01, -4.9290e-01, -1.6250e-02,  7.7081e-01, -2.3199e-02,\n",
            "          0.0000e+00,  1.0000e+00,  0.0000e+00,  1.0000e+00],\n",
            "        [ 5.5539e-01, -4.9290e-01, -1.6250e-02,  7.7379e-01, -2.4517e-02,\n",
            "          0.0000e+00,  1.0000e+00,  0.0000e+00,  1.0000e+00],\n",
            "        [ 5.5539e-01, -4.9290e-01, -1.6250e-02,  7.7897e-01, -1.3477e-02,\n",
            "          0.0000e+00,  1.0000e+00,  0.0000e+00,  1.0000e+00],\n",
            "        [ 5.5539e-01, -4.9290e-01, -1.6250e-02,  7.8199e-01, -2.4385e-02,\n",
            "          0.0000e+00,  1.0000e+00,  0.0000e+00,  1.0000e+00],\n",
            "        [ 5.5539e-01, -4.9290e-01, -1.6250e-02,  7.8498e-01, -2.4492e-02,\n",
            "          0.0000e+00,  1.0000e+00,  0.0000e+00,  1.0000e+00],\n",
            "        [ 5.5539e-01, -4.9290e-01, -1.6250e-02,  7.8860e-01, -2.1389e-02,\n",
            "          0.0000e+00,  1.0000e+00,  0.0000e+00,  1.0000e+00],\n",
            "        [ 5.5539e-01, -4.9290e-01, -1.6250e-02,  7.9147e-01, -2.5162e-02,\n",
            "          0.0000e+00,  1.0000e+00,  0.0000e+00,  1.0000e+00],\n",
            "        [ 5.5539e-01, -4.9290e-01, -1.6251e-02,  7.9657e-01, -1.3991e-02,\n",
            "          0.0000e+00,  1.0000e+00,  0.0000e+00,  1.0000e+00],\n",
            "        [ 5.5539e-01, -4.9290e-01, -1.6251e-02,  7.9935e-01, -2.5518e-02,\n",
            "          0.0000e+00,  1.0000e+00,  0.0000e+00,  1.0000e+00],\n",
            "        [ 5.5539e-01, -4.9290e-01, -1.6251e-02,  8.0262e-01, -2.3262e-02,\n",
            "          0.0000e+00,  1.0000e+00,  0.0000e+00,  1.0000e+00],\n",
            "        [ 5.5539e-01, -4.9290e-01, -1.6251e-02,  8.0561e-01, -2.4430e-02,\n",
            "          0.0000e+00,  1.0000e+00,  0.0000e+00,  1.0000e+00],\n",
            "        [ 5.5539e-01, -4.9290e-01, -1.6251e-02,  8.1457e-01,  5.5878e-03,\n",
            "          0.0000e+00,  1.0000e+00,  0.0000e+00,  1.0000e+00],\n",
            "        [ 5.5539e-01, -4.9290e-01, -1.6251e-02,  8.1763e-01, -2.4196e-02,\n",
            "          0.0000e+00,  1.0000e+00,  0.0000e+00,  1.0000e+00],\n",
            "        [ 5.5539e-01, -4.9290e-01, -1.6251e-02,  8.2078e-01, -2.3827e-02,\n",
            "          0.0000e+00,  1.0000e+00,  0.0000e+00,  1.0000e+00],\n",
            "        [ 3.6934e-01, -4.9290e-01, -1.6251e-02,  8.2615e-01, -1.2448e-02,\n",
            "          0.0000e+00,  1.0000e+00,  0.0000e+00,  1.0000e+00],\n",
            "        [ 3.6934e-01, -4.9290e-01, -1.6251e-02,  8.2886e-01, -2.6070e-02,\n",
            "          0.0000e+00,  1.0000e+00,  0.0000e+00,  1.0000e+00],\n",
            "        [ 3.6934e-01, -4.9290e-01, -1.6251e-02,  8.3165e-01, -2.5483e-02,\n",
            "          0.0000e+00,  1.0000e+00,  0.0000e+00,  1.0000e+00],\n",
            "        [ 3.6934e-01, -4.9290e-01, -1.6251e-02,  8.3806e-01, -7.2664e-03,\n",
            "          0.0000e+00,  1.0000e+00,  0.0000e+00,  1.0000e+00],\n",
            "        [ 3.6934e-01, -4.9290e-01, -1.6251e-02,  8.4228e-01, -1.8459e-02,\n",
            "          0.0000e+00,  1.0000e+00,  0.0000e+00,  1.0000e+00],\n",
            "        [ 3.6934e-01, -4.9290e-01, -1.6251e-02,  8.4618e-01, -1.9952e-02,\n",
            "          0.0000e+00,  1.0000e+00,  0.0000e+00,  1.0000e+00],\n",
            "        [ 5.0888e-01, -4.9290e-01, -1.6251e-02,  8.4885e-01, -2.6066e-02,\n",
            "          0.0000e+00,  1.0000e+00,  0.0000e+00,  1.0000e+00],\n",
            "        [ 3.6934e-01, -4.9290e-01, -1.6251e-02,  8.5164e-01, -2.5677e-02,\n",
            "          0.0000e+00,  1.0000e+00,  0.0000e+00,  1.0000e+00],\n",
            "        [ 3.6934e-01, -4.9290e-01, -1.6251e-02,  8.5438e-01, -2.5603e-02,\n",
            "          0.0000e+00,  1.0000e+00,  0.0000e+00,  1.0000e+00],\n",
            "        [ 3.6934e-01, -4.9290e-01, -1.6251e-02,  8.6119e-01, -5.3904e-03,\n",
            "          0.0000e+00,  1.0000e+00,  0.0000e+00,  1.0000e+00],\n",
            "        [ 3.6934e-01, -4.9290e-01, -1.6251e-02,  8.6402e-01, -2.5351e-02,\n",
            "          0.0000e+00,  1.0000e+00,  0.0000e+00,  1.0000e+00],\n",
            "        [ 3.6934e-01, -4.9290e-01, -1.6251e-02,  8.6693e-01, -2.4902e-02,\n",
            "          0.0000e+00,  1.0000e+00,  0.0000e+00,  1.0000e+00],\n",
            "        [ 3.6934e-01, -4.9290e-01, -1.6251e-02,  8.6983e-01, -2.4970e-02,\n",
            "          0.0000e+00,  1.0000e+00,  0.0000e+00,  1.0000e+00],\n",
            "        [ 3.6934e-01, -4.9290e-01, -1.6251e-02,  8.7282e-01, -2.4697e-02,\n",
            "          0.0000e+00,  1.0000e+00,  0.0000e+00,  1.0000e+00],\n",
            "        [ 3.6934e-01, -4.9290e-01, -1.6251e-02,  8.7831e-01, -1.1898e-02,\n",
            "          0.0000e+00,  1.0000e+00,  0.0000e+00,  1.0000e+00],\n",
            "        [ 5.0888e-01, -4.9290e-01, -1.6251e-02,  8.8106e-01, -2.5631e-02,\n",
            "          0.0000e+00,  1.0000e+00,  0.0000e+00,  1.0000e+00],\n",
            "        [ 5.5539e-01, -4.9290e-01, -1.6251e-02,  8.8361e-01, -2.6792e-02,\n",
            "          0.0000e+00,  1.0000e+00,  0.0000e+00,  1.0000e+00],\n",
            "        [ 5.5539e-01, -4.9290e-01, -1.6251e-02,  8.8731e-01, -2.1020e-02,\n",
            "          0.0000e+00,  1.0000e+00,  0.0000e+00,  1.0000e+00],\n",
            "        [ 5.5539e-01, -4.9290e-01, -1.6251e-02,  8.9058e-01, -2.3077e-02,\n",
            "          0.0000e+00,  1.0000e+00,  0.0000e+00,  1.0000e+00],\n",
            "        [ 5.5539e-01, -4.9290e-01, -1.6251e-02,  8.9655e-01, -9.6168e-03,\n",
            "          0.0000e+00,  1.0000e+00,  0.0000e+00,  1.0000e+00],\n",
            "        [ 5.5539e-01, -4.9290e-01, -1.6251e-02,  8.9954e-01, -2.4452e-02,\n",
            "          0.0000e+00,  1.0000e+00,  0.0000e+00,  1.0000e+00],\n",
            "        [ 5.5539e-01, -4.9290e-01, -1.6251e-02,  9.0296e-01, -2.2337e-02,\n",
            "          0.0000e+00,  1.0000e+00,  0.0000e+00,  1.0000e+00],\n",
            "        [ 5.5539e-01, -2.9782e-01, -1.6251e-02,  9.1136e-01,  2.6928e-03,\n",
            "          0.0000e+00,  1.0000e+00,  0.0000e+00,  1.0000e+00],\n",
            "        [ 5.5539e-01, -4.9290e-01, -1.6251e-02,  9.1403e-01, -2.6181e-02,\n",
            "          0.0000e+00,  1.0000e+00,  0.0000e+00,  1.0000e+00],\n",
            "        [ 5.5539e-01, -2.9782e-01, -1.6251e-02,  9.2024e-01, -8.2210e-03,\n",
            "          0.0000e+00,  1.0000e+00,  0.0000e+00,  1.0000e+00],\n",
            "        [ 5.5539e-01, -2.9782e-01, -1.6251e-02,  9.2407e-01, -2.0342e-02,\n",
            "          0.0000e+00,  1.0000e+00,  0.0000e+00,  1.0000e+00],\n",
            "        [ 5.5539e-01, -2.9782e-01, -1.6251e-02,  9.2701e-01, -2.4778e-02,\n",
            "          0.0000e+00,  1.0000e+00,  0.0000e+00,  1.0000e+00],\n",
            "        [ 5.5539e-01, -2.9782e-01, -1.6251e-02,  9.2996e-01, -2.4900e-02,\n",
            "          0.0000e+00,  1.0000e+00,  0.0000e+00,  1.0000e+00],\n",
            "        [ 5.5539e-01, -2.9782e-01, -1.6251e-02,  9.3263e-01, -2.6059e-02,\n",
            "          0.0000e+00,  1.0000e+00,  0.0000e+00,  1.0000e+00],\n",
            "        [ 5.5539e-01, -2.9782e-01, -1.6251e-02,  9.3573e-01, -2.4060e-02,\n",
            "          0.0000e+00,  1.0000e+00,  0.0000e+00,  1.0000e+00],\n",
            "        [ 5.5539e-01, -2.9782e-01, -1.6251e-02,  9.4465e-01,  5.3898e-03,\n",
            "          0.0000e+00,  1.0000e+00,  0.0000e+00,  1.0000e+00],\n",
            "        [ 5.5539e-01, -2.9782e-01, -1.6251e-02,  9.4764e-01, -2.4451e-02,\n",
            "          0.0000e+00,  1.0000e+00,  0.0000e+00,  1.0000e+00],\n",
            "        [ 5.5539e-01, -2.9782e-01, -1.6251e-02,  9.5043e-01, -2.5604e-02,\n",
            "          0.0000e+00,  1.0000e+00,  0.0000e+00,  1.0000e+00],\n",
            "        [ 5.5539e-01, -2.9782e-01, -1.6251e-02,  9.5313e-01, -2.6040e-02,\n",
            "          0.0000e+00,  1.0000e+00,  0.0000e+00,  1.0000e+00],\n",
            "        [ 5.5539e-01, -2.9782e-01, -1.6251e-02,  9.5640e-01, -2.3166e-02,\n",
            "          0.0000e+00,  1.0000e+00,  0.0000e+00,  1.0000e+00],\n",
            "        [ 5.5539e-01, -2.9782e-01, -1.6251e-02,  9.5887e-01, -2.7081e-02,\n",
            "          0.0000e+00,  1.0000e+00,  0.0000e+00,  1.0000e+00],\n",
            "        [ 5.5539e-01, -2.9782e-01, -1.6251e-02,  9.6249e-01, -2.1334e-02,\n",
            "          0.0000e+00,  1.0000e+00,  0.0000e+00,  1.0000e+00],\n",
            "        [ 5.5539e-01, -2.9782e-01, -1.6251e-02,  9.6791e-01, -1.2347e-02,\n",
            "          0.0000e+00,  1.0000e+00,  0.0000e+00,  1.0000e+00],\n",
            "        [ 5.5539e-01, -2.9782e-01, -1.6251e-02,  9.7475e-01, -5.1691e-03,\n",
            "          0.0000e+00,  1.0000e+00,  0.0000e+00,  1.0000e+00],\n",
            "        [ 5.5539e-01, -2.9782e-01, -1.6251e-02,  9.7770e-01, -2.4719e-02,\n",
            "          0.0000e+00,  1.0000e+00,  0.0000e+00,  1.0000e+00],\n",
            "        [ 5.5539e-01, -2.9782e-01, -1.6251e-02,  9.8025e-01, -2.6754e-02,\n",
            "          0.0000e+00,  1.0000e+00,  0.0000e+00,  1.0000e+00],\n",
            "        [ 5.5539e-01, -2.9782e-01, -1.6251e-02,  9.8574e-01, -1.1938e-02,\n",
            "          0.0000e+00,  1.0000e+00,  0.0000e+00,  1.0000e+00],\n",
            "        [ 5.5539e-01, -2.9782e-01, -1.6251e-02,  9.9192e-01, -8.5415e-03,\n",
            "          0.0000e+00,  1.0000e+00,  0.0000e+00,  1.0000e+00],\n",
            "        [ 5.5539e-01, -2.9782e-01, -1.6251e-02,  9.9486e-01, -2.4746e-02,\n",
            "          0.0000e+00,  1.0000e+00,  0.0000e+00,  1.0000e+00],\n",
            "        [ 5.5539e-01, -2.9782e-01, -1.6251e-02,  9.9884e-01, -1.9510e-02,\n",
            "          0.0000e+00,  1.0000e+00,  0.0000e+00,  1.0000e+00],\n",
            "        [ 5.5539e-01, -2.9782e-01, -1.6251e-02,  1.0014e+00, -2.6658e-02,\n",
            "          0.0000e+00,  1.0000e+00,  0.0000e+00,  1.0000e+00],\n",
            "        [ 5.5539e-01, -2.9782e-01, -1.6251e-02,  1.0043e+00, -2.4967e-02,\n",
            "          0.0000e+00,  1.0000e+00,  0.0000e+00,  1.0000e+00],\n",
            "        [ 5.5539e-01, -2.9782e-01, -1.6251e-02,  1.0074e+00, -2.4320e-02,\n",
            "          0.0000e+00,  1.0000e+00,  0.0000e+00,  1.0000e+00],\n",
            "        [ 5.0888e-01, -2.9782e-01, -1.6251e-02,  1.0100e+00, -2.6578e-02,\n",
            "          0.0000e+00,  1.0000e+00,  0.0000e+00,  1.0000e+00],\n",
            "        [ 4.1585e-01, -2.9782e-01, -1.6251e-02,  1.0168e+00, -4.7186e-03,\n",
            "          0.0000e+00,  1.0000e+00,  0.0000e+00,  1.0000e+00],\n",
            "        [ 5.0888e-01, -2.9782e-01, -1.6251e-02,  1.0211e+00, -1.8160e-02,\n",
            "          0.0000e+00,  1.0000e+00,  0.0000e+00,  1.0000e+00],\n",
            "        [ 3.6934e-01, -2.9782e-01, -1.6251e-02,  1.0278e+00, -5.7173e-03,\n",
            "          0.0000e+00,  1.0000e+00,  0.0000e+00,  1.0000e+00],\n",
            "        [ 3.6934e-01, -2.9782e-01, -1.6251e-02,  1.0309e+00, -2.4274e-02,\n",
            "          0.0000e+00,  1.0000e+00,  0.0000e+00,  1.0000e+00],\n",
            "        [ 3.6934e-01, -2.9782e-01, -1.6251e-02,  1.0376e+00, -5.6582e-03,\n",
            "          0.0000e+00,  1.0000e+00,  0.0000e+00,  1.0000e+00],\n",
            "        [ 3.6934e-01, -2.9782e-01, -1.6251e-02,  1.0403e+00, -2.6118e-02,\n",
            "          0.0000e+00,  1.0000e+00,  0.0000e+00,  1.0000e+00],\n",
            "        [ 3.6934e-01, -2.9782e-01, -1.6251e-02,  1.0458e+00, -1.1736e-02,\n",
            "          0.0000e+00,  1.0000e+00,  0.0000e+00,  1.0000e+00],\n",
            "        [ 3.6934e-01, -1.0273e-01, -1.6251e-02,  1.0526e+00, -5.7127e-03,\n",
            "          0.0000e+00,  1.0000e+00,  0.0000e+00,  1.0000e+00],\n",
            "        [ 3.6934e-01, -1.0273e-01, -1.6251e-02,  1.0581e+00, -1.1875e-02,\n",
            "          0.0000e+00,  1.0000e+00,  0.0000e+00,  1.0000e+00],\n",
            "        [ 3.6934e-01, -1.0273e-01, -1.6251e-02,  1.0608e+00, -2.5927e-02,\n",
            "          0.0000e+00,  1.0000e+00,  0.0000e+00,  1.0000e+00],\n",
            "        [ 3.6934e-01, -1.0273e-01, -1.6251e-02,  1.0637e+00, -2.4779e-02,\n",
            "          0.0000e+00,  1.0000e+00,  0.0000e+00,  1.0000e+00],\n",
            "        [ 3.6934e-01, -1.0273e-01, -1.6251e-02,  1.0662e+00, -2.6951e-02,\n",
            "          0.0000e+00,  1.0000e+00,  0.0000e+00,  1.0000e+00],\n",
            "        [ 3.6934e-01, -1.0273e-01, -1.6251e-02,  1.0714e+00, -1.3810e-02,\n",
            "          0.0000e+00,  1.0000e+00,  0.0000e+00,  1.0000e+00],\n",
            "        [ 3.6934e-01, -1.0273e-01, -1.6251e-02,  1.0748e+00, -2.2264e-02,\n",
            "          0.0000e+00,  1.0000e+00,  0.0000e+00,  1.0000e+00],\n",
            "        [ 3.6934e-01, -1.0273e-01, -1.6251e-02,  1.0779e+00, -2.4132e-02,\n",
            "          0.0000e+00,  1.0000e+00,  0.0000e+00,  1.0000e+00],\n",
            "        [ 3.6934e-01, -1.0273e-01, -1.6251e-02,  1.0811e+00, -2.3228e-02,\n",
            "          0.0000e+00,  1.0000e+00,  0.0000e+00,  1.0000e+00],\n",
            "        [ 3.6934e-01, -1.0273e-01, -1.6251e-02,  1.0839e+00, -2.5613e-02,\n",
            "          0.0000e+00,  1.0000e+00,  0.0000e+00,  1.0000e+00],\n",
            "        [ 3.6934e-01, -1.0273e-01, -1.6251e-02,  1.0874e+00, -2.2081e-02,\n",
            "          0.0000e+00,  1.0000e+00,  0.0000e+00,  1.0000e+00],\n",
            "        [ 3.6934e-01, -1.0273e-01, -1.6251e-02,  1.0910e+00, -2.1346e-02,\n",
            "          0.0000e+00,  1.0000e+00,  0.0000e+00,  1.0000e+00],\n",
            "        [ 3.6934e-01, -1.0273e-01, -1.6251e-02,  1.0943e+00, -2.2934e-02,\n",
            "          0.0000e+00,  1.0000e+00,  0.0000e+00,  1.0000e+00],\n",
            "        [ 3.6934e-01, -1.0273e-01, -1.6251e-02,  1.0972e+00, -2.5026e-02,\n",
            "          0.0000e+00,  1.0000e+00,  0.0000e+00,  1.0000e+00],\n",
            "        [ 3.6934e-01, -1.0273e-01, -1.6251e-02,  1.1032e+00, -9.1944e-03,\n",
            "          0.0000e+00,  1.0000e+00,  0.0000e+00,  1.0000e+00],\n",
            "        [ 3.6934e-01, -1.0273e-01, -1.6251e-02,  1.1120e+00,  4.4389e-03,\n",
            "          0.0000e+00,  1.0000e+00,  0.0000e+00,  1.0000e+00],\n",
            "        [ 3.6934e-01, -1.0273e-01, -1.6251e-02,  1.1189e+00, -4.4826e-03,\n",
            "          0.0000e+00,  1.0000e+00,  0.0000e+00,  1.0000e+00],\n",
            "        [ 3.6934e-01, -1.0273e-01, -1.6251e-02,  1.1218e+00, -2.4963e-02,\n",
            "          0.0000e+00,  1.0000e+00,  0.0000e+00,  1.0000e+00],\n",
            "        [ 3.6934e-01,  9.2351e-02, -1.6251e-02,  1.1249e+00, -2.4007e-02,\n",
            "          0.0000e+00,  1.0000e+00,  0.0000e+00,  1.0000e+00],\n",
            "        [ 3.6934e-01,  9.2351e-02, -1.6251e-02,  1.1294e+00, -1.6831e-02,\n",
            "          0.0000e+00,  1.0000e+00,  0.0000e+00,  1.0000e+00],\n",
            "        [ 3.6934e-01,  9.2351e-02, -1.6251e-02,  1.1363e+00, -4.9278e-03,\n",
            "          0.0000e+00,  1.0000e+00,  0.0000e+00,  1.0000e+00],\n",
            "        [ 3.6934e-01,  9.2351e-02, -1.6251e-02,  1.1444e+00,  8.3384e-04,\n",
            "          0.0000e+00,  1.0000e+00,  0.0000e+00,  1.0000e+00],\n",
            "        [ 3.6934e-01,  9.2351e-02, -1.6251e-02,  1.1468e+00, -2.7361e-02,\n",
            "          0.0000e+00,  1.0000e+00,  0.0000e+00,  1.0000e+00],\n",
            "        [ 3.6934e-01,  9.2351e-02, -1.6251e-02,  1.1548e+00,  8.0696e-04,\n",
            "          0.0000e+00,  1.0000e+00,  0.0000e+00,  1.0000e+00],\n",
            "        [ 3.6934e-01,  9.2351e-02, -1.6251e-02,  1.1581e+00, -2.3305e-02,\n",
            "          0.0000e+00,  1.0000e+00,  0.0000e+00,  1.0000e+00],\n",
            "        [ 3.6934e-01,  9.2351e-02, -1.6251e-02,  1.1610e+00, -2.4906e-02,\n",
            "          0.0000e+00,  1.0000e+00,  0.0000e+00,  1.0000e+00],\n",
            "        [ 3.6934e-01,  9.2351e-02, -1.6251e-02,  1.1639e+00, -2.5159e-02,\n",
            "          0.0000e+00,  1.0000e+00,  0.0000e+00,  1.0000e+00],\n",
            "        [ 3.6934e-01,  9.2351e-02, -1.6251e-02,  1.1694e+00, -1.1593e-02,\n",
            "          0.0000e+00,  1.0000e+00,  0.0000e+00,  1.0000e+00],\n",
            "        [ 3.6934e-01,  9.2351e-02, -1.6251e-02,  1.1718e+00, -2.7399e-02,\n",
            "          0.0000e+00,  1.0000e+00,  0.0000e+00,  1.0000e+00],\n",
            "        [ 3.6934e-01,  9.2351e-02, -1.6251e-02,  1.1752e+00, -2.2686e-02,\n",
            "          0.0000e+00,  1.0000e+00,  0.0000e+00,  1.0000e+00],\n",
            "        [ 3.6934e-01,  9.2351e-02, -1.6251e-02,  1.1789e+00, -2.1173e-02,\n",
            "          0.0000e+00,  1.0000e+00,  0.0000e+00,  1.0000e+00],\n",
            "        [ 3.6934e-01,  9.2351e-02, -1.6251e-02,  1.1842e+00, -1.2390e-02,\n",
            "          0.0000e+00,  1.0000e+00,  0.0000e+00,  1.0000e+00],\n",
            "        [ 3.6934e-01,  9.2351e-02, -1.6251e-02,  1.1909e+00, -6.1598e-03,\n",
            "          0.0000e+00,  1.0000e+00,  0.0000e+00,  1.0000e+00],\n",
            "        [ 3.6934e-01,  9.2351e-02, -1.6251e-02,  1.1944e+00, -2.1687e-02,\n",
            "          0.0000e+00,  1.0000e+00,  0.0000e+00,  1.0000e+00],\n",
            "        [ 3.6934e-01,  9.2351e-02, -1.6251e-02,  1.1975e+00, -2.4269e-02,\n",
            "          0.0000e+00,  1.0000e+00,  0.0000e+00,  1.0000e+00],\n",
            "        [ 3.6934e-01,  9.2351e-02, -1.6251e-02,  1.2037e+00, -8.1399e-03,\n",
            "          0.0000e+00,  1.0000e+00,  0.0000e+00,  1.0000e+00],\n",
            "        [ 3.6934e-01,  9.2351e-02, -1.6251e-02,  1.2092e+00, -1.2261e-02,\n",
            "          0.0000e+00,  1.0000e+00,  0.0000e+00,  1.0000e+00],\n",
            "        [ 3.6934e-01,  9.2351e-02, -1.6251e-02,  1.2120e+00, -2.5616e-02,\n",
            "          0.0000e+00,  1.0000e+00,  0.0000e+00,  1.0000e+00]]) \n",
            " tensor([[-0.0257],\n",
            "        [-0.0266],\n",
            "        [-0.0254],\n",
            "        [-0.0269],\n",
            "        [-0.0127],\n",
            "        [-0.0267],\n",
            "        [-0.0257],\n",
            "        [-0.0104],\n",
            "        [-0.0260],\n",
            "        [-0.0250],\n",
            "        [-0.0003],\n",
            "        [-0.0112],\n",
            "        [-0.0226],\n",
            "        [-0.0258],\n",
            "        [-0.0255],\n",
            "        [-0.0268],\n",
            "        [-0.0209],\n",
            "        [-0.0201],\n",
            "        [-0.0048],\n",
            "        [-0.0239],\n",
            "        [-0.0184],\n",
            "        [-0.0255],\n",
            "        [-0.0238],\n",
            "        [-0.0118],\n",
            "        [-0.0250],\n",
            "        [-0.0228],\n",
            "        [-0.0247],\n",
            "        [-0.0249],\n",
            "        [-0.0243],\n",
            "        [-0.0258]]) \n",
            " tensor([[-0.0163],\n",
            "        [-0.0163],\n",
            "        [-0.0163],\n",
            "        [-0.0163],\n",
            "        [-0.0163],\n",
            "        [-0.0163],\n",
            "        [-0.0163],\n",
            "        [-0.0163],\n",
            "        [-0.0163],\n",
            "        [-0.0163],\n",
            "        [-0.0163],\n",
            "        [-0.0163],\n",
            "        [-0.0163],\n",
            "        [-0.0163],\n",
            "        [-0.0163],\n",
            "        [-0.0163],\n",
            "        [-0.0163],\n",
            "        [-0.0163],\n",
            "        [-0.0163],\n",
            "        [-0.0163],\n",
            "        [-0.0163],\n",
            "        [-0.0163],\n",
            "        [-0.0163],\n",
            "        [-0.0163],\n",
            "        [-0.0163],\n",
            "        [-0.0163],\n",
            "        [-0.0163],\n",
            "        [-0.0163],\n",
            "        [-0.0163],\n",
            "        [-0.0163]])\n"
          ]
        }
      ],
      "source": [
        "# test\n",
        "\n",
        "dataset = TSeriesDataset(data_enc=input_enc_test, data_dec=input_dec_test, target=labels_test)\n",
        "for i in range(len(dataset)):\n",
        "    x, deltat, y = dataset[i]\n",
        "    print(x, '\\n', deltat, '\\n', y)\n",
        "    if i == 0: break"
      ]
    },
    {
      "cell_type": "code",
      "execution_count": 99,
      "metadata": {},
      "outputs": [
        {
          "name": "stdout",
          "output_type": "stream",
          "text": [
            "PackedSequence(data=tensor([[ 0.5554, -0.4929, -0.0162,  ...,  1.0000,  0.0000,  1.0000],\n",
            "        [ 0.5554, -0.4929, -0.0162,  ...,  1.0000,  0.0000,  1.0000],\n",
            "        [ 0.5554, -0.4929, -0.0162,  ...,  1.0000,  0.0000,  1.0000],\n",
            "        ...,\n",
            "        [ 0.0903,  0.0924, -0.0163,  ...,  1.0000,  0.0000,  1.0000],\n",
            "        [ 0.1368,  0.0924, -0.0163,  ...,  1.0000,  0.0000,  1.0000],\n",
            "        [ 0.1368,  0.0924, -0.0163,  ...,  1.0000,  0.0000,  1.0000]]), batch_sizes=tensor([10, 10, 10, 10, 10, 10, 10, 10, 10, 10, 10, 10, 10, 10, 10, 10, 10, 10,\n",
            "        10, 10, 10, 10, 10, 10, 10, 10, 10, 10, 10, 10, 10, 10, 10, 10, 10, 10,\n",
            "        10, 10, 10, 10, 10, 10, 10, 10, 10, 10, 10, 10, 10, 10, 10, 10, 10, 10,\n",
            "        10, 10, 10, 10, 10, 10, 10, 10, 10, 10, 10, 10, 10, 10, 10, 10, 10, 10,\n",
            "        10, 10, 10, 10, 10, 10, 10, 10, 10, 10, 10, 10, 10, 10, 10, 10, 10, 10,\n",
            "        10, 10, 10, 10, 10, 10, 10, 10, 10, 10, 10, 10, 10, 10, 10, 10,  8,  8,\n",
            "         8,  7,  7,  6,  6,  6,  6,  6,  6,  6,  6,  6,  6,  6,  5,  5,  5,  5,\n",
            "         5,  5,  5,  5,  5,  4,  4,  4,  4,  4,  4,  4,  3,  3,  3,  3,  3,  3,\n",
            "         3,  3,  3,  3,  2,  2,  2,  2,  2,  2,  2,  1,  1,  1,  1,  1,  1,  1,\n",
            "         1,  1,  1,  1,  1,  1,  1,  1,  1,  1,  1]), sorted_indices=tensor([7, 5, 4, 9, 3, 8, 0, 2, 1, 6]), unsorted_indices=tensor([6, 8, 7, 4, 2, 1, 9, 0, 5, 3]))\n"
          ]
        }
      ],
      "source": [
        "loader_test = DataLoader(dataset, batch_size=10, collate_fn=collate_seqs)\n",
        "for idx, batch in enumerate(loader_test):\n",
        "    x, deltat, y = batch\n",
        "    break\n",
        "\n",
        "print(x)"
      ]
    },
    {
      "cell_type": "markdown",
      "metadata": {
        "id": "ypX-eR9UPVoI"
      },
      "source": [
        "# Encoder"
      ]
    },
    {
      "cell_type": "code",
      "execution_count": 16,
      "metadata": {
        "id": "qzdTYBx0U7-w"
      },
      "outputs": [],
      "source": [
        "from torch.nn.utils.rnn import pad_sequence, pack_padded_sequence, pack_sequence, pad_packed_sequence"
      ]
    },
    {
      "cell_type": "code",
      "execution_count": 17,
      "metadata": {
        "id": "o_3f9PgfMgH4"
      },
      "outputs": [],
      "source": [
        "class EncoderRNN(nn.Module):\n",
        "  def __init__(self, input_size, hidden_size, num_layers=1, dropout=0, batch_first=True):\n",
        "    super(EncoderRNN, self).__init__()\n",
        "    # self.num_layers = num_layers\n",
        "\n",
        "    self.hidden_size = hidden_size\n",
        "    # self.embedding = nn.Embedding(input_size, hidden_size)\n",
        "    self.rnn = nn.RNN(input_size, hidden_size, num_layers=num_layers, dropout=dropout,\n",
        "                      batch_first=batch_first)\n",
        "\n",
        "  def forward(self, input, hidden=None):\n",
        "    '''\n",
        "      Args:\n",
        "            input (Tensor or PackedSequence)\n",
        "            hidden (Tensor)\n",
        "    '''\n",
        "    \n",
        "    # output: B x L* x H; hidden: 1 x B x H\n",
        "    # output_seqs: packed_data (B x L x H), packed_batches (L)\n",
        "    if hidden is None: # delete None and if using torch.zeros \n",
        "      output, hidden = self.rnn(input)\n",
        "    else:\n",
        "      output, hidden = self.rnn(input, hidden)\n",
        "    \n",
        "    return output, hidden\n",
        "  \n",
        "  # def initHidden(self):\n",
        "  #   return torch.zeros(self.num_layers, max_length)\n"
      ]
    },
    {
      "cell_type": "markdown",
      "metadata": {
        "id": "vJeD5WoTmT8P"
      },
      "source": [
        "- We could do batch normalization for each layer of RNN (search for it). Answer: Too complicated (check https://arxiv.org/pdf/1603.09025.pdf and https://github.com/jihunchoi/recurrent-batch-normalization-pytorch/blob/master/bnlstm.py)"
      ]
    },
    {
      "cell_type": "markdown",
      "metadata": {
        "id": "a9-L81f4ZnU_"
      },
      "source": [
        "# Decoder"
      ]
    },
    {
      "cell_type": "code",
      "execution_count": 18,
      "metadata": {
        "id": "Y_j_UuHWmTqV"
      },
      "outputs": [],
      "source": [
        "class DecoderRNN(nn.Module):\n",
        "  def __init__(self, input_size, hidden_size, output_size, num_layers=1, dropout=0, batch_first=True):\n",
        "    super(DecoderRNN, self).__init__()\n",
        "    self.hidden_size = hidden_size\n",
        "    self.rnn = nn.RNN(input_size, hidden_size, num_layers=num_layers, dropout=dropout, batch_first=batch_first)\n",
        "    self.out = nn.Linear(hidden_size, output_size)\n",
        "    \n",
        "  def forward(self, input, hidden):\n",
        "    # input: deltaT\n",
        "    # output = F.relu(input)\n",
        "\n",
        "    # output: B* x L* x H; hidden: 1 x B x H\n",
        "    output, hidden = self.rnn(input, hidden)\n",
        "    output = self.out(output)\n",
        "    return output, hidden\n"
      ]
    },
    {
      "cell_type": "markdown",
      "metadata": {
        "id": "MwYvBnnOdkb1"
      },
      "source": [
        "# Encoder-Decoder Model\n",
        "\n",
        "- Encoder input $X_{features}$\n",
        "- Decoder input $\\Delta t$\n",
        "- Only forecasting"
      ]
    },
    {
      "cell_type": "code",
      "execution_count": 19,
      "metadata": {
        "id": "BlwlXMeyRliQ"
      },
      "outputs": [],
      "source": [
        "class Model1(nn.Module):\n",
        "  def __init__(self, input_size_enc, hidden_size_enc, input_size_dec, hidden_size_dec, output_size,\n",
        "               num_layers=[1, 1], dropout=[0, 0], batch_first=True):\n",
        "    super(Model1, self).__init__()\n",
        "\n",
        "    # keep for reference\n",
        "    self.input_size_enc = input_size_enc\n",
        "    self.hidden_size_enc = hidden_size_enc\n",
        "    self.hidden_size_dec = hidden_size_dec\n",
        "    self.input_size_dec = input_size_dec\n",
        "    self.output_size = output_size\n",
        "    self.num_layers = num_layers\n",
        "    self.dropout = dropout\n",
        "    self.batch_first = batch_first\n",
        "\n",
        "    self.encoder = EncoderRNN(input_size_enc, hidden_size_enc, num_layers=num_layers[0], dropout=dropout[0],\n",
        "                              batch_first=batch_first)\n",
        "    self.decoder = DecoderRNN(input_size_dec, hidden_size_dec, output_size,\n",
        "                              num_layers=num_layers[1], dropout=dropout[1], batch_first=batch_first)\n",
        "\n",
        "  def forward(self, input_enc, input_dec, hidden=None): # change None in hidden\n",
        "\n",
        "    # output: B* x length_enc* x H ; hidden: 1 x B x H\n",
        "    output, hidden = self.encoder(input_enc, hidden)\n",
        "\n",
        "    # output: B x length_dec x H; hiddden: 1 x B x H\n",
        "    output, hidden = self.decoder(input_dec, hidden)\n",
        "\n",
        "    return output\n",
        "\n",
        "  def num_parameters(self):\n",
        "    total = 0\n",
        "    for p in self.parameters():\n",
        "      if p.requires_grad:\n",
        "        total += p.numel()\n",
        "    return total\n"
      ]
    },
    {
      "cell_type": "markdown",
      "metadata": {
        "id": "dwZnyK8jnCtU"
      },
      "source": [
        " # Training Function"
      ]
    },
    {
      "cell_type": "code",
      "execution_count": 107,
      "metadata": {
        "id": "PrO2SX7LvSLN"
      },
      "outputs": [],
      "source": [
        "from torch._C import default_generator\n",
        "def train(model, dataset, optimizer, epochs=1, batch_size=1, device='cpu', val_split=0.8,\n",
        "          random_seed=42, reports_every=1, model_name='Model', report_batch=True):\n",
        "  \n",
        "  # change the model to device\n",
        "  model.to(device)\n",
        "\n",
        "  # show the model arquitecture\n",
        "  print(model_name, model)\n",
        "\n",
        "  # Print number of parameters\n",
        "  print('Num Params:', model.num_parameters())\n",
        "\n",
        "  # Create a dataloader from the dataset\n",
        "  train_size = int(val_split * len(dataset))\n",
        "  test_size = len(dataset) - train_size\n",
        "  train_dataset, val_dataset = random_split(dataset, [train_size, test_size],\n",
        "                                            generator=torch.Generator().manual_seed(random_seed))\n",
        "\n",
        "  train_loader = DataLoader(train_dataset, batch_size=batch_size, shuffle=True, \n",
        "                            collate_fn=collate_seqs, pin_memory=False)\n",
        "  val_loader = DataLoader(val_dataset, batch_size=1)\n",
        "\n",
        "  # Define a Loss Function\n",
        "  LossFunction = torch.nn.MSELoss()\n",
        "\n",
        "  # Lists for training and evaluation loss functions per epoch\n",
        "  train_loss, val_loss = [], []\n",
        "\n",
        "  # Lists for training and evaluation loss functions per batch\n",
        "  if report_batch:\n",
        "    loss_batch = []\n",
        "    num_upgrade  = []\n",
        "\n",
        "  # Start training\n",
        "  time_epochs = 0.\n",
        "  for e in range(1, epochs+1):\n",
        "    beginning_epoch = timer()\n",
        "    \n",
        "    running_loss = 0.\n",
        "    model.train()\n",
        "    for idx, batch in enumerate(train_loader):\n",
        "      x, deltat, y = batch\n",
        "\n",
        "      # Make sure tensors used are in the device with correct dimensions\n",
        "      x, deltat, y = x.float().to(device), deltat.to(device), y.to(device)\n",
        "\n",
        "      # x = [_ for _ in x]\n",
        "      # deltat = deltat.transpose(dim0=0, dim1=1)\n",
        "      # y = y.transpose(0, 1)\n",
        "\n",
        "      # Compute forward\n",
        "      # print(x)\n",
        "      y_pred  = model(x, deltat)\n",
        "\n",
        "      # Compute the loss\n",
        "      loss = LossFunction(y_pred, y)\n",
        "\n",
        "      # Backprop\n",
        "      loss.backward()\n",
        "\n",
        "      # Update grad\n",
        "      optimizer.step()\n",
        "      optimizer.zero_grad()\n",
        "\n",
        "      running_loss += loss.item()\n",
        "\n",
        "      if report_batch and (idx % 100 == 0):\n",
        "            report_loss, current = loss.item(), idx * batch_size\n",
        "            # print(f\" current loss: {report_loss:.4e}  [{current:>5d}/{train_size:>5d}] \\n\")\n",
        "            sys.stdout.write(f\" current loss: {report_loss:.4e}  [{current:>5d}/{train_size:>5d}] \\n\"\n",
        "            )\n",
        "\n",
        "            loss_batch.append(report_loss)\n",
        "            num_upgrade.append((e - 1) * train_size + current)\n",
        "\n",
        "    mean_loss = running_loss / (idx + 1)\n",
        "    train_loss.append(mean_loss)\n",
        "\n",
        "    running_loss = 0.\n",
        "    model.eval()\n",
        "    with torch.no_grad():\n",
        "      for idx, batch in enumerate(val_loader):\n",
        "        x, deltat, y = batch\n",
        "\n",
        "        # Make sure tensors used are in the device with correct dimensions\n",
        "        x, deltat, y = x.float().to(device), deltat.to(device), y.to(device)\n",
        "\n",
        "        # Compute forward\n",
        "        y_pred  = model(x, deltat)\n",
        "\n",
        "        # Compute the loss\n",
        "        loss = LossFunction(y_pred, y)\n",
        "\n",
        "        running_loss += loss.item()\n",
        "    mean_loss = running_loss / (idx + 1)\n",
        "    val_loss.append(mean_loss)\n",
        "    \n",
        "    time_epochs += timer() - beginning_epoch\n",
        "    \n",
        "    # Report the number of right answers each \"reports_every\" amount of epochs\n",
        "    if e % reports_every == 0:\n",
        "      # print('\\rEpoch:{0:03d}'.format(e) + ' Train Loss:{0:.4e}'.format(train_loss[-1]) \n",
        "      #     + ' Val Loss:{0:.4e}'.format(val_loss[-1]) + ' Time/epoch:{0:.3f}s'.format(time_epochs/e) + '\\n')\n",
        "      sys.stdout.write(\n",
        "          '\\rEpoch:{0:03d}'.format(e) + ' Train Loss:{0:.4e}'.format(train_loss[-1]) \n",
        "          + ' Val Loss:{0:.4e}'.format(val_loss[-1]) + ' Time/epoch:{0:.3f}s'.format(time_epochs/e) + '\\n'\n",
        "      )\n",
        "  \n",
        "  if report_batch:\n",
        "    return train_loss, val_loss, loss_batch, num_upgrade\n",
        "  else:\n",
        "    return train_loss, val_loss\n"
      ]
    },
    {
      "cell_type": "markdown",
      "metadata": {
        "id": "VkfYsxXCCAFX"
      },
      "source": [
        "## Testing the training function and model"
      ]
    },
    {
      "cell_type": "code",
      "execution_count": 159,
      "metadata": {
        "id": "1ImM_dwKeoKj"
      },
      "outputs": [],
      "source": [
        "class RandomDataSet(Dataset):\n",
        "  def __init__(self, N, L, f):\n",
        "    \n",
        "    self.input_enc = torch.rand(N, L, f)\n",
        "    self.input_dec = torch.rand(N, L, 1)\n",
        "    self.Y = torch.rand(N, L, 1)\n",
        "    self.num_features = f\n",
        "    \n",
        "  # Debemos definir __len__ para retornar el tamaño del dataset\n",
        "  def __len__(self):\n",
        "    return self.input_enc.size()[0]\n",
        "\n",
        "  # Debemos definir __getitem__ para retornar el i-ésimo \n",
        "  # ejemplo en nuestro dataset.\n",
        "  def __getitem__(self, i):\n",
        "    return self.input_enc[i], self.input_dec[i], self.Y[i]"
      ]
    },
    {
      "cell_type": "code",
      "execution_count": 160,
      "metadata": {
        "id": "wtAer6n7eoHb"
      },
      "outputs": [],
      "source": [
        "N = 1000 # numero de ejemplos\n",
        "f = 9 # numero de features\n",
        "L = 100\n",
        "\n",
        "dataset = RandomDataSet(N, L, f)"
      ]
    },
    {
      "cell_type": "code",
      "execution_count": 161,
      "metadata": {},
      "outputs": [],
      "source": [
        "loader_test = DataLoader(dataset, batch_size=2, collate_fn=collate_seqs)"
      ]
    },
    {
      "cell_type": "code",
      "execution_count": 162,
      "metadata": {},
      "outputs": [],
      "source": [
        "for idx, batch in enumerate(loader_test):\n",
        "    x, deltat, y = batch\n",
        "    break"
      ]
    },
    {
      "cell_type": "code",
      "execution_count": 163,
      "metadata": {},
      "outputs": [
        {
          "data": {
            "text/plain": [
              "tensor([[0.6693, 0.4314, 0.7058,  ..., 0.8223, 0.3313, 0.3991],\n",
              "        [0.8519, 0.0857, 0.2319,  ..., 0.0336, 0.6467, 0.6679],\n",
              "        [0.2626, 0.3599, 0.8734,  ..., 0.4243, 0.9159, 0.4208],\n",
              "        ...,\n",
              "        [0.3883, 0.8715, 0.1237,  ..., 0.9267, 0.6068, 0.4190],\n",
              "        [0.7717, 0.8184, 0.8289,  ..., 0.2816, 0.5892, 0.7165],\n",
              "        [0.7964, 0.5888, 0.1047,  ..., 0.8803, 0.9983, 0.4442]])"
            ]
          },
          "execution_count": 163,
          "metadata": {},
          "output_type": "execute_result"
        }
      ],
      "source": [
        "x.data"
      ]
    },
    {
      "cell_type": "code",
      "execution_count": 156,
      "metadata": {
        "id": "bPKlXzodeoEW"
      },
      "outputs": [],
      "source": [
        "model = Model1(9, 64, 1, 64, 1)\n",
        "optimizer = torch.optim.Adam(model.parameters())"
      ]
    },
    {
      "cell_type": "code",
      "execution_count": 166,
      "metadata": {
        "colab": {
          "base_uri": "https://localhost:8080/"
        },
        "id": "Gp-UKzHCEzRk",
        "outputId": "f01cc922-50a1-4fde-c0ba-21064e8d988c"
      },
      "outputs": [
        {
          "name": "stdout",
          "output_type": "stream",
          "text": [
            "Model Model1(\n",
            "  (encoder): EncoderRNN(\n",
            "    (rnn): RNN(9, 64, batch_first=True)\n",
            "  )\n",
            "  (decoder): DecoderRNN(\n",
            "    (rnn): RNN(1, 64, batch_first=True)\n",
            "    (out): Linear(in_features=64, out_features=1, bias=True)\n",
            "  )\n",
            ")\n",
            "Num Params: 9153\n",
            "Epoch:030 Train Loss:0.0832 Val Loss:0.0843 Time/epoch:2.508s"
          ]
        }
      ],
      "source": [
        "train_loss, val_loss = train(model, dataset, optimizer, epochs=1, batch_size=16, report_batch=False)"
      ]
    },
    {
      "cell_type": "code",
      "execution_count": 169,
      "metadata": {
        "colab": {
          "base_uri": "https://localhost:8080/",
          "height": 409
        },
        "id": "iJ8LGiegXH9T",
        "outputId": "efda2bfd-c440-4e60-8368-efc721d8d850"
      },
      "outputs": [
        {
          "data": {
            "text/plain": [
              "<matplotlib.legend.Legend at 0x7fa831cd3d90>"
            ]
          },
          "execution_count": 169,
          "metadata": {},
          "output_type": "execute_result"
        },
        {
          "data": {
            "image/png": "[encoded data removed]",
            "text/plain": [
              "<Figure size 720x288 with 1 Axes>"
            ]
          },
          "metadata": {
            "needs_background": "light"
          },
          "output_type": "display_data"
        }
      ],
      "source": [
        "fig, ax = plt.subplots(figsize=(10, 4))\n",
        "epochs = np.arange(1, len(train_loss)+1)\n",
        "ax.plot(epochs, train_loss, label='Train set')\n",
        "# ax.plot(epochs, val_loss, label='val')\n",
        "ax.set_xlabel('epochs')\n",
        "ax.set_ylabel('Loss')\n",
        "ax.legend()\n"
      ]
    },
    {
      "cell_type": "markdown",
      "metadata": {},
      "source": [
        "# Training Model 1: Encoder-Decoder\n",
        "\n",
        "## Setting\n",
        "\n",
        "- input encoder (L_in x f): temperature | humidity\t| co2 |\thour |\tdt_device |\tlocation_gam |\tlocation_hcm |\tworkday_False |\tworkday_True|\n",
        "- input decoder (L_in x 1): dt_device\n",
        "- output decoder (L_out x 1): co2\n",
        "- L_in: variable length\n",
        "- L_out: 30\n",
        "\n",
        "## Params architecture\n",
        "\n",
        "- ``hidden_size_enc`` = 128\n",
        "- ``hidden_size_dec`` = 128\n",
        "- ``num_layers`` = [2, 2]\n",
        "- ``dropout`` = [0.25, 0.25]\n",
        "- ``batch_first`` = True\n",
        "- ``optimizer`` = Adam(lr=0.001, betas=(0.9, 0.999), eps=1e-08, weight_decay=2e-04, amsgrad=False)\n",
        "- ``batch_size`` = 200\n",
        "- ``val_split`` = 0.8\n",
        "\n",
        "\n",
        "``input_size_enc``, ``hidden_size_enc``, ``input_size_dec``, ``hidden_size_dec``, ``output_size``,\n",
        "               ``num_layers``=[1, 1], ``dropout``=[0, 0], ``batch_first``=True\n",
        "\n",
        "``model``, ``dataset``, ``optimizer``, ``epochs``=1, ``batch_size``=1, ``device``='cpu', ``val_split``=0.8,\n",
        "          ``random_seed``=42, ``reports_every``=1, ``model_name``='Model', ``report_batch``=True"
      ]
    },
    {
      "cell_type": "code",
      "execution_count": 117,
      "metadata": {},
      "outputs": [],
      "source": [
        "dataset = TSeriesDataset(data_enc=input_enc_test, data_dec=input_dec_test, target=labels_test)\n",
        "\n",
        "# Model\n",
        "model = Model1(9, 128, 1, 128, 1, num_layers=[2, 2], dropout=[0.25, 0.25], batch_first=True)\n",
        "\n",
        "# Optimizer\n",
        "optimizer = torch.optim.Adam(model.parameters(), lr=0.001, betas=(0.9, 0.999), eps=1e-08, weight_decay=2e-04, amsgrad=False)\n"
      ]
    },
    {
      "cell_type": "code",
      "execution_count": 118,
      "metadata": {},
      "outputs": [
        {
          "name": "stdout",
          "output_type": "stream",
          "text": [
            "Raw Encoder-Decoder Model1(\n",
            "  (encoder): EncoderRNN(\n",
            "    (rnn): RNN(9, 128, num_layers=2, batch_first=True, dropout=0.25)\n",
            "  )\n",
            "  (decoder): DecoderRNN(\n",
            "    (rnn): RNN(1, 128, num_layers=2, batch_first=True, dropout=0.25)\n",
            "    (out): Linear(in_features=128, out_features=1, bias=True)\n",
            "  )\n",
            ")\n",
            "Num Params: 100737\n",
            " current loss: 7.8039e-03  [    0/186195] \n",
            " current loss: 2.0794e-05  [20000/186195] \n",
            " current loss: 7.3584e-06  [40000/186195] \n",
            " current loss: 3.5154e-06  [60000/186195] \n",
            " current loss: 1.8802e-06  [80000/186195] \n",
            " current loss: 1.0716e-06  [100000/186195] \n",
            " current loss: 6.0962e-07  [120000/186195] \n",
            " current loss: 3.7967e-07  [140000/186195] \n",
            " current loss: 2.4037e-07  [160000/186195] \n",
            " current loss: 1.6104e-07  [180000/186195] \n",
            "Epoch:001 Train Loss:6.1303e-05 Val Loss:2.7156e-08 Time/epoch:2023.397s current loss: 1.4058e-07  [    0/186195] \n",
            " current loss: 9.8549e-08  [20000/186195] \n",
            " current loss: 6.9664e-08  [40000/186195] \n",
            " current loss: 5.3908e-08  [60000/186195] \n",
            " current loss: 4.4088e-08  [80000/186195] \n",
            " current loss: 3.7619e-08  [100000/186195] \n",
            " current loss: 3.3630e-08  [120000/186195] \n",
            " current loss: 3.0506e-08  [140000/186195] \n",
            " current loss: 2.8504e-08  [160000/186195] \n",
            " current loss: 2.5939e-08  [180000/186195] \n",
            "Epoch:002 Train Loss:5.2480e-08 Val Loss:1.6554e-08 Time/epoch:2075.317s current loss: 2.6532e-08  [    0/186195] \n",
            " current loss: 2.4238e-08  [20000/186195] \n",
            " current loss: 2.3317e-08  [40000/186195] \n",
            " current loss: 2.1496e-08  [60000/186195] \n",
            " current loss: 2.0174e-08  [80000/186195] \n",
            " current loss: 1.8794e-08  [100000/186195] \n",
            " current loss: 1.7447e-08  [120000/186195] \n",
            " current loss: 1.6211e-08  [140000/186195] \n",
            " current loss: 1.4644e-08  [160000/186195] \n",
            " current loss: 1.3217e-08  [180000/186195] \n",
            "Epoch:003 Train Loss:1.9351e-08 Val Loss:1.1971e-08 Time/epoch:2123.162s"
          ]
        }
      ],
      "source": [
        "epochs = 3\n",
        "train_loss, val_loss, loss_batch, num_upgrade = train(model, dataset, optimizer, epochs=epochs, batch_size=200,\n",
        "                                                      device='cpu', val_split=0.8, reports_every=1, \n",
        "                                                      model_name='Raw Encoder-Decoder', report_batch=True)"
      ]
    },
    {
      "cell_type": "code",
      "execution_count": 127,
      "metadata": {},
      "outputs": [
        {
          "data": {
            "image/png": "[encoded data removed]",
            "text/plain": [
              "<Figure size 1008x360 with 1 Axes>"
            ]
          },
          "metadata": {
            "needs_background": "light"
          },
          "output_type": "display_data"
        }
      ],
      "source": [
        "epochs = 3\n",
        "fig, ax = plt.subplots(figsize=(14, 5))\n",
        "epochs = np.arange(1, epochs+1)\n",
        "ax.set_yscale('log')\n",
        "ax.plot(epochs, train_loss, label='Train set')\n",
        "ax.plot(epochs, val_loss, label='Val set')\n",
        "ax.set_xlabel('epochs')\n",
        "ax.set_ylabel('Loss')\n",
        "ax.legend()\n",
        "ax.grid();"
      ]
    },
    {
      "cell_type": "code",
      "execution_count": 124,
      "metadata": {},
      "outputs": [
        {
          "data": {
            "image/png": "[encoded data removed]",
            "text/plain": [
              "<Figure size 1008x360 with 1 Axes>"
            ]
          },
          "metadata": {
            "needs_background": "light"
          },
          "output_type": "display_data"
        }
      ],
      "source": [
        "fig, ax = plt.subplots(figsize=(14, 5))\n",
        "ax.plot(num_upgrade, loss_batch, label='Train set')\n",
        "ax.set_yscale('log')\n",
        "ax.set_xlabel('upgrades')\n",
        "ax.set_ylabel('Loss')\n",
        "ax.legend()\n",
        "ax.grid();"
      ]
    },
    {
      "cell_type": "code",
      "execution_count": 138,
      "metadata": {},
      "outputs": [],
      "source": [
        "# Testing random example:\n",
        "x, dt, y = dataset[np.random.randint(len(dataset))]\n",
        "x, dt, y = x.view(1, -1, 9), dt.view(1, -1, 1), y.squeeze(dim=1)\n",
        "\n",
        "y_pred = model(x, dt).squeeze(dim=0).squeeze(dim=1).to('cpu').detach().numpy()\n",
        "\n",
        "dt = dt.squeeze(dim=0).squeeze(dim=1).to('cpu').numpy()"
      ]
    },
    {
      "cell_type": "code",
      "execution_count": 139,
      "metadata": {},
      "outputs": [],
      "source": [
        "t0 = 0\n",
        "tt = np.zeros(len(dt))\n",
        "for i in range(len(dt)):\n",
        "    t0 += sigma[-1]*dt[i] + mu[-1]\n",
        "    tt[i] = t0\n",
        "tt = tt / 1000"
      ]
    },
    {
      "cell_type": "code",
      "execution_count": 146,
      "metadata": {},
      "outputs": [
        {
          "data": {
            "image/png": "[encoded data removed]",
            "text/plain": [
              "<Figure size 1080x432 with 1 Axes>"
            ]
          },
          "metadata": {
            "needs_background": "light"
          },
          "output_type": "display_data"
        }
      ],
      "source": [
        "idx = 0\n",
        "fig, ax = plt.subplots(figsize=(15, 6))\n",
        "ax.plot(tt[idx:], (sigma[2]*y + mu[2])[idx:], label='Real co2')\n",
        "ax.plot(tt[idx:], (sigma[2]*y_pred + mu[2])[idx:], label='Prediction co2')\n",
        "plt.xticks(rotation=45)\n",
        "handles, labels = ax.get_legend_handles_labels()\n",
        "ax.tick_params(axis='x', labelsize=20)\n",
        "ax.tick_params(axis='y', labelsize=20)\n",
        "ax.set_xlabel(\"Time\", fontsize=20)\n",
        "ax.legend()\n",
        "ax.set_ylabel('$CO_2$ [ppm]', fontsize=20);\n",
        "\n"
      ]
    },
    {
      "cell_type": "code",
      "execution_count": 133,
      "metadata": {},
      "outputs": [
        {
          "data": {
            "text/plain": [
              "tensor([-0.0163, -0.0163, -0.0163, -0.0163, -0.0163, -0.0163, -0.0163, -0.0163,\n",
              "        -0.0163, -0.0163, -0.0163, -0.0163, -0.0163, -0.0163, -0.0163, -0.0163,\n",
              "        -0.0163, -0.0163, -0.0163, -0.0163, -0.0163, -0.0163, -0.0163, -0.0163,\n",
              "        -0.0163, -0.0163, -0.0163, -0.0163, -0.0163, -0.0163])"
            ]
          },
          "execution_count": 133,
          "metadata": {},
          "output_type": "execute_result"
        }
      ],
      "source": [
        "y"
      ]
    },
    {
      "cell_type": "code",
      "execution_count": 134,
      "metadata": {},
      "outputs": [
        {
          "data": {
            "text/plain": [
              "array([-0.01565566, -0.01623572, -0.01623855, -0.01623856, -0.01623856,\n",
              "       -0.01623856, -0.01623856, -0.01623856, -0.01623856, -0.01623856,\n",
              "       -0.01623856, -0.01623856, -0.01623856, -0.01623856, -0.01623856,\n",
              "       -0.01623856, -0.01623856, -0.01623856, -0.01623856, -0.01623856,\n",
              "       -0.01623856, -0.01623856, -0.01623856, -0.01623856, -0.01623856,\n",
              "       -0.01623856, -0.01623856, -0.01623856, -0.01623856, -0.01623856],\n",
              "      dtype=float32)"
            ]
          },
          "execution_count": 134,
          "metadata": {},
          "output_type": "execute_result"
        }
      ],
      "source": [
        "y_pred"
      ]
    },
    {
      "cell_type": "markdown",
      "metadata": {
        "id": "0_x0vQ8p2mVs"
      },
      "source": [
        "## Comparing methods to pack batches in Pytorch\n",
        "\n",
        "- `torch.nn.utils.rnn.pad_sequence`: pads a sequence of tensors\n",
        "- `torch.nn.utils.rnn.pack_padded_sequence`: packs a padded sequence of tensors (it needs their lengths)\n",
        "- `torch.nn.utils.rnn.pack_sequence`: packs a sequence of tensors (using the above functions as shown below)\n",
        "\n",
        "```\n",
        "lengths = torch.as_tensor([v.size(0) for v in sequences])\n",
        "    return pack_padded_sequence(pad_sequence(sequences), lengths,\n",
        "    enforce_sorted=enforce_sorted)\n",
        "```\n",
        "\n",
        "- `torch.nn.utils.rnn.pad_packed_sequence`: pads a packed batch of variable length sequences.\n",
        "\n",
        "Note: the input `enforce_sorted=True` is only necessary for ONNX export."
      ]
    },
    {
      "cell_type": "code",
      "execution_count": 6,
      "metadata": {
        "id": "gAHVg0ryyvvu"
      },
      "outputs": [],
      "source": [
        "from torch.nn.utils.rnn import pad_sequence\n",
        "from torch.nn.utils.rnn import pad_sequence, pack_padded_sequence, pack_sequence, pad_packed_sequence\n",
        "\n",
        "seq_batch = [torch.tensor([[1, 1],\n",
        "                           [2, 2],\n",
        "                           [3, 3],\n",
        "                           [4, 4],\n",
        "                           [5, 5]]),\n",
        "             torch.tensor([[10, 10],\n",
        "                           [20, 20]])]\n",
        "\n",
        "seq_lens = [5, 2]\n",
        "padded_seq = pad_sequence(seq_batch)\n",
        "packed_padded_seq = pack_padded_sequence(padded_seq, lengths=seq_lens)\n",
        "packed_seq = pack_sequence(seq_batch)\n",
        "padded_packed_seq = pad_packed_sequence(packed_padded_seq, total_length=5)"
      ]
    },
    {
      "cell_type": "code",
      "execution_count": 15,
      "metadata": {
        "id": "Z6TneRt91TEK"
      },
      "outputs": [],
      "source": [
        "unpacked, unpacked_len = padded_packed_seq"
      ]
    },
    {
      "cell_type": "code",
      "execution_count": 39,
      "metadata": {
        "colab": {
          "base_uri": "https://localhost:8080/"
        },
        "id": "MqE2T61F6yTf",
        "outputId": "08a2f266-129e-47db-e45d-2fc67f67c43c"
      },
      "outputs": [
        {
          "data": {
            "text/plain": [
              "PackedSequence(data=tensor([[ 1,  1],\n",
              "        [10, 10],\n",
              "        [ 2,  2],\n",
              "        [20, 20],\n",
              "        [ 3,  3],\n",
              "        [ 4,  4],\n",
              "        [ 5,  5]]), batch_sizes=tensor([2, 2, 1, 1, 1]), sorted_indices=None, unsorted_indices=None)"
            ]
          },
          "execution_count": 39,
          "metadata": {},
          "output_type": "execute_result"
        }
      ],
      "source": [
        "packed_padded_seq"
      ]
    },
    {
      "cell_type": "code",
      "execution_count": 38,
      "metadata": {
        "colab": {
          "base_uri": "https://localhost:8080/"
        },
        "id": "rv7_klFV4aLG",
        "outputId": "211e0da6-0597-42eb-e0dd-7762cfaa1bec"
      },
      "outputs": [
        {
          "data": {
            "text/plain": [
              "tensor([[[ 1,  1],\n",
              "         [10, 10]],\n",
              "\n",
              "        [[ 2,  2],\n",
              "         [20, 20]],\n",
              "\n",
              "        [[ 3,  3],\n",
              "         [ 0,  0]],\n",
              "\n",
              "        [[ 4,  4],\n",
              "         [ 0,  0]],\n",
              "\n",
              "        [[ 5,  5],\n",
              "         [ 0,  0]]])"
            ]
          },
          "execution_count": 38,
          "metadata": {},
          "output_type": "execute_result"
        }
      ],
      "source": [
        "unpacked"
      ]
    },
    {
      "cell_type": "code",
      "execution_count": 30,
      "metadata": {
        "colab": {
          "base_uri": "https://localhost:8080/"
        },
        "id": "dYfLMf5x1udI",
        "outputId": "c399964e-95bc-4200-cc2e-7c31cbfebe8e"
      },
      "outputs": [
        {
          "data": {
            "text/plain": [
              "tensor([4, 1])"
            ]
          },
          "execution_count": 30,
          "metadata": {},
          "output_type": "execute_result"
        }
      ],
      "source": [
        "(unpacked_len - 1).long()"
      ]
    },
    {
      "cell_type": "code",
      "execution_count": 31,
      "metadata": {
        "colab": {
          "base_uri": "https://localhost:8080/"
        },
        "id": "SfdRS1ny3yuk",
        "outputId": "99c09cb0-eb21-4f6c-cbc1-f331eb586ce7"
      },
      "outputs": [
        {
          "data": {
            "text/plain": [
              "tensor([[[ 5,  5],\n",
              "         [ 0,  0]],\n",
              "\n",
              "        [[ 2,  2],\n",
              "         [20, 20]]])"
            ]
          },
          "execution_count": 31,
          "metadata": {},
          "output_type": "execute_result"
        }
      ],
      "source": [
        "unpacked.index_select(dim=0, index=(unpacked_len - 1).long())"
      ]
    },
    {
      "cell_type": "code",
      "execution_count": 40,
      "metadata": {
        "colab": {
          "base_uri": "https://localhost:8080/"
        },
        "id": "nu2CerEs7lil",
        "outputId": "44a9db3c-3d2e-4bb6-818e-affc7c66ebe2"
      },
      "outputs": [
        {
          "data": {
            "text/plain": [
              "tensor([1, 2])"
            ]
          },
          "execution_count": 40,
          "metadata": {},
          "output_type": "execute_result"
        }
      ],
      "source": [
        "packed_padded_seq.batch_sizes.index_select(dim=0, index=(unpacked_len - 1).long())"
      ]
    },
    {
      "cell_type": "code",
      "execution_count": null,
      "metadata": {
        "id": "ZJpvLlwk1rXk"
      },
      "outputs": [],
      "source": [
        "indices = Variable(torch.LongTensor(np.array(unpacked_len) - 1).view(-1, 1)\n",
        "                                                                       .expand(unpacked.size(0), unpacked.size(2))\n",
        "                                                                       .unsqueeze(1))\n",
        "last_encoded_states = unpacked.gather(dim=1, index=indices).squeeze(dim=1)"
      ]
    },
    {
      "cell_type": "code",
      "execution_count": 13,
      "metadata": {
        "colab": {
          "base_uri": "https://localhost:8080/"
        },
        "id": "zQEQ-3gG09cs",
        "outputId": "8c65053e-6332-4843-997d-f6b2327d2fb6"
      },
      "outputs": [
        {
          "data": {
            "text/plain": [
              "tensor([5, 2])"
            ]
          },
          "execution_count": 13,
          "metadata": {},
          "output_type": "execute_result"
        }
      ],
      "source": [
        "padded_packed_seq[1]"
      ]
    },
    {
      "cell_type": "code",
      "execution_count": 14,
      "metadata": {
        "colab": {
          "base_uri": "https://localhost:8080/"
        },
        "id": "F6JO445QzdJZ",
        "outputId": "57692d6d-3df6-4aa3-fd7f-3482acc724b9"
      },
      "outputs": [
        {
          "data": {
            "text/plain": [
              "tensor([[[ 1,  1],\n",
              "         [10, 10]],\n",
              "\n",
              "        [[ 2,  2],\n",
              "         [20, 20]],\n",
              "\n",
              "        [[ 3,  3],\n",
              "         [ 0,  0]],\n",
              "\n",
              "        [[ 4,  4],\n",
              "         [ 0,  0]],\n",
              "\n",
              "        [[ 5,  5],\n",
              "         [ 0,  0]]])"
            ]
          },
          "execution_count": 14,
          "metadata": {},
          "output_type": "execute_result"
        }
      ],
      "source": [
        "padded_packed_seq[0][]"
      ]
    },
    {
      "cell_type": "code",
      "execution_count": 64,
      "metadata": {
        "id": "7AJEgRyryV92"
      },
      "outputs": [],
      "source": [
        "x1, _ = dataset.__getitem__(idx=1)\n",
        "x2, _ = dataset.__getitem__(idx=2)\n",
        "seq = [x1, x2]\n",
        "packed_seq = pack_sequence(seq, enforce_sorted=False)"
      ]
    },
    {
      "cell_type": "code",
      "execution_count": 65,
      "metadata": {
        "colab": {
          "base_uri": "https://localhost:8080/"
        },
        "id": "x3pyT-gZHpVZ",
        "outputId": "d217be1d-3b81-4fb9-96fc-dde5907ff7d1"
      },
      "outputs": [
        {
          "data": {
            "text/plain": [
              "PackedSequence(data=tensor([[ 0.5554, -0.4929, -0.0162,  ...,  1.0000,  0.0000,  1.0000],\n",
              "        [ 0.5554, -0.4929, -0.0162,  ...,  1.0000,  0.0000,  1.0000],\n",
              "        [ 0.5554, -0.4929, -0.0162,  ...,  1.0000,  0.0000,  1.0000],\n",
              "        ...,\n",
              "        [ 0.3693,  0.0924, -0.0163,  ...,  1.0000,  0.0000,  1.0000],\n",
              "        [ 0.3693,  0.0924, -0.0163,  ...,  1.0000,  0.0000,  1.0000],\n",
              "        [ 0.3693,  0.0924, -0.0163,  ...,  1.0000,  0.0000,  1.0000]]), batch_sizes=tensor([2, 2, 2, 2, 2, 2, 2, 2, 2, 2, 2, 2, 2, 2, 2, 2, 2, 2, 2, 2, 2, 2, 2, 2,\n",
              "        2, 2, 2, 2, 2, 2, 2, 2, 2, 2, 2, 2, 2, 2, 2, 2, 2, 2, 2, 2, 2, 2, 2, 2,\n",
              "        2, 2, 2, 2, 2, 2, 2, 2, 2, 2, 2, 2, 2, 2, 2, 2, 2, 2, 2, 2, 2, 2, 2, 2,\n",
              "        2, 2, 2, 2, 2, 2, 2, 2, 2, 2, 2, 2, 2, 2, 2, 2, 2, 2, 2, 2, 2, 2, 2]), sorted_indices=tensor([0, 1]), unsorted_indices=tensor([0, 1]))"
            ]
          },
          "execution_count": 65,
          "metadata": {},
          "output_type": "execute_result"
        }
      ],
      "source": [
        "packed_seq"
      ]
    },
    {
      "cell_type": "code",
      "execution_count": 66,
      "metadata": {
        "id": "8my_W5BzyV7W"
      },
      "outputs": [],
      "source": [
        "rnn = nn.RNN(9, 128)\n",
        "output, hn = rnn(packed_seq)"
      ]
    },
    {
      "cell_type": "code",
      "execution_count": 75,
      "metadata": {
        "colab": {
          "base_uri": "https://localhost:8080/"
        },
        "id": "2G4G2E4FkAfO",
        "outputId": "58086634-84ef-4170-914b-fe14dd81c42a"
      },
      "outputs": [
        {
          "data": {
            "text/plain": [
              "torch.Size([1, 95, 9])"
            ]
          },
          "execution_count": 75,
          "metadata": {},
          "output_type": "execute_result"
        }
      ],
      "source": [
        "x1.unsqueeze(dim=0).shape"
      ]
    },
    {
      "cell_type": "code",
      "execution_count": 78,
      "metadata": {
        "colab": {
          "base_uri": "https://localhost:8080/"
        },
        "id": "b-DUjwIUbohs",
        "outputId": "cb56e872-512b-48fb-a702-0165fe2f32c0"
      },
      "outputs": [
        {
          "data": {
            "text/plain": [
              "torch.Size([1, 95, 128])"
            ]
          },
          "execution_count": 78,
          "metadata": {},
          "output_type": "execute_result"
        }
      ],
      "source": [
        "output, hn = rnn(x1.unsqueeze(dim=0))\n",
        "hn.shape"
      ]
    },
    {
      "cell_type": "code",
      "execution_count": 186,
      "metadata": {
        "colab": {
          "base_uri": "https://localhost:8080/"
        },
        "id": "rEkS5-0LD4Ib",
        "outputId": "1e5035ee-08cc-4453-cfd8-f05edf8d4d5d"
      },
      "outputs": [
        {
          "data": {
            "text/plain": [
              "PackedSequence(data=tensor([[-0.0030,  0.0028,  0.0585,  ...,  0.0427, -0.1417, -0.0097],\n",
              "        [-0.0030,  0.0028,  0.0585,  ...,  0.0427, -0.1417, -0.0097],\n",
              "        [ 0.0466, -0.1255,  0.0698,  ...,  0.1718, -0.2161,  0.0509],\n",
              "        ...,\n",
              "        [ 0.1011, -0.0162,  0.0602,  ...,  0.2739, -0.1942, -0.0034],\n",
              "        [ 0.1011, -0.0161,  0.0601,  ...,  0.2738, -0.1941, -0.0033],\n",
              "        [ 0.1011, -0.0159,  0.0601,  ...,  0.2739, -0.1941, -0.0032]],\n",
              "       grad_fn=<CatBackward0>), batch_sizes=tensor([2, 2, 2, 2, 2, 2, 2, 2, 2, 2, 2, 2, 2, 2, 2, 2, 2, 2, 2, 2, 2, 2, 2, 2,\n",
              "        2, 2, 2, 2, 2, 2, 2, 2, 2, 2, 2, 2, 2, 2, 2, 2, 2, 2, 2, 2, 2, 2, 2, 2,\n",
              "        2, 2, 2, 2, 2, 2, 2, 2, 2, 2, 2, 2, 2, 2, 2, 2, 2, 2, 2, 2, 2, 2, 2, 2,\n",
              "        2, 2, 2, 2, 2, 2, 2, 2, 2, 2, 2, 2, 2, 2, 2, 2, 2, 2, 2, 2, 2, 2, 2, 2,\n",
              "        2, 2, 2, 2, 2, 2, 2, 2, 2, 2, 2, 2, 2, 2, 2, 2, 2, 2, 2, 2, 2, 2, 2, 2,\n",
              "        1, 1, 1, 1, 1, 1, 1, 1, 1, 1, 1, 1, 1, 1, 1, 1, 1, 1, 1, 1, 1, 1, 1, 1,\n",
              "        1, 1]), sorted_indices=tensor([1, 0]), unsorted_indices=tensor([1, 0]))"
            ]
          },
          "execution_count": 186,
          "metadata": {},
          "output_type": "execute_result"
        }
      ],
      "source": [
        "output"
      ]
    },
    {
      "cell_type": "code",
      "execution_count": 8,
      "metadata": {
        "id": "PG8NabMtD36l"
      },
      "outputs": [],
      "source": [
        "from io import StringIO\n",
        "\n",
        "StringData = StringIO(\"\"\"PERÍODO REMUNERACIÓN_IMPONIBLE_($) RUT_EMPLEADOR RAZÓN_SOCIAL_EMPLEADOR FONDO\n",
        "04/2021 133.757 88.926.100-5 Paisajismo_Cordillera_S.A. E\n",
        "07/2020 624.911 81.826.800-9 Caja_De_Com_De_Asignacion_Familiar_Los_Andes E\n",
        "04/2020 323.943 88.926.100-5 Paisajismo_Cordillera_S.A. C\n",
        "03/2020 440.955 88.926.100-5 Paisajismo_Cordillera_S.A. C\n",
        "02/2020 624.911 88.926.100-5 Paisajismo_Cordillera_S.A. C\n",
        "01/2020 646.311 88.926.100-5 Paisajismo_Cordillera_S.A. C\n",
        "12/2019 517.911 88.926.100-5 Paisajismo_Cordillera_S.A. C\n",
        "11/2019 539.311 88.926.100-5 Paisajismo_Cordillera_S.A. C\n",
        "10/2019 539.311 88.926.100-5 Paisajismo_Cordillera_S.A. C\n",
        "09/2019 614.311 88.926.100-5 Paisajismo_Cordillera_S.A. C\n",
        "08/2019 517.911 88.926.100-5 Paisajismo_Cordillera_S.A. C\n",
        "07/2019 518.211 88.926.100-5 Paisajismo_Cordillera_S.A. C\n",
        "06/2019 539.311 88.926.100-5 Paisajismo_Cordillera_S.A. C\n",
        "05/2019 451.178 88.926.100-5 Paisajismo_Cordillera_S.A. C\n",
        "04/2019 539.311 88.926.100-5 Paisajismo_Cordillera_S.A. C\n",
        "03/2019 539.311 88.926.100-5 Paisajismo_Cordillera_S.A. C\n",
        "02/2019 525.933 88.926.100-5 Paisajismo_Cordillera_S.A. C\n",
        "01/2019 504.533 88.926.100-5 Paisajismo_Cordillera_S.A. C\n",
        "12/2018 547.333 88.926.100-5 Paisajismo_Cordillera_S.A. C\n",
        "11/2018 525.933 88.926.100-5 Paisajismo_Cordillera_S.A. C\n",
        "10/2018 483.133 88.926.100-5 Paisajismo_Cordillera_S.A. C\n",
        "09/2018 547.333 88.926.100-5 Paisajismo_Cordillera_S.A. C\n",
        "08/2018 483.133 88.926.100-5 Paisajismo_Cordillera_S.A. C\n",
        "07/2018 525.933 88.926.100-5 Paisajismo_Cordillera_S.A. C\n",
        "06/2018 483.133 88.926.100-5 Paisajismo_Cordillera_S.A. C\n",
        "05/2018 525.933 88.926.100-5 Paisajismo_Cordillera_S.A. C\n",
        "04/2018 327.000 88.926.100-5 Paisajismo_Cordillera_S.A. C\n",
        "03/2018 401.266 88.926.100-5 Paisajismo_Cordillera_S.A. C\n",
        "02/2018 611.533 88.926.100-5 Paisajismo_Cordillera_S.A. C\n",
        "01/2018 611.533 88.926.100-5 Paisajismo_Cordillera_S.A. C\n",
        "10/2017 101.250 99.503.010-1 Help_Security_S.A. C\n",
        "09/2017 427.500 99.503.010-1 Help_Security_S.A. C\n",
        "08/2017 646.875 99.503.010-1 Help_Security_S.A. C\n",
        "07/2017 631.875 99.503.010-1 Help_Security_S.A. C\n",
        "06/2017 608.500 99.503.010-1 Help_Security_S.A. C\n",
        "05/2017 523.500 99.503.010-1 Help_Security_S.A. C\n",
        "04/2017 393.166 99.503.010-1 Help_Security_S.A. C\n",
        "03/2017 390.600 99.503.010-1 Help_Security_S.A. C\n",
        "02/2017 440.649 99.503.010-1 Help_Security_S.A. C\n",
        "01/2017 440.649 99.503.010-1 Help_Security_S.A. C\n",
        "12/2016 480.724 99.503.010-1 Help_Security_S.A. C\n",
        "11/2016 430.724 99.503.010-1 Help_Security_S.A. C\n",
        "10/2016 423.213 99.503.010-1 Help_Security_S.A. C\n",
        "09/2016 486.989 99.503.010-1 Help_Security_S.A. C\n",
        "08/2016 441.989 99.503.010-1 Help_Security_S.A. B\n",
        "07/2016 441.989 99.503.010-1 Help_Security_S.A. B\n",
        "06/2016 430.208 99.503.010-1 Help_Security_S.A. B\n",
        "05/2016 430.208 99.503.010-1 Help_Security_S.A. B\n",
        "04/2016 422.916 99.503.010-1 Help_Security_S.A. B\n",
        "03/2016 399.583 99.503.010-1 Help_Security_S.A. B\n",
        "02/2016 422.916 99.503.010-1 Help_Security_S.A. B\n",
        "01/2016 411.250 99.503.010-1 Help_Security_S.A. B\n",
        "12/2015 447.916 99.503.010-1 Help_Security_S.A. B\n",
        "11/2015 433.854 99.503.010-1 Help_Security_S.A. B\n",
        "10/2015 426.561 99.503.010-1 Help_Security_S.A. B\n",
        "09/2015 447.916 99.503.010-1 Help_Security_S.A. B\n",
        "08/2015 433.854 99.503.010-1 Help_Security_S.A. B\n",
        "07/2015 10.709 77.198.310-3 Soc._De_Servicios_Maxima_Seguridad_Operativa_Ltda. B\n",
        "07/2015 128.334 99.503.010-1 Help_Security_S.A. B\n",
        "06/2015 118.750 76.688.860-7 Servicios_Y_Seguridad_Cosenza_Limitada B\n",
        "05/2015 707.063 76.688.860-7 Servicios_Y_Seguridad_Cosenza_Limitada B\n",
        "04/2015 730.563 76.688.860-7 Servicios_Y_Seguridad_Cosenza_Limitada B\n",
        "03/2015 115.875 76.688.860-7 Servicios_Y_Seguridad_Cosenza_Limitada B\n",
        "03/2015 51.463 76.733.350-1 Servicios_Helpbank_S.A_E.S.T B\n",
        "02/2015 151.508 76.733.350-1 Servicios_Helpbank_S.A_E.S.T B\n",
        "01/2015 133.125 76.733.350-1 Servicios_Helpbank_S.A_E.S.T B\n",
        "07/2014 363.434 77.508.190-2 Recursos_Externos_Ltda B\n",
        "06/2014 503.820 77.508.190-2 Recursos_Externos_Ltda B\n",
        "05/2014 456.739 77.508.190-2 Recursos_Externos_Ltda B\n",
        "04/2014 282.403 77.508.190-2 Recursos_Externos_Ltda B\n",
        "03/2014 442.612 77.508.190-2 Recursos_Externos_Ltda B\n",
        "02/2014 401.984 77.508.190-2 Recursos_Externos_Ltda B\n",
        "01/2014 336.991 77.508.190-2 Recursos_Externos_Ltda B\n",
        "12/2013 381.359 77.508.190-2 Recursos_Externos_Ltda B\n",
        "11/2013 602.546 77.508.190-2 Recursos_Externos_Ltda B\n",
        "10/2013 456.682 77.508.190-2 Recursos_Externos_Ltda B\n",
        "09/2013 413.213 77.508.190-2 Recursos_Externos_Ltda B\n",
        "08/2013 328.803 77.508.190-2 Recursos_Externos_Ltda B\n",
        "07/2013 378.536 77.508.190-2 Recursos_Externos_Ltda B\n",
        "06/2013 518.483 77.508.190-2 Recursos_Externos_Ltda B\n",
        "05/2013 440.517 77.508.190-2 Recursos_Externos_Ltda B\n",
        "04/2013 293.116 77.508.190-2 Recursos_Externos_Ltda B\n",
        "\"\"\")\n",
        "\n",
        "imposiciones = pd.read_csv(StringData, sep=' ')\n",
        "imposiciones['REMUNERACIÓN_IMPONIBLE_($)'] = imposiciones['REMUNERACIÓN_IMPONIBLE_($)'] * 1000\n",
        "\n"
      ]
    },
    {
      "cell_type": "code",
      "execution_count": 9,
      "metadata": {
        "colab": {
          "base_uri": "https://localhost:8080/",
          "height": 206
        },
        "id": "v6Lz6Fd3HiML",
        "outputId": "be2a1c03-ae12-4b5c-c600-ec878701ca5a"
      },
      "outputs": [
        {
          "data": {
            "text/html": [
              "\n",
              "  <div id=\"df-218e260d-2ffe-43d8-9be3-0126c530083a\">\n",
              "    <div class=\"colab-df-container\">\n",
              "      <div>\n",
              "<style scoped>\n",
              "    .dataframe tbody tr th:only-of-type {\n",
              "        vertical-align: middle;\n",
              "    }\n",
              "\n",
              "    .dataframe tbody tr th {\n",
              "        vertical-align: top;\n",
              "    }\n",
              "\n",
              "    .dataframe thead th {\n",
              "        text-align: right;\n",
              "    }\n",
              "</style>\n",
              "<table border=\"1\" class=\"dataframe\">\n",
              "  <thead>\n",
              "    <tr style=\"text-align: right;\">\n",
              "      <th></th>\n",
              "      <th>PERÍODO</th>\n",
              "      <th>REMUNERACIÓN_IMPONIBLE_($)</th>\n",
              "      <th>RUT_EMPLEADOR</th>\n",
              "      <th>RAZÓN_SOCIAL_EMPLEADOR</th>\n",
              "      <th>FONDO</th>\n",
              "    </tr>\n",
              "  </thead>\n",
              "  <tbody>\n",
              "    <tr>\n",
              "      <th>0</th>\n",
              "      <td>04/2021</td>\n",
              "      <td>133757.0</td>\n",
              "      <td>88.926.100-5</td>\n",
              "      <td>Paisajismo_Cordillera_S.A.</td>\n",
              "      <td>E</td>\n",
              "    </tr>\n",
              "    <tr>\n",
              "      <th>1</th>\n",
              "      <td>07/2020</td>\n",
              "      <td>624911.0</td>\n",
              "      <td>81.826.800-9</td>\n",
              "      <td>Caja_De_Com_De_Asignacion_Familiar_Los_Andes</td>\n",
              "      <td>E</td>\n",
              "    </tr>\n",
              "    <tr>\n",
              "      <th>2</th>\n",
              "      <td>04/2020</td>\n",
              "      <td>323943.0</td>\n",
              "      <td>88.926.100-5</td>\n",
              "      <td>Paisajismo_Cordillera_S.A.</td>\n",
              "      <td>C</td>\n",
              "    </tr>\n",
              "    <tr>\n",
              "      <th>3</th>\n",
              "      <td>03/2020</td>\n",
              "      <td>440955.0</td>\n",
              "      <td>88.926.100-5</td>\n",
              "      <td>Paisajismo_Cordillera_S.A.</td>\n",
              "      <td>C</td>\n",
              "    </tr>\n",
              "    <tr>\n",
              "      <th>4</th>\n",
              "      <td>02/2020</td>\n",
              "      <td>624911.0</td>\n",
              "      <td>88.926.100-5</td>\n",
              "      <td>Paisajismo_Cordillera_S.A.</td>\n",
              "      <td>C</td>\n",
              "    </tr>\n",
              "  </tbody>\n",
              "</table>\n",
              "</div>\n",
              "      <button class=\"colab-df-convert\" onclick=\"convertToInteractive('df-218e260d-2ffe-43d8-9be3-0126c530083a')\"\n",
              "              title=\"Convert this dataframe to an interactive table.\"\n",
              "              style=\"display:none;\">\n",
              "        \n",
              "  <svg xmlns=\"http://www.w3.org/2000/svg\" height=\"24px\"viewBox=\"0 0 24 24\"\n",
              "       width=\"24px\">\n",
              "    <path d=\"M0 0h24v24H0V0z\" fill=\"none\"/>\n",
              "    <path d=\"M18.56 5.44l.94 2.06.94-2.06 2.06-.94-2.06-.94-.94-2.06-.94 2.06-2.06.94zm-11 1L8.5 8.5l.94-2.06 2.06-.94-2.06-.94L8.5 2.5l-.94 2.06-2.06.94zm10 10l.94 2.06.94-2.06 2.06-.94-2.06-.94-.94-2.06-.94 2.06-2.06.94z\"/><path d=\"M17.41 7.96l-1.37-1.37c-.4-.4-.92-.59-1.43-.59-.52 0-1.04.2-1.43.59L10.3 9.45l-7.72 7.72c-.78.78-.78 2.05 0 2.83L4 21.41c.39.39.9.59 1.41.59.51 0 1.02-.2 1.41-.59l7.78-7.78 2.81-2.81c.8-.78.8-2.07 0-2.86zM5.41 20L4 18.59l7.72-7.72 1.47 1.35L5.41 20z\"/>\n",
              "  </svg>\n",
              "      </button>\n",
              "      \n",
              "  <style>\n",
              "    .colab-df-container {\n",
              "      display:flex;\n",
              "      flex-wrap:wrap;\n",
              "      gap: 12px;\n",
              "    }\n",
              "\n",
              "    .colab-df-convert {\n",
              "      background-color: #E8F0FE;\n",
              "      border: none;\n",
              "      border-radius: 50%;\n",
              "      cursor: pointer;\n",
              "      display: none;\n",
              "      fill: #1967D2;\n",
              "      height: 32px;\n",
              "      padding: 0 0 0 0;\n",
              "      width: 32px;\n",
              "    }\n",
              "\n",
              "    .colab-df-convert:hover {\n",
              "      background-color: #E2EBFA;\n",
              "      box-shadow: 0px 1px 2px rgba(60, 64, 67, 0.3), 0px 1px 3px 1px rgba(60, 64, 67, 0.15);\n",
              "      fill: #174EA6;\n",
              "    }\n",
              "\n",
              "    [theme=dark] .colab-df-convert {\n",
              "      background-color: #3B4455;\n",
              "      fill: #D2E3FC;\n",
              "    }\n",
              "\n",
              "    [theme=dark] .colab-df-convert:hover {\n",
              "      background-color: #434B5C;\n",
              "      box-shadow: 0px 1px 3px 1px rgba(0, 0, 0, 0.15);\n",
              "      filter: drop-shadow(0px 1px 2px rgba(0, 0, 0, 0.3));\n",
              "      fill: #FFFFFF;\n",
              "    }\n",
              "  </style>\n",
              "\n",
              "      <script>\n",
              "        const buttonEl =\n",
              "          document.querySelector('#df-218e260d-2ffe-43d8-9be3-0126c530083a button.colab-df-convert');\n",
              "        buttonEl.style.display =\n",
              "          google.colab.kernel.accessAllowed ? 'block' : 'none';\n",
              "\n",
              "        async function convertToInteractive(key) {\n",
              "          const element = document.querySelector('#df-218e260d-2ffe-43d8-9be3-0126c530083a');\n",
              "          const dataTable =\n",
              "            await google.colab.kernel.invokeFunction('convertToInteractive',\n",
              "                                                     [key], {});\n",
              "          if (!dataTable) return;\n",
              "\n",
              "          const docLinkHtml = 'Like what you see? Visit the ' +\n",
              "            '<a target=\"_blank\" href=https://colab.research.google.com/notebooks/data_table.ipynb>data table notebook</a>'\n",
              "            + ' to learn more about interactive tables.';\n",
              "          element.innerHTML = '';\n",
              "          dataTable['output_type'] = 'display_data';\n",
              "          await google.colab.output.renderOutput(dataTable, element);\n",
              "          const docLink = document.createElement('div');\n",
              "          docLink.innerHTML = docLinkHtml;\n",
              "          element.appendChild(docLink);\n",
              "        }\n",
              "      </script>\n",
              "    </div>\n",
              "  </div>\n",
              "  "
            ],
            "text/plain": [
              "   PERÍODO  ...  FONDO\n",
              "0  04/2021  ...      E\n",
              "1  07/2020  ...      E\n",
              "2  04/2020  ...      C\n",
              "3  03/2020  ...      C\n",
              "4  02/2020  ...      C\n",
              "\n",
              "[5 rows x 5 columns]"
            ]
          },
          "execution_count": 9,
          "metadata": {},
          "output_type": "execute_result"
        }
      ],
      "source": [
        "imposiciones.head()"
      ]
    },
    {
      "cell_type": "code",
      "execution_count": 11,
      "metadata": {
        "colab": {
          "base_uri": "https://localhost:8080/"
        },
        "id": "maBUC7VOHu95",
        "outputId": "a34a0a22-88fd-4531-f683-f1ef57f7bd16"
      },
      "outputs": [
        {
          "data": {
            "text/plain": [
              "299837.74166666664"
            ]
          },
          "execution_count": 11,
          "metadata": {},
          "output_type": "execute_result"
        }
      ],
      "source": [
        "imposiciones['REMUNERACIÓN_IMPONIBLE_($)'].sum() / 120"
      ]
    },
    {
      "cell_type": "code",
      "execution_count": null,
      "metadata": {
        "id": "-DyGoLkOH0wh"
      },
      "outputs": [],
      "source": []
    }
  ],
  "metadata": {
    "colab": {
      "name": "Encoder-Decoder forecasting of CO2",
      "provenance": []
    },
    "kernelspec": {
      "display_name": "Python 3",
      "name": "python3"
    },
    "language_info": {
      "codemirror_mode": {
        "name": "ipython",
        "version": 3
      },
      "file_extension": ".py",
      "mimetype": "text/x-python",
      "name": "python",
      "nbconvert_exporter": "python",
      "pygments_lexer": "ipython3",
      "version": "3.8.8"
    }
  },
  "nbformat": 4,
  "nbformat_minor": 0
}
