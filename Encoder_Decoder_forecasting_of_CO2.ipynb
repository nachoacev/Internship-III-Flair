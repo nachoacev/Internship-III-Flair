{
  "nbformat": 4,
  "nbformat_minor": 0,
  "metadata": {
    "colab": {
      "name": "Encoder-Decoder forecasting of CO2",
      "provenance": []
    },
    "kernelspec": {
      "name": "python3",
      "display_name": "Python 3"
    },
    "language_info": {
      "name": "python"
    },
    "accelerator": "GPU"
  },
  "cells": [
    {
      "cell_type": "markdown",
      "source": [
        "# Flair Intership: Implementation of Encoder-Decoder techniques for Forecasting of levels of $CO_2$ using data collected from Airly devices\n",
        "\n",
        "## **Author**: Ignacio Acevedo"
      ],
      "metadata": {
        "id": "AkgZ_nC9_VZ8"
      }
    },
    {
      "cell_type": "code",
      "execution_count": 2,
      "metadata": {
        "id": "33EDQvCa1ktV"
      },
      "outputs": [],
      "source": [
        "# libraries and modules used through the implementation and analysis code\n",
        "\n",
        "import pandas as pd\n",
        "import numpy as np\n",
        "import matplotlib.pyplot as plt\n",
        "import os, re, sys\n",
        "from datetime import datetime, timedelta\n",
        "\n",
        "# libraries and modules specialized in deep learning\n",
        "\n",
        "import torch\n",
        "import torch.nn as nn\n",
        "import torch.nn.functional as F\n",
        "import torch.optim as optim\n",
        "from torch.utils.data import Dataset, DataLoader\n",
        "import numpy as np\n",
        "from scipy.spatial import distance\n",
        "from timeit import default_timer as timer\n",
        "from torch.utils.data import random_split"
      ]
    },
    {
      "cell_type": "markdown",
      "source": [
        "# Load data"
      ],
      "metadata": {
        "id": "REvjshZzJuAG"
      }
    },
    {
      "cell_type": "code",
      "source": [
        "# general function to generate sequences of time series\n",
        "\n",
        "def tseries_gen(data, deltaT, Lmin, Lmax, Lf, max_gap=500*1E+03, output=['co2'], N=20):\n",
        "  '''\n",
        "    Args:\n",
        "            data (DataFrame): data with the features of the device for the input.\n",
        "            deltaT (list/serie): list of the times from the last sample measured by the device.\n",
        "            Lmin (int): minimum length of the input time serie.\n",
        "            Lmax (int): maximum length of the input time serie.\n",
        "            Lf (int): length of the time serie to predict.\n",
        "            max_gap (float) : maximum value of the difference of time between samples.\n",
        "            output (str) : feature to predict in the output.\n",
        "            N (int) : Number of samples of time series with length between [Lmin, Lmax].\n",
        "    \n",
        "    Return: List of time series samples in the following structure\n",
        "            input_enc, input_dec, output_dec\n",
        "            where 'input_enc' is a list of features from 'data' with length between [Lmin, Lmax]. 'input_dec'\n",
        "            is the difference of times of 'output_dec' and 'output_dec' is the time serie to predict.\n",
        "    '''\n",
        "  input_enc = []\n",
        "  input_dec = []\n",
        "  output_dec = []\n",
        "  index = np.random.randint(Lmin, Lmax, size=N)\n",
        "  for i in range(len(data)-Lmax-Lf):\n",
        "    for j in index:\n",
        "      if (deltaT[i:i+j+Lf] < max_gap).all():\n",
        "        # seqs_enc.append([data[i:i+j], deltaT[i:i+j]])\n",
        "        input_enc.append(data[i:i+j])\n",
        "        input_dec.append(deltaT[i+j:i+j+Lf])\n",
        "        output_dec.append(data[i+j:i+j+Lf][output]) #, deltaT[i+j:i+j+Lf]])\n",
        "  \n",
        "  return input_enc, input_dec, output_dec"
      ],
      "metadata": {
        "id": "SmY-RivjAUya"
      },
      "execution_count": 2,
      "outputs": []
    },
    {
      "cell_type": "code",
      "source": [
        "# # Aqui descargamos algunas funciones utiles para resolver la tarea y entrenar los modelos\n",
        "# if not os.path.exists('utils.py'):\n",
        "#   !wget https://raw.githubusercontent.com/dccuchile/CC6204/master/2020/tareas/tarea4/utils.py"
      ],
      "metadata": {
        "id": "BefehwnWHL7s"
      },
      "execution_count": null,
      "outputs": []
    },
    {
      "cell_type": "code",
      "source": [
        "from google.colab import drive\n",
        "drive.mount('/content/drive')"
      ],
      "metadata": {
        "colab": {
          "base_uri": "https://localhost:8080/"
        },
        "id": "90p88VX1QB5F",
        "outputId": "e4f2e52e-870c-4e8e-e0f7-7cb4a460051e"
      },
      "execution_count": 3,
      "outputs": [
        {
          "output_type": "stream",
          "name": "stdout",
          "text": [
            "Mounted at /content/drive\n"
          ]
        }
      ]
    },
    {
      "cell_type": "code",
      "source": [
        "path = '/content/drive/MyDrive/7mo año/Práctica 2022/Data/data.csv'\n",
        "df = pd.read_csv(path, index_col='time')"
      ],
      "metadata": {
        "id": "8tkoQtBx1NvX"
      },
      "execution_count": 4,
      "outputs": []
    },
    {
      "cell_type": "code",
      "source": [
        "df.head()"
      ],
      "metadata": {
        "colab": {
          "base_uri": "https://localhost:8080/",
          "height": 237
        },
        "id": "xtSm1Z0H2AqM",
        "outputId": "47337977-88e1-416c-cab9-9813db0d57e1"
      },
      "execution_count": 5,
      "outputs": [
        {
          "output_type": "execute_result",
          "data": {
            "text/html": [
              "\n",
              "  <div id=\"df-2030e79d-94e6-444c-a7da-ca1ce0ef2a76\">\n",
              "    <div class=\"colab-df-container\">\n",
              "      <div>\n",
              "<style scoped>\n",
              "    .dataframe tbody tr th:only-of-type {\n",
              "        vertical-align: middle;\n",
              "    }\n",
              "\n",
              "    .dataframe tbody tr th {\n",
              "        vertical-align: top;\n",
              "    }\n",
              "\n",
              "    .dataframe thead th {\n",
              "        text-align: right;\n",
              "    }\n",
              "</style>\n",
              "<table border=\"1\" class=\"dataframe\">\n",
              "  <thead>\n",
              "    <tr style=\"text-align: right;\">\n",
              "      <th></th>\n",
              "      <th>sample_time</th>\n",
              "      <th>device_id</th>\n",
              "      <th>temperature</th>\n",
              "      <th>humidity</th>\n",
              "      <th>co2</th>\n",
              "      <th>hour</th>\n",
              "      <th>day_name</th>\n",
              "      <th>location</th>\n",
              "      <th>location_id</th>\n",
              "      <th>workday</th>\n",
              "      <th>dt_device</th>\n",
              "      <th>dt_location</th>\n",
              "    </tr>\n",
              "    <tr>\n",
              "      <th>time</th>\n",
              "      <th></th>\n",
              "      <th></th>\n",
              "      <th></th>\n",
              "      <th></th>\n",
              "      <th></th>\n",
              "      <th></th>\n",
              "      <th></th>\n",
              "      <th></th>\n",
              "      <th></th>\n",
              "      <th></th>\n",
              "      <th></th>\n",
              "      <th></th>\n",
              "    </tr>\n",
              "  </thead>\n",
              "  <tbody>\n",
              "    <tr>\n",
              "      <th>2021-08-04 16:09:38.272</th>\n",
              "      <td>1628107778272</td>\n",
              "      <td>gam-01</td>\n",
              "      <td>22.1</td>\n",
              "      <td>36</td>\n",
              "      <td>719</td>\n",
              "      <td>16.160556</td>\n",
              "      <td>Wednesday</td>\n",
              "      <td>gam</td>\n",
              "      <td>1</td>\n",
              "      <td>True</td>\n",
              "      <td>139239.0</td>\n",
              "      <td>67483.0</td>\n",
              "    </tr>\n",
              "    <tr>\n",
              "      <th>2021-08-04 16:11:10.627</th>\n",
              "      <td>1628107870627</td>\n",
              "      <td>gam-01</td>\n",
              "      <td>22.2</td>\n",
              "      <td>35</td>\n",
              "      <td>670</td>\n",
              "      <td>16.186111</td>\n",
              "      <td>Wednesday</td>\n",
              "      <td>gam</td>\n",
              "      <td>1</td>\n",
              "      <td>True</td>\n",
              "      <td>92355.0</td>\n",
              "      <td>92355.0</td>\n",
              "    </tr>\n",
              "    <tr>\n",
              "      <th>2021-08-04 16:12:07.277</th>\n",
              "      <td>1628107927277</td>\n",
              "      <td>gam-01</td>\n",
              "      <td>22.2</td>\n",
              "      <td>35</td>\n",
              "      <td>667</td>\n",
              "      <td>16.201944</td>\n",
              "      <td>Wednesday</td>\n",
              "      <td>gam</td>\n",
              "      <td>1</td>\n",
              "      <td>True</td>\n",
              "      <td>56650.0</td>\n",
              "      <td>56650.0</td>\n",
              "    </tr>\n",
              "    <tr>\n",
              "      <th>2021-08-04 16:13:04.394</th>\n",
              "      <td>1628107984394</td>\n",
              "      <td>gam-01</td>\n",
              "      <td>22.3</td>\n",
              "      <td>34</td>\n",
              "      <td>648</td>\n",
              "      <td>16.217778</td>\n",
              "      <td>Wednesday</td>\n",
              "      <td>gam</td>\n",
              "      <td>1</td>\n",
              "      <td>True</td>\n",
              "      <td>57117.0</td>\n",
              "      <td>57117.0</td>\n",
              "    </tr>\n",
              "    <tr>\n",
              "      <th>2021-08-04 16:14:01.490</th>\n",
              "      <td>1628108041490</td>\n",
              "      <td>gam-01</td>\n",
              "      <td>22.3</td>\n",
              "      <td>34</td>\n",
              "      <td>636</td>\n",
              "      <td>16.233611</td>\n",
              "      <td>Wednesday</td>\n",
              "      <td>gam</td>\n",
              "      <td>1</td>\n",
              "      <td>True</td>\n",
              "      <td>57096.0</td>\n",
              "      <td>57096.0</td>\n",
              "    </tr>\n",
              "  </tbody>\n",
              "</table>\n",
              "</div>\n",
              "      <button class=\"colab-df-convert\" onclick=\"convertToInteractive('df-2030e79d-94e6-444c-a7da-ca1ce0ef2a76')\"\n",
              "              title=\"Convert this dataframe to an interactive table.\"\n",
              "              style=\"display:none;\">\n",
              "        \n",
              "  <svg xmlns=\"http://www.w3.org/2000/svg\" height=\"24px\"viewBox=\"0 0 24 24\"\n",
              "       width=\"24px\">\n",
              "    <path d=\"M0 0h24v24H0V0z\" fill=\"none\"/>\n",
              "    <path d=\"M18.56 5.44l.94 2.06.94-2.06 2.06-.94-2.06-.94-.94-2.06-.94 2.06-2.06.94zm-11 1L8.5 8.5l.94-2.06 2.06-.94-2.06-.94L8.5 2.5l-.94 2.06-2.06.94zm10 10l.94 2.06.94-2.06 2.06-.94-2.06-.94-.94-2.06-.94 2.06-2.06.94z\"/><path d=\"M17.41 7.96l-1.37-1.37c-.4-.4-.92-.59-1.43-.59-.52 0-1.04.2-1.43.59L10.3 9.45l-7.72 7.72c-.78.78-.78 2.05 0 2.83L4 21.41c.39.39.9.59 1.41.59.51 0 1.02-.2 1.41-.59l7.78-7.78 2.81-2.81c.8-.78.8-2.07 0-2.86zM5.41 20L4 18.59l7.72-7.72 1.47 1.35L5.41 20z\"/>\n",
              "  </svg>\n",
              "      </button>\n",
              "      \n",
              "  <style>\n",
              "    .colab-df-container {\n",
              "      display:flex;\n",
              "      flex-wrap:wrap;\n",
              "      gap: 12px;\n",
              "    }\n",
              "\n",
              "    .colab-df-convert {\n",
              "      background-color: #E8F0FE;\n",
              "      border: none;\n",
              "      border-radius: 50%;\n",
              "      cursor: pointer;\n",
              "      display: none;\n",
              "      fill: #1967D2;\n",
              "      height: 32px;\n",
              "      padding: 0 0 0 0;\n",
              "      width: 32px;\n",
              "    }\n",
              "\n",
              "    .colab-df-convert:hover {\n",
              "      background-color: #E2EBFA;\n",
              "      box-shadow: 0px 1px 2px rgba(60, 64, 67, 0.3), 0px 1px 3px 1px rgba(60, 64, 67, 0.15);\n",
              "      fill: #174EA6;\n",
              "    }\n",
              "\n",
              "    [theme=dark] .colab-df-convert {\n",
              "      background-color: #3B4455;\n",
              "      fill: #D2E3FC;\n",
              "    }\n",
              "\n",
              "    [theme=dark] .colab-df-convert:hover {\n",
              "      background-color: #434B5C;\n",
              "      box-shadow: 0px 1px 3px 1px rgba(0, 0, 0, 0.15);\n",
              "      filter: drop-shadow(0px 1px 2px rgba(0, 0, 0, 0.3));\n",
              "      fill: #FFFFFF;\n",
              "    }\n",
              "  </style>\n",
              "\n",
              "      <script>\n",
              "        const buttonEl =\n",
              "          document.querySelector('#df-2030e79d-94e6-444c-a7da-ca1ce0ef2a76 button.colab-df-convert');\n",
              "        buttonEl.style.display =\n",
              "          google.colab.kernel.accessAllowed ? 'block' : 'none';\n",
              "\n",
              "        async function convertToInteractive(key) {\n",
              "          const element = document.querySelector('#df-2030e79d-94e6-444c-a7da-ca1ce0ef2a76');\n",
              "          const dataTable =\n",
              "            await google.colab.kernel.invokeFunction('convertToInteractive',\n",
              "                                                     [key], {});\n",
              "          if (!dataTable) return;\n",
              "\n",
              "          const docLinkHtml = 'Like what you see? Visit the ' +\n",
              "            '<a target=\"_blank\" href=https://colab.research.google.com/notebooks/data_table.ipynb>data table notebook</a>'\n",
              "            + ' to learn more about interactive tables.';\n",
              "          element.innerHTML = '';\n",
              "          dataTable['output_type'] = 'display_data';\n",
              "          await google.colab.output.renderOutput(dataTable, element);\n",
              "          const docLink = document.createElement('div');\n",
              "          docLink.innerHTML = docLinkHtml;\n",
              "          element.appendChild(docLink);\n",
              "        }\n",
              "      </script>\n",
              "    </div>\n",
              "  </div>\n",
              "  "
            ],
            "text/plain": [
              "                           sample_time device_id  ...  dt_device  dt_location\n",
              "time                                              ...                        \n",
              "2021-08-04 16:09:38.272  1628107778272    gam-01  ...   139239.0      67483.0\n",
              "2021-08-04 16:11:10.627  1628107870627    gam-01  ...    92355.0      92355.0\n",
              "2021-08-04 16:12:07.277  1628107927277    gam-01  ...    56650.0      56650.0\n",
              "2021-08-04 16:13:04.394  1628107984394    gam-01  ...    57117.0      57117.0\n",
              "2021-08-04 16:14:01.490  1628108041490    gam-01  ...    57096.0      57096.0\n",
              "\n",
              "[5 rows x 12 columns]"
            ]
          },
          "metadata": {},
          "execution_count": 5
        }
      ]
    },
    {
      "cell_type": "markdown",
      "source": [
        "# Encode categorical variables and generate time series"
      ],
      "metadata": {
        "id": "ZpOrrX4x-edL"
      }
    },
    {
      "cell_type": "code",
      "source": [
        "df.drop(columns=['sample_time', 'dt_location', 'location_id'], inplace=True)"
      ],
      "metadata": {
        "id": "lfPVeNqP2Uhd"
      },
      "execution_count": 6,
      "outputs": []
    },
    {
      "cell_type": "code",
      "source": [
        "# One hot encoding for categorical variables\n",
        "\n",
        "df.drop(columns=['day_name'], inplace=True)\n",
        "df = pd.get_dummies(df, columns=['location', 'workday'])\n",
        "df.index = pd.to_datetime(df.index)\n",
        "df.head()"
      ],
      "metadata": {
        "colab": {
          "base_uri": "https://localhost:8080/",
          "height": 237
        },
        "id": "uwV1Xd2L-oPx",
        "outputId": "36f18dc9-b320-400d-bdcc-323c70b5deff"
      },
      "execution_count": 7,
      "outputs": [
        {
          "output_type": "execute_result",
          "data": {
            "text/html": [
              "\n",
              "  <div id=\"df-39db9879-03f0-4ebe-8cd6-c30dc7225649\">\n",
              "    <div class=\"colab-df-container\">\n",
              "      <div>\n",
              "<style scoped>\n",
              "    .dataframe tbody tr th:only-of-type {\n",
              "        vertical-align: middle;\n",
              "    }\n",
              "\n",
              "    .dataframe tbody tr th {\n",
              "        vertical-align: top;\n",
              "    }\n",
              "\n",
              "    .dataframe thead th {\n",
              "        text-align: right;\n",
              "    }\n",
              "</style>\n",
              "<table border=\"1\" class=\"dataframe\">\n",
              "  <thead>\n",
              "    <tr style=\"text-align: right;\">\n",
              "      <th></th>\n",
              "      <th>device_id</th>\n",
              "      <th>temperature</th>\n",
              "      <th>humidity</th>\n",
              "      <th>co2</th>\n",
              "      <th>hour</th>\n",
              "      <th>dt_device</th>\n",
              "      <th>location_gam</th>\n",
              "      <th>location_hcm</th>\n",
              "      <th>workday_False</th>\n",
              "      <th>workday_True</th>\n",
              "    </tr>\n",
              "    <tr>\n",
              "      <th>time</th>\n",
              "      <th></th>\n",
              "      <th></th>\n",
              "      <th></th>\n",
              "      <th></th>\n",
              "      <th></th>\n",
              "      <th></th>\n",
              "      <th></th>\n",
              "      <th></th>\n",
              "      <th></th>\n",
              "      <th></th>\n",
              "    </tr>\n",
              "  </thead>\n",
              "  <tbody>\n",
              "    <tr>\n",
              "      <th>2021-08-04 16:09:38.272</th>\n",
              "      <td>gam-01</td>\n",
              "      <td>22.1</td>\n",
              "      <td>36</td>\n",
              "      <td>719</td>\n",
              "      <td>16.160556</td>\n",
              "      <td>139239.0</td>\n",
              "      <td>1</td>\n",
              "      <td>0</td>\n",
              "      <td>0</td>\n",
              "      <td>1</td>\n",
              "    </tr>\n",
              "    <tr>\n",
              "      <th>2021-08-04 16:11:10.627</th>\n",
              "      <td>gam-01</td>\n",
              "      <td>22.2</td>\n",
              "      <td>35</td>\n",
              "      <td>670</td>\n",
              "      <td>16.186111</td>\n",
              "      <td>92355.0</td>\n",
              "      <td>1</td>\n",
              "      <td>0</td>\n",
              "      <td>0</td>\n",
              "      <td>1</td>\n",
              "    </tr>\n",
              "    <tr>\n",
              "      <th>2021-08-04 16:12:07.277</th>\n",
              "      <td>gam-01</td>\n",
              "      <td>22.2</td>\n",
              "      <td>35</td>\n",
              "      <td>667</td>\n",
              "      <td>16.201944</td>\n",
              "      <td>56650.0</td>\n",
              "      <td>1</td>\n",
              "      <td>0</td>\n",
              "      <td>0</td>\n",
              "      <td>1</td>\n",
              "    </tr>\n",
              "    <tr>\n",
              "      <th>2021-08-04 16:13:04.394</th>\n",
              "      <td>gam-01</td>\n",
              "      <td>22.3</td>\n",
              "      <td>34</td>\n",
              "      <td>648</td>\n",
              "      <td>16.217778</td>\n",
              "      <td>57117.0</td>\n",
              "      <td>1</td>\n",
              "      <td>0</td>\n",
              "      <td>0</td>\n",
              "      <td>1</td>\n",
              "    </tr>\n",
              "    <tr>\n",
              "      <th>2021-08-04 16:14:01.490</th>\n",
              "      <td>gam-01</td>\n",
              "      <td>22.3</td>\n",
              "      <td>34</td>\n",
              "      <td>636</td>\n",
              "      <td>16.233611</td>\n",
              "      <td>57096.0</td>\n",
              "      <td>1</td>\n",
              "      <td>0</td>\n",
              "      <td>0</td>\n",
              "      <td>1</td>\n",
              "    </tr>\n",
              "  </tbody>\n",
              "</table>\n",
              "</div>\n",
              "      <button class=\"colab-df-convert\" onclick=\"convertToInteractive('df-39db9879-03f0-4ebe-8cd6-c30dc7225649')\"\n",
              "              title=\"Convert this dataframe to an interactive table.\"\n",
              "              style=\"display:none;\">\n",
              "        \n",
              "  <svg xmlns=\"http://www.w3.org/2000/svg\" height=\"24px\"viewBox=\"0 0 24 24\"\n",
              "       width=\"24px\">\n",
              "    <path d=\"M0 0h24v24H0V0z\" fill=\"none\"/>\n",
              "    <path d=\"M18.56 5.44l.94 2.06.94-2.06 2.06-.94-2.06-.94-.94-2.06-.94 2.06-2.06.94zm-11 1L8.5 8.5l.94-2.06 2.06-.94-2.06-.94L8.5 2.5l-.94 2.06-2.06.94zm10 10l.94 2.06.94-2.06 2.06-.94-2.06-.94-.94-2.06-.94 2.06-2.06.94z\"/><path d=\"M17.41 7.96l-1.37-1.37c-.4-.4-.92-.59-1.43-.59-.52 0-1.04.2-1.43.59L10.3 9.45l-7.72 7.72c-.78.78-.78 2.05 0 2.83L4 21.41c.39.39.9.59 1.41.59.51 0 1.02-.2 1.41-.59l7.78-7.78 2.81-2.81c.8-.78.8-2.07 0-2.86zM5.41 20L4 18.59l7.72-7.72 1.47 1.35L5.41 20z\"/>\n",
              "  </svg>\n",
              "      </button>\n",
              "      \n",
              "  <style>\n",
              "    .colab-df-container {\n",
              "      display:flex;\n",
              "      flex-wrap:wrap;\n",
              "      gap: 12px;\n",
              "    }\n",
              "\n",
              "    .colab-df-convert {\n",
              "      background-color: #E8F0FE;\n",
              "      border: none;\n",
              "      border-radius: 50%;\n",
              "      cursor: pointer;\n",
              "      display: none;\n",
              "      fill: #1967D2;\n",
              "      height: 32px;\n",
              "      padding: 0 0 0 0;\n",
              "      width: 32px;\n",
              "    }\n",
              "\n",
              "    .colab-df-convert:hover {\n",
              "      background-color: #E2EBFA;\n",
              "      box-shadow: 0px 1px 2px rgba(60, 64, 67, 0.3), 0px 1px 3px 1px rgba(60, 64, 67, 0.15);\n",
              "      fill: #174EA6;\n",
              "    }\n",
              "\n",
              "    [theme=dark] .colab-df-convert {\n",
              "      background-color: #3B4455;\n",
              "      fill: #D2E3FC;\n",
              "    }\n",
              "\n",
              "    [theme=dark] .colab-df-convert:hover {\n",
              "      background-color: #434B5C;\n",
              "      box-shadow: 0px 1px 3px 1px rgba(0, 0, 0, 0.15);\n",
              "      filter: drop-shadow(0px 1px 2px rgba(0, 0, 0, 0.3));\n",
              "      fill: #FFFFFF;\n",
              "    }\n",
              "  </style>\n",
              "\n",
              "      <script>\n",
              "        const buttonEl =\n",
              "          document.querySelector('#df-39db9879-03f0-4ebe-8cd6-c30dc7225649 button.colab-df-convert');\n",
              "        buttonEl.style.display =\n",
              "          google.colab.kernel.accessAllowed ? 'block' : 'none';\n",
              "\n",
              "        async function convertToInteractive(key) {\n",
              "          const element = document.querySelector('#df-39db9879-03f0-4ebe-8cd6-c30dc7225649');\n",
              "          const dataTable =\n",
              "            await google.colab.kernel.invokeFunction('convertToInteractive',\n",
              "                                                     [key], {});\n",
              "          if (!dataTable) return;\n",
              "\n",
              "          const docLinkHtml = 'Like what you see? Visit the ' +\n",
              "            '<a target=\"_blank\" href=https://colab.research.google.com/notebooks/data_table.ipynb>data table notebook</a>'\n",
              "            + ' to learn more about interactive tables.';\n",
              "          element.innerHTML = '';\n",
              "          dataTable['output_type'] = 'display_data';\n",
              "          await google.colab.output.renderOutput(dataTable, element);\n",
              "          const docLink = document.createElement('div');\n",
              "          docLink.innerHTML = docLinkHtml;\n",
              "          element.appendChild(docLink);\n",
              "        }\n",
              "      </script>\n",
              "    </div>\n",
              "  </div>\n",
              "  "
            ],
            "text/plain": [
              "                        device_id  temperature  ...  workday_False  workday_True\n",
              "time                                            ...                             \n",
              "2021-08-04 16:09:38.272    gam-01         22.1  ...              0             1\n",
              "2021-08-04 16:11:10.627    gam-01         22.2  ...              0             1\n",
              "2021-08-04 16:12:07.277    gam-01         22.2  ...              0             1\n",
              "2021-08-04 16:13:04.394    gam-01         22.3  ...              0             1\n",
              "2021-08-04 16:14:01.490    gam-01         22.3  ...              0             1\n",
              "\n",
              "[5 rows x 10 columns]"
            ]
          },
          "metadata": {},
          "execution_count": 7
        }
      ]
    },
    {
      "cell_type": "markdown",
      "source": [
        "# Generate Time Series Data"
      ],
      "metadata": {
        "id": "3dpAsIg4g7f0"
      }
    },
    {
      "cell_type": "code",
      "source": [
        "mask = (df.device_id == 'hcm-15')\n",
        "data = df[mask]"
      ],
      "metadata": {
        "id": "pc6lfs1phAjr"
      },
      "execution_count": 8,
      "outputs": []
    },
    {
      "cell_type": "code",
      "source": [
        "# Normalization\n",
        "# We could use scalar scikit-learn functions here\n",
        "\n",
        "filter_data = data[data['dt_device'] < data.dt_device.quantile([0.99]).item()]\n",
        "\n",
        "mu = [filter_data[feature].mean() for feature in ['temperature', 'humidity', 'co2', 'hour', 'dt_device']]\n",
        "sigma = [filter_data[feature].std() for feature in ['temperature', 'humidity', 'co2', 'hour', 'dt_device']]\n",
        "\n",
        "for feature in ['temperature', 'humidity', 'co2', 'hour', 'dt_device']:\n",
        "  mean = filter_data[feature].mean()\n",
        "  std = filter_data[feature].std()\n",
        "  data[feature] -= mean\n",
        "  data[feature] /= std\n",
        "\n",
        "  mu.append(mean)\n",
        "  sigma.append(std)"
      ],
      "metadata": {
        "colab": {
          "base_uri": "https://localhost:8080/"
        },
        "id": "xu1iaL9Ro6Lw",
        "outputId": "881233ba-cfc9-4e93-b428-52864bdbc559"
      },
      "execution_count": 9,
      "outputs": [
        {
          "output_type": "stream",
          "name": "stderr",
          "text": [
            "/usr/local/lib/python3.7/dist-packages/ipykernel_launcher.py:12: SettingWithCopyWarning: \n",
            "A value is trying to be set on a copy of a slice from a DataFrame.\n",
            "Try using .loc[row_indexer,col_indexer] = value instead\n",
            "\n",
            "See the caveats in the documentation: https://pandas.pydata.org/pandas-docs/stable/user_guide/indexing.html#returning-a-view-versus-a-copy\n",
            "  if sys.path[0] == '':\n",
            "/usr/local/lib/python3.7/dist-packages/ipykernel_launcher.py:13: SettingWithCopyWarning: \n",
            "A value is trying to be set on a copy of a slice from a DataFrame.\n",
            "Try using .loc[row_indexer,col_indexer] = value instead\n",
            "\n",
            "See the caveats in the documentation: https://pandas.pydata.org/pandas-docs/stable/user_guide/indexing.html#returning-a-view-versus-a-copy\n",
            "  del sys.path[0]\n"
          ]
        }
      ]
    },
    {
      "cell_type": "code",
      "source": [
        "data.head()"
      ],
      "metadata": {
        "colab": {
          "base_uri": "https://localhost:8080/",
          "height": 237
        },
        "id": "98UGjM5Xp5kH",
        "outputId": "2a2b37df-47e1-447b-8483-13bb5080199b"
      },
      "execution_count": 10,
      "outputs": [
        {
          "output_type": "execute_result",
          "data": {
            "text/html": [
              "\n",
              "  <div id=\"df-25c956cc-0aee-4a14-8079-0568eaa83d8f\">\n",
              "    <div class=\"colab-df-container\">\n",
              "      <div>\n",
              "<style scoped>\n",
              "    .dataframe tbody tr th:only-of-type {\n",
              "        vertical-align: middle;\n",
              "    }\n",
              "\n",
              "    .dataframe tbody tr th {\n",
              "        vertical-align: top;\n",
              "    }\n",
              "\n",
              "    .dataframe thead th {\n",
              "        text-align: right;\n",
              "    }\n",
              "</style>\n",
              "<table border=\"1\" class=\"dataframe\">\n",
              "  <thead>\n",
              "    <tr style=\"text-align: right;\">\n",
              "      <th></th>\n",
              "      <th>device_id</th>\n",
              "      <th>temperature</th>\n",
              "      <th>humidity</th>\n",
              "      <th>co2</th>\n",
              "      <th>hour</th>\n",
              "      <th>dt_device</th>\n",
              "      <th>location_gam</th>\n",
              "      <th>location_hcm</th>\n",
              "      <th>workday_False</th>\n",
              "      <th>workday_True</th>\n",
              "    </tr>\n",
              "    <tr>\n",
              "      <th>time</th>\n",
              "      <th></th>\n",
              "      <th></th>\n",
              "      <th></th>\n",
              "      <th></th>\n",
              "      <th></th>\n",
              "      <th></th>\n",
              "      <th></th>\n",
              "      <th></th>\n",
              "      <th></th>\n",
              "      <th></th>\n",
              "    </tr>\n",
              "  </thead>\n",
              "  <tbody>\n",
              "    <tr>\n",
              "      <th>2021-10-14 14:20:38.702</th>\n",
              "      <td>hcm-15</td>\n",
              "      <td>-1.84859</td>\n",
              "      <td>0.532306</td>\n",
              "      <td>1.054624</td>\n",
              "      <td>0.354984</td>\n",
              "      <td>-0.692303</td>\n",
              "      <td>0</td>\n",
              "      <td>1</td>\n",
              "      <td>0</td>\n",
              "      <td>1</td>\n",
              "    </tr>\n",
              "    <tr>\n",
              "      <th>2021-10-14 14:21:27.406</th>\n",
              "      <td>hcm-15</td>\n",
              "      <td>-1.84859</td>\n",
              "      <td>0.532306</td>\n",
              "      <td>0.991817</td>\n",
              "      <td>0.356907</td>\n",
              "      <td>-0.980406</td>\n",
              "      <td>0</td>\n",
              "      <td>1</td>\n",
              "      <td>0</td>\n",
              "      <td>1</td>\n",
              "    </tr>\n",
              "    <tr>\n",
              "      <th>2021-10-14 14:24:53.950</th>\n",
              "      <td>hcm-15</td>\n",
              "      <td>-1.84859</td>\n",
              "      <td>0.532306</td>\n",
              "      <td>1.180238</td>\n",
              "      <td>0.364995</td>\n",
              "      <td>1.874217</td>\n",
              "      <td>0</td>\n",
              "      <td>1</td>\n",
              "      <td>0</td>\n",
              "      <td>1</td>\n",
              "    </tr>\n",
              "    <tr>\n",
              "      <th>2021-10-14 14:28:31.098</th>\n",
              "      <td>hcm-15</td>\n",
              "      <td>-1.84859</td>\n",
              "      <td>0.532306</td>\n",
              "      <td>1.067185</td>\n",
              "      <td>0.373553</td>\n",
              "      <td>2.065996</td>\n",
              "      <td>0</td>\n",
              "      <td>1</td>\n",
              "      <td>0</td>\n",
              "      <td>1</td>\n",
              "    </tr>\n",
              "    <tr>\n",
              "      <th>2021-10-14 14:29:37.485</th>\n",
              "      <td>hcm-15</td>\n",
              "      <td>-1.84859</td>\n",
              "      <td>0.532306</td>\n",
              "      <td>1.067185</td>\n",
              "      <td>0.376144</td>\n",
              "      <td>-0.660599</td>\n",
              "      <td>0</td>\n",
              "      <td>1</td>\n",
              "      <td>0</td>\n",
              "      <td>1</td>\n",
              "    </tr>\n",
              "  </tbody>\n",
              "</table>\n",
              "</div>\n",
              "      <button class=\"colab-df-convert\" onclick=\"convertToInteractive('df-25c956cc-0aee-4a14-8079-0568eaa83d8f')\"\n",
              "              title=\"Convert this dataframe to an interactive table.\"\n",
              "              style=\"display:none;\">\n",
              "        \n",
              "  <svg xmlns=\"http://www.w3.org/2000/svg\" height=\"24px\"viewBox=\"0 0 24 24\"\n",
              "       width=\"24px\">\n",
              "    <path d=\"M0 0h24v24H0V0z\" fill=\"none\"/>\n",
              "    <path d=\"M18.56 5.44l.94 2.06.94-2.06 2.06-.94-2.06-.94-.94-2.06-.94 2.06-2.06.94zm-11 1L8.5 8.5l.94-2.06 2.06-.94-2.06-.94L8.5 2.5l-.94 2.06-2.06.94zm10 10l.94 2.06.94-2.06 2.06-.94-2.06-.94-.94-2.06-.94 2.06-2.06.94z\"/><path d=\"M17.41 7.96l-1.37-1.37c-.4-.4-.92-.59-1.43-.59-.52 0-1.04.2-1.43.59L10.3 9.45l-7.72 7.72c-.78.78-.78 2.05 0 2.83L4 21.41c.39.39.9.59 1.41.59.51 0 1.02-.2 1.41-.59l7.78-7.78 2.81-2.81c.8-.78.8-2.07 0-2.86zM5.41 20L4 18.59l7.72-7.72 1.47 1.35L5.41 20z\"/>\n",
              "  </svg>\n",
              "      </button>\n",
              "      \n",
              "  <style>\n",
              "    .colab-df-container {\n",
              "      display:flex;\n",
              "      flex-wrap:wrap;\n",
              "      gap: 12px;\n",
              "    }\n",
              "\n",
              "    .colab-df-convert {\n",
              "      background-color: #E8F0FE;\n",
              "      border: none;\n",
              "      border-radius: 50%;\n",
              "      cursor: pointer;\n",
              "      display: none;\n",
              "      fill: #1967D2;\n",
              "      height: 32px;\n",
              "      padding: 0 0 0 0;\n",
              "      width: 32px;\n",
              "    }\n",
              "\n",
              "    .colab-df-convert:hover {\n",
              "      background-color: #E2EBFA;\n",
              "      box-shadow: 0px 1px 2px rgba(60, 64, 67, 0.3), 0px 1px 3px 1px rgba(60, 64, 67, 0.15);\n",
              "      fill: #174EA6;\n",
              "    }\n",
              "\n",
              "    [theme=dark] .colab-df-convert {\n",
              "      background-color: #3B4455;\n",
              "      fill: #D2E3FC;\n",
              "    }\n",
              "\n",
              "    [theme=dark] .colab-df-convert:hover {\n",
              "      background-color: #434B5C;\n",
              "      box-shadow: 0px 1px 3px 1px rgba(0, 0, 0, 0.15);\n",
              "      filter: drop-shadow(0px 1px 2px rgba(0, 0, 0, 0.3));\n",
              "      fill: #FFFFFF;\n",
              "    }\n",
              "  </style>\n",
              "\n",
              "      <script>\n",
              "        const buttonEl =\n",
              "          document.querySelector('#df-25c956cc-0aee-4a14-8079-0568eaa83d8f button.colab-df-convert');\n",
              "        buttonEl.style.display =\n",
              "          google.colab.kernel.accessAllowed ? 'block' : 'none';\n",
              "\n",
              "        async function convertToInteractive(key) {\n",
              "          const element = document.querySelector('#df-25c956cc-0aee-4a14-8079-0568eaa83d8f');\n",
              "          const dataTable =\n",
              "            await google.colab.kernel.invokeFunction('convertToInteractive',\n",
              "                                                     [key], {});\n",
              "          if (!dataTable) return;\n",
              "\n",
              "          const docLinkHtml = 'Like what you see? Visit the ' +\n",
              "            '<a target=\"_blank\" href=https://colab.research.google.com/notebooks/data_table.ipynb>data table notebook</a>'\n",
              "            + ' to learn more about interactive tables.';\n",
              "          element.innerHTML = '';\n",
              "          dataTable['output_type'] = 'display_data';\n",
              "          await google.colab.output.renderOutput(dataTable, element);\n",
              "          const docLink = document.createElement('div');\n",
              "          docLink.innerHTML = docLinkHtml;\n",
              "          element.appendChild(docLink);\n",
              "        }\n",
              "      </script>\n",
              "    </div>\n",
              "  </div>\n",
              "  "
            ],
            "text/plain": [
              "                        device_id  temperature  ...  workday_False  workday_True\n",
              "time                                            ...                             \n",
              "2021-10-14 14:20:38.702    hcm-15     -1.84859  ...              0             1\n",
              "2021-10-14 14:21:27.406    hcm-15     -1.84859  ...              0             1\n",
              "2021-10-14 14:24:53.950    hcm-15     -1.84859  ...              0             1\n",
              "2021-10-14 14:28:31.098    hcm-15     -1.84859  ...              0             1\n",
              "2021-10-14 14:29:37.485    hcm-15     -1.84859  ...              0             1\n",
              "\n",
              "[5 rows x 10 columns]"
            ]
          },
          "metadata": {},
          "execution_count": 10
        }
      ]
    },
    {
      "cell_type": "code",
      "source": [
        "deltaT = data.dt_device\n",
        "data = data.drop(columns=['device_id'])\n",
        "\n",
        "Lmin = 90 # \\approx 1 hour and a half\n",
        "Lmax = 180 # \\approx 3 hours\n",
        "Lf = 30 # \\approx 30 minutes\n",
        "max_gap = deltaT.quantile([0.99]).item()\n",
        "\n",
        "input_enc_test1, input_dec_test1, output_test1 = tseries_gen(data, deltaT, Lmin, Lmax, Lf, max_gap=max_gap, N=10)\n"
      ],
      "metadata": {
        "id": "ur2V-zPE-730"
      },
      "execution_count": 11,
      "outputs": []
    },
    {
      "cell_type": "code",
      "source": [
        "print(f'total length of the serie: {len(data)}')\n",
        "print(f'total length of the future real CO2 value: {len(output_test1)}')\n",
        "print(f'time series with random length from {Lmin} to {Lmax}, and predicted length of {Lf}:', len(input_enc_test1))\n",
        "print('number of devices:', len(df.device_id.unique()))"
      ],
      "metadata": {
        "colab": {
          "base_uri": "https://localhost:8080/"
        },
        "id": "V6PcHJfG_oJU",
        "outputId": "ef5042cd-7298-45ff-cbd7-90bb98ee278d"
      },
      "execution_count": 12,
      "outputs": [
        {
          "output_type": "stream",
          "name": "stdout",
          "text": [
            "total length of the serie: 37518\n",
            "total length of the future real CO2 value: 214974\n",
            "time series with random length from 90 to 180, and predicted length of 30: 214974\n",
            "number of devices: 49\n"
          ]
        }
      ]
    },
    {
      "cell_type": "code",
      "source": [
        "fig, ax = plt.subplots(figsize=(15, 6))\n",
        "index = np.random.randint(len(input_enc_test1))\n",
        "((sigma[-1]*input_enc_test1[index] + mu[-1]).dt_device / 1000).plot(y='$\\\\Delta t$ device [ms]', ax=ax, label=f'serie {index}')\n",
        "plt.xticks(rotation=45)\n",
        "handles, labels = ax.get_legend_handles_labels()\n",
        "ax.tick_params(axis='x', labelsize=20)\n",
        "ax.tick_params(axis='y', labelsize=20)\n",
        "ax.set_xlabel(\"Time\", fontsize=20)\n",
        "ax.set_title('Random example from data', fontsize=20)\n",
        "ax.set_ylabel('$\\\\Delta t$ device [ms]', fontsize=20)\n",
        "\n",
        "fig, ax = plt.subplots(figsize=(15, 6))\n",
        "ax.plot((sigma[2]*input_enc_test1[index] + mu[2]).co2, label='Input Encoder')\n",
        "ax.plot((sigma[2]*output_test1[index] + mu[2]), label='real co2')\n",
        "plt.xticks(rotation=45)\n",
        "handles, labels = ax.get_legend_handles_labels()\n",
        "ax.tick_params(axis='x', labelsize=20)\n",
        "ax.tick_params(axis='y', labelsize=20)\n",
        "ax.set_xlabel(\"Time\", fontsize=20)\n",
        "ax.legend()\n",
        "ax.set_ylabel('$CO_2$ [ppm]', fontsize=20);"
      ],
      "metadata": {
        "colab": {
          "base_uri": "https://localhost:8080/",
          "height": 900
        },
        "id": "tHqD3uUd_7Gr",
        "outputId": "eb3cbc02-cdf2-41b8-e3f4-ca1e0e83192a"
      },
      "execution_count": 13,
      "outputs": [
        {
          "output_type": "display_data",
          "data": {
            "image/png": "[encoded data removed]",
            "text/plain": [
              "<Figure size 1080x432 with 1 Axes>"
            ]
          },
          "metadata": {
            "needs_background": "light"
          }
        },
        {
          "output_type": "display_data",
          "data": {
            "image/png": "[encoded data removed]",
            "text/plain": [
              "<Figure size 1080x432 with 1 Axes>"
            ]
          },
          "metadata": {
            "needs_background": "light"
          }
        }
      ]
    },
    {
      "cell_type": "markdown",
      "source": [
        "# Custom Dataset"
      ],
      "metadata": {
        "id": "PzyS0msGBexR"
      }
    },
    {
      "cell_type": "code",
      "source": [
        "# we pass data to numpy arrays\n",
        "\n",
        "input_enc_test = [torch.tensor(np.asarray(xserie), dtype=torch.float) for xserie in input_enc_test1]\n",
        "input_dec_test = [torch.tensor(np.asanyarray(serie).reshape(-1, 1), dtype=torch.float) for serie in input_dec_test1]\n",
        "labels_test = [torch.tensor(np.asanyarray(serie).reshape(-1, 1), dtype=torch.float) for serie in output_test1]"
      ],
      "metadata": {
        "id": "2D0PSbWtAL1z"
      },
      "execution_count": 14,
      "outputs": []
    },
    {
      "cell_type": "code",
      "source": [
        "def collate_seqs(batch):\n",
        "    input_enc, input_dec, targets = [], [], []\n",
        "    \n",
        "    for x, deltat, y in batch:\n",
        "        input_enc.append(x)\n",
        "        input_dec.append(deltat)\n",
        "        targets.append(y)\n",
        "    input_enc = pack_sequence(input_enc, enforce_sorted=False)\n",
        "    input_dec = torch.stack(input_dec, dim=0)\n",
        "    targets = torch.stack(targets, dim=0)\n",
        "\n",
        "\n",
        "    return [input_enc, input_dec, targets]"
      ],
      "metadata": {
        "id": "pM67fVuPefzq"
      },
      "execution_count": 15,
      "outputs": []
    },
    {
      "cell_type": "code",
      "source": [
        "class TSeriesDataset(Dataset):\n",
        "  def __init__(self, data_enc, data_dec, target):\n",
        "    self.Y = target\n",
        "    self.data_enc = data_enc\n",
        "    self.data_dec = data_dec\n",
        "    # self.deltaTdecoder = features[:][1]\n",
        "  \n",
        "  def __len__(self):\n",
        "    return len(self.Y)\n",
        "  \n",
        "  def __getitem__(self, idx):\n",
        "    X = self.data_enc[idx] # torch.tensor(self.data_enc[idx], dtype=torch.float)\n",
        "    deltaT_dec = self.data_dec[idx] # torch.tensor(self.data_dec[idx], dtype=torch.float)#.view(-1, 1)\n",
        "    Y = self.Y[idx] # torch.tensor(self.Y[idx], dtype=torch.float)#.view(-1, 1)\n",
        "\n",
        "    return X, deltaT_dec, Y"
      ],
      "metadata": {
        "id": "Ao42aGxsCUZh"
      },
      "execution_count": 16,
      "outputs": []
    },
    {
      "cell_type": "code",
      "source": [
        "# test\n",
        "\n",
        "dataset = TSeriesDataset(data_enc=input_enc_test, data_dec=input_dec_test, target=labels_test)\n",
        "for i in range(len(dataset)):\n",
        "    x, deltat, y = dataset[i]\n",
        "    # print(x, '\\n', deltat, '\\n', y)\n",
        "    if i == 0: break"
      ],
      "metadata": {
        "id": "HSDVQ1BoMObS"
      },
      "execution_count": 18,
      "outputs": []
    },
    {
      "cell_type": "code",
      "source": [
        "loader_test = DataLoader(dataset, batch_size=10, collate_fn=collate_seqs)\n",
        "for idx, batch in enumerate(loader_test):\n",
        "    x, deltat, y = batch\n",
        "    break\n",
        "\n",
        "# print(x)"
      ],
      "metadata": {
        "id": "s6yq8EHkeogj"
      },
      "execution_count": null,
      "outputs": []
    },
    {
      "cell_type": "markdown",
      "source": [
        "# Encoder"
      ],
      "metadata": {
        "id": "ypX-eR9UPVoI"
      }
    },
    {
      "cell_type": "code",
      "source": [
        "from torch.nn.utils.rnn import pad_sequence, pack_padded_sequence, pack_sequence, pad_packed_sequence"
      ],
      "metadata": {
        "id": "qzdTYBx0U7-w"
      },
      "execution_count": 20,
      "outputs": []
    },
    {
      "cell_type": "code",
      "source": [
        "class EncoderRNN(nn.Module):\n",
        "  def __init__(self, input_size, hidden_size, num_layers=1, dropout=0, batch_first=True):\n",
        "    super(EncoderRNN, self).__init__()\n",
        "    # self.num_layers = num_layers\n",
        "\n",
        "    self.hidden_size = hidden_size\n",
        "    # self.embedding = nn.Embedding(input_size, hidden_size)\n",
        "    self.rnn = nn.RNN(input_size, hidden_size, num_layers=num_layers, dropout=dropout,\n",
        "                      batch_first=batch_first)\n",
        "\n",
        "  def forward(self, input, hidden=None):\n",
        "    '''\n",
        "      Args:\n",
        "            input (Tensor or PackedSequence)\n",
        "            hidden (Tensor)\n",
        "    '''\n",
        "    \n",
        "    # output: B x L* x H; hidden: 1 x B x H\n",
        "    # output_seqs: packed_data (B x L x H), packed_batches (L)\n",
        "    if hidden is None: # delete None and if using torch.zeros \n",
        "      output, hidden = self.rnn(input)\n",
        "    else:\n",
        "      output, hidden = self.rnn(input, hidden)\n",
        "    \n",
        "    return output, hidden\n",
        "  \n",
        "  # def initHidden(self):\n",
        "  #   return torch.zeros(self.num_layers, max_length)\n"
      ],
      "metadata": {
        "id": "o_3f9PgfMgH4"
      },
      "execution_count": 21,
      "outputs": []
    },
    {
      "cell_type": "markdown",
      "source": [
        "- We could do batch normalization for each layer of RNN (search for it). Answer: Too complicated (check https://arxiv.org/pdf/1603.09025.pdf and https://github.com/jihunchoi/recurrent-batch-normalization-pytorch/blob/master/bnlstm.py)"
      ],
      "metadata": {
        "id": "vJeD5WoTmT8P"
      }
    },
    {
      "cell_type": "markdown",
      "source": [
        "# Decoder"
      ],
      "metadata": {
        "id": "a9-L81f4ZnU_"
      }
    },
    {
      "cell_type": "code",
      "source": [
        "class DecoderRNN(nn.Module):\n",
        "  def __init__(self, input_size, hidden_size, output_size, num_layers=1, dropout=0, batch_first=True):\n",
        "    super(DecoderRNN, self).__init__()\n",
        "    self.hidden_size = hidden_size\n",
        "    self.rnn = nn.RNN(input_size, hidden_size, num_layers=num_layers, dropout=dropout, batch_first=batch_first)\n",
        "    self.out = nn.Linear(hidden_size, output_size)\n",
        "    \n",
        "  def forward(self, input, hidden=None):\n",
        "    # input: deltaT\n",
        "    # output = F.relu(input)\n",
        "\n",
        "    if hidden is None: # delete None and if using torch.zeros \n",
        "      # output: B* x L* x H; hidden: 1 x B x H\n",
        "      output, hidden = self.rnn(input)\n",
        "    \n",
        "    else:\n",
        "      # output: B* x L* x H; hidden: 1 x B x H\n",
        "      output, hidden = self.rnn(input, hidden)\n",
        "    \n",
        "    # output: B* x L* x output_size\n",
        "    output = self.out(output)\n",
        "    return output, hidden\n"
      ],
      "metadata": {
        "id": "Y_j_UuHWmTqV"
      },
      "execution_count": 22,
      "outputs": []
    },
    {
      "cell_type": "markdown",
      "source": [
        "# Encoder-Decoder Model\n",
        "\n",
        "- Encoder input $X_{features}$\n",
        "- Decoder input $\\Delta t$"
      ],
      "metadata": {
        "id": "MwYvBnnOdkb1"
      }
    },
    {
      "cell_type": "code",
      "source": [
        "class Model1(nn.Module):\n",
        "  def __init__(self, input_size_enc, hidden_size_enc, input_size_dec, hidden_size_dec, output_size,\n",
        "               num_layers=[1, 1], dropout=[0, 0], batch_first=True):\n",
        "    super(Model1, self).__init__()\n",
        "\n",
        "    # keep for reference\n",
        "    self.input_size_enc = input_size_enc\n",
        "    self.hidden_size_enc = hidden_size_enc\n",
        "    self.hidden_size_dec = hidden_size_dec\n",
        "    self.input_size_dec = input_size_dec\n",
        "    self.output_size = output_size\n",
        "    self.num_layers = num_layers\n",
        "    self.dropout = dropout\n",
        "    self.batch_first = batch_first\n",
        "\n",
        "    self.encoder = EncoderRNN(input_size_enc, hidden_size_enc, num_layers=num_layers[0], dropout=dropout[0],\n",
        "                              batch_first=batch_first)\n",
        "    self.decoder = DecoderRNN(input_size_dec, hidden_size_dec, output_size,\n",
        "                              num_layers=num_layers[1], dropout=dropout[1], batch_first=batch_first)\n",
        "\n",
        "  def forward(self, input_enc, input_dec, hidden=None): # change None in hidden\n",
        "\n",
        "    # output: B* x length_enc* x H ; hidden: 1 x B x H\n",
        "    output, hidden = self.encoder(input_enc, hidden)\n",
        "\n",
        "    # output: B x length_dec x H; hiddden: 1 x B x H\n",
        "    output, hidden = self.decoder(input_dec, hidden)\n",
        "\n",
        "    return output\n",
        "\n",
        "  def num_parameters(self):\n",
        "    total = 0\n",
        "    for p in self.parameters():\n",
        "      if p.requires_grad:\n",
        "        total += p.numel()\n",
        "    return total\n"
      ],
      "metadata": {
        "id": "BlwlXMeyRliQ"
      },
      "execution_count": 23,
      "outputs": []
    },
    {
      "cell_type": "markdown",
      "source": [
        "# Training"
      ],
      "metadata": {
        "id": "dwZnyK8jnCtU"
      }
    },
    {
      "cell_type": "code",
      "source": [
        "from torch._C import default_generator\n",
        "def train(model, dataset, optimizer, epochs=1, batch_size=1, device='cpu', val_split=0.8,\n",
        "          random_seed=42, reports_every=1, model_name='Model', report_batch=True, pin_memory=False, collate_fn=collate_seqs):\n",
        "  \n",
        "  # change the model to device\n",
        "  model.to(device)\n",
        "\n",
        "  # show the model arquitecture\n",
        "  print(model_name, model)\n",
        "\n",
        "  # Print number of parameters\n",
        "  print('Num Params:', model.num_parameters())\n",
        "\n",
        "  # Create a dataloader from the dataset\n",
        "  train_size = int(val_split * len(dataset))\n",
        "  test_size = len(dataset) - train_size\n",
        "  train_dataset, val_dataset = random_split(dataset, [train_size, test_size],\n",
        "                                            generator=torch.Generator().manual_seed(random_seed))\n",
        "\n",
        "  train_loader = DataLoader(train_dataset, batch_size=batch_size, shuffle=True, \n",
        "                            collate_fn=collate_fn, pin_memory=pin_memory)\n",
        "  val_loader = DataLoader(val_dataset, batch_size=batch_size, shuffle=True, \n",
        "                            collate_fn=collate_fn, pin_memory=pin_memory)\n",
        "\n",
        "  # Define a Loss Function\n",
        "  LossFunction = torch.nn.MSELoss()\n",
        "\n",
        "  # Lists for training and evaluation loss functions per epoch\n",
        "  train_loss, val_loss = [], []\n",
        "\n",
        "  # Lists for training and evaluation loss functions per batch\n",
        "  if report_batch:\n",
        "    loss_batch = []\n",
        "    num_upgrade  = []\n",
        "\n",
        "  # Start training\n",
        "  time_epochs = 0.\n",
        "  for e in range(1, epochs+1):\n",
        "    beginning_epoch = timer()\n",
        "    \n",
        "    running_loss = 0.\n",
        "    model.train()\n",
        "    for idx, batch in enumerate(train_loader):\n",
        "      x, deltat, y = batch\n",
        "\n",
        "      # Make sure tensors used are in the device with correct dimensions\n",
        "      x, deltat, y = x.float().to(device), deltat.to(device), y.to(device)\n",
        "\n",
        "      # Compute forward\n",
        "      y_pred  = model(x, deltat)\n",
        "\n",
        "      # Compute the loss\n",
        "      loss = LossFunction(y_pred, y)\n",
        "\n",
        "      # Backprop\n",
        "      loss.backward()\n",
        "\n",
        "      # Update grad\n",
        "      optimizer.step()\n",
        "      optimizer.zero_grad()\n",
        "\n",
        "      running_loss += loss.item()\n",
        "\n",
        "      if report_batch and (idx % 100 == 0):\n",
        "            report_loss, current = loss.item(), idx * batch_size\n",
        "            print(f\" current loss: {report_loss:.4e}  [{current:>5d}/{train_size:>5d}]\")\n",
        "            # sys.stdout.write(f\" current loss: {report_loss:.4e}  [{current:>6d}/{train_size:>6d}] \\n\"\n",
        "            # )\n",
        "\n",
        "            loss_batch.append(report_loss)\n",
        "            num_upgrade.append((e - 1) * train_size + current)\n",
        "\n",
        "    mean_loss = running_loss / (idx + 1)\n",
        "    train_loss.append(mean_loss)\n",
        "\n",
        "    running_loss = 0.\n",
        "    model.eval()\n",
        "    with torch.no_grad():\n",
        "      for idx, batch in enumerate(val_loader):\n",
        "        x, deltat, y = batch\n",
        "\n",
        "        # Make sure tensors used are in the device with correct dimensions\n",
        "        x, deltat, y = x.float().to(device), deltat.to(device), y.to(device)\n",
        "\n",
        "        # Compute forward\n",
        "        y_pred  = model(x, deltat)\n",
        "\n",
        "        # Compute the loss\n",
        "        loss = LossFunction(y_pred, y)\n",
        "\n",
        "        running_loss += loss.item()\n",
        "    mean_loss = running_loss / (idx + 1)\n",
        "    val_loss.append(mean_loss)\n",
        "    \n",
        "    time_epochs += timer() - beginning_epoch\n",
        "    \n",
        "    # Report the number of right answers each \"reports_every\" amount of epochs\n",
        "    if e % reports_every == 0:\n",
        "      print('\\rEpoch:{0:03d}'.format(e) + ' Train Loss:{0:.4e}'.format(train_loss[-1]) \n",
        "          + ' Val Loss:{0:.4e}'.format(val_loss[-1]) + ' Time/epoch:{0:.3f}s'.format(time_epochs/e))\n",
        "      # sys.stdout.write(\n",
        "      #     '\\rEpoch:{0:03d}'.format(e) + ' Train Loss:{0:.4e}'.format(train_loss[-1]) \n",
        "      #     + ' Val Loss:{0:.4e}'.format(val_loss[-1]) + ' Time/epoch:{0:.3f}s'.format(time_epochs/e) + '\\n'\n",
        "      # )\n",
        "  \n",
        "  if report_batch:\n",
        "    return train_loss, val_loss, loss_batch, num_upgrade\n",
        "  else:\n",
        "    return train_loss, val_loss\n"
      ],
      "metadata": {
        "id": "PrO2SX7LvSLN"
      },
      "execution_count": 24,
      "outputs": []
    },
    {
      "cell_type": "markdown",
      "source": [
        "# Testing the training function and model"
      ],
      "metadata": {
        "id": "VkfYsxXCCAFX"
      }
    },
    {
      "cell_type": "code",
      "source": [
        "class RandomDataSet(Dataset):\n",
        "  def __init__(self, N, L, f):\n",
        "    \n",
        "    self.input_enc = torch.rand(N, L, f)\n",
        "    self.input_dec = torch.rand(N, L, 1)\n",
        "    self.Y = torch.rand(N, L, 1)\n",
        "    self.num_features = f\n",
        "    \n",
        "  # Debemos definir __len__ para retornar el tamaño del dataset\n",
        "  def __len__(self):\n",
        "    return self.input_enc.size()[0]\n",
        "\n",
        "  # Debemos definir __getitem__ para retornar el i-ésimo \n",
        "  # ejemplo en nuestro dataset.\n",
        "  def __getitem__(self, i):\n",
        "    return self.input_enc[i], self.input_dec[i], self.Y[i]"
      ],
      "metadata": {
        "id": "1ImM_dwKeoKj"
      },
      "execution_count": null,
      "outputs": []
    },
    {
      "cell_type": "code",
      "source": [
        "N = 1000 # numero de ejemplos\n",
        "f = 9 # numero de features\n",
        "L = 100\n",
        "\n",
        "dataset = RandomDataSet(N, L, f)"
      ],
      "metadata": {
        "id": "wtAer6n7eoHb"
      },
      "execution_count": null,
      "outputs": []
    },
    {
      "cell_type": "code",
      "source": [
        "model = Model1(9, 64, 1, 64, 1)\n",
        "optimizer = torch.optim.Adam(model.parameters())"
      ],
      "metadata": {
        "id": "bPKlXzodeoEW"
      },
      "execution_count": null,
      "outputs": []
    },
    {
      "cell_type": "code",
      "source": [
        "train_loss, val_loss = train(model, dataset, optimizer, epochs=10, batch_size=16)"
      ],
      "metadata": {
        "colab": {
          "base_uri": "https://localhost:8080/"
        },
        "id": "Gp-UKzHCEzRk",
        "outputId": "f01cc922-50a1-4fde-c0ba-21064e8d988c"
      },
      "execution_count": null,
      "outputs": [
        {
          "output_type": "stream",
          "name": "stdout",
          "text": [
            "Model Model1(\n",
            "  (encoder): EncoderRNN(\n",
            "    (rnn): RNN(9, 64)\n",
            "  )\n",
            "  (decoder): DecoderRNN(\n",
            "    (rnn): RNN(1, 64)\n",
            "    (out): Linear(in_features=64, out_features=1, bias=True)\n",
            "  )\n",
            ")\n",
            "Num Params: 9153\n"
          ]
        },
        {
          "output_type": "stream",
          "name": "stderr",
          "text": [
            "/usr/local/lib/python3.7/dist-packages/torch/nn/modules/loss.py:520: UserWarning: Using a target size (torch.Size([100, 16, 1])) that is different to the input size (torch.Size([100, 16, 64])). This will likely lead to incorrect results due to broadcasting. Please ensure they have the same size.\n",
            "  return F.mse_loss(input, target, reduction=self.reduction)\n",
            "/usr/local/lib/python3.7/dist-packages/torch/nn/modules/loss.py:520: UserWarning: Using a target size (torch.Size([1, 100, 1])) that is different to the input size (torch.Size([1, 100, 64])). This will likely lead to incorrect results due to broadcasting. Please ensure they have the same size.\n",
            "  return F.mse_loss(input, target, reduction=self.reduction)\n"
          ]
        },
        {
          "output_type": "stream",
          "name": "stdout",
          "text": [
            "Epoch:010 Train Loss:0.0836 Val Loss:0.1512 Time/epoch:2.096s"
          ]
        }
      ]
    },
    {
      "cell_type": "code",
      "source": [
        "fig, ax = plt.subplots(figsize=(10, 6))\n",
        "epochs = np.arange(1, 11)\n",
        "ax.plot(epochs, train_loss, label='train')\n",
        "# ax.plot(epochs, val_loss, label='val')\n",
        "ax.set_xlabel('epochs')\n",
        "ax.set_ylabel('Loss')\n",
        "ax.legend()\n"
      ],
      "metadata": {
        "colab": {
          "base_uri": "https://localhost:8080/",
          "height": 409
        },
        "id": "iJ8LGiegXH9T",
        "outputId": "efda2bfd-c440-4e60-8368-efc721d8d850"
      },
      "execution_count": null,
      "outputs": [
        {
          "output_type": "execute_result",
          "data": {
            "text/plain": [
              "<matplotlib.legend.Legend at 0x7f58c9528cd0>"
            ]
          },
          "metadata": {},
          "execution_count": 180
        },
        {
          "output_type": "display_data",
          "data": {
            "image/png": "[encoded data removed]",
            "text/plain": [
              "<Figure size 720x432 with 1 Axes>"
            ]
          },
          "metadata": {
            "needs_background": "light"
          }
        }
      ]
    },
    {
      "cell_type": "markdown",
      "source": [
        "## Comparing methods to pack batches in Pytorch\n",
        "\n",
        "- `torch.nn.utils.rnn.pad_sequence`: pads a sequence of tensors\n",
        "- `torch.nn.utils.rnn.pack_padded_sequence`: packs a padded sequence of tensors (it needs their lengths)\n",
        "- `torch.nn.utils.rnn.pack_sequence`: packs a sequence of tensors (using the above functions as shown below)\n",
        "\n",
        "```\n",
        "lengths = torch.as_tensor([v.size(0) for v in sequences])\n",
        "    return pack_padded_sequence(pad_sequence(sequences), lengths,\n",
        "    enforce_sorted=enforce_sorted)\n",
        "```\n",
        "\n",
        "- `torch.nn.utils.rnn.pad_packed_sequence`: pads a packed batch of variable length sequences.\n",
        "\n",
        "Note: the input `enforce_sorted=True` is only necessary for ONNX export."
      ],
      "metadata": {
        "id": "0_x0vQ8p2mVs"
      }
    },
    {
      "cell_type": "code",
      "source": [
        "from torch.nn.utils.rnn import pad_sequence\n",
        "from torch.nn.utils.rnn import pad_sequence, pack_padded_sequence, pack_sequence, pad_packed_sequence\n",
        "\n",
        "seq_batch = [torch.tensor([[1, 1],\n",
        "                           [2, 2],\n",
        "                           [3, 3],\n",
        "                           [4, 4],\n",
        "                           [5, 5]]),\n",
        "             torch.tensor([[10, 10],\n",
        "                           [20, 20]])]\n",
        "\n",
        "seq_lens = [5, 2]\n",
        "padded_seq = pad_sequence(seq_batch)\n",
        "packed_padded_seq = pack_padded_sequence(padded_seq, lengths=seq_lens)\n",
        "packed_seq = pack_sequence(seq_batch)\n",
        "padded_packed_seq = pad_packed_sequence(packed_padded_seq, total_length=5)"
      ],
      "metadata": {
        "id": "gAHVg0ryyvvu"
      },
      "execution_count": null,
      "outputs": []
    },
    {
      "cell_type": "code",
      "source": [
        "unpacked, unpacked_len = padded_packed_seq"
      ],
      "metadata": {
        "id": "Z6TneRt91TEK"
      },
      "execution_count": null,
      "outputs": []
    },
    {
      "cell_type": "code",
      "source": [
        "packed_padded_seq"
      ],
      "metadata": {
        "colab": {
          "base_uri": "https://localhost:8080/"
        },
        "id": "MqE2T61F6yTf",
        "outputId": "08a2f266-129e-47db-e45d-2fc67f67c43c"
      },
      "execution_count": null,
      "outputs": [
        {
          "output_type": "execute_result",
          "data": {
            "text/plain": [
              "PackedSequence(data=tensor([[ 1,  1],\n",
              "        [10, 10],\n",
              "        [ 2,  2],\n",
              "        [20, 20],\n",
              "        [ 3,  3],\n",
              "        [ 4,  4],\n",
              "        [ 5,  5]]), batch_sizes=tensor([2, 2, 1, 1, 1]), sorted_indices=None, unsorted_indices=None)"
            ]
          },
          "metadata": {},
          "execution_count": 39
        }
      ]
    },
    {
      "cell_type": "code",
      "source": [
        "unpacked"
      ],
      "metadata": {
        "colab": {
          "base_uri": "https://localhost:8080/"
        },
        "id": "rv7_klFV4aLG",
        "outputId": "211e0da6-0597-42eb-e0dd-7762cfaa1bec"
      },
      "execution_count": null,
      "outputs": [
        {
          "output_type": "execute_result",
          "data": {
            "text/plain": [
              "tensor([[[ 1,  1],\n",
              "         [10, 10]],\n",
              "\n",
              "        [[ 2,  2],\n",
              "         [20, 20]],\n",
              "\n",
              "        [[ 3,  3],\n",
              "         [ 0,  0]],\n",
              "\n",
              "        [[ 4,  4],\n",
              "         [ 0,  0]],\n",
              "\n",
              "        [[ 5,  5],\n",
              "         [ 0,  0]]])"
            ]
          },
          "metadata": {},
          "execution_count": 38
        }
      ]
    },
    {
      "cell_type": "code",
      "source": [
        "(unpacked_len - 1).long()"
      ],
      "metadata": {
        "colab": {
          "base_uri": "https://localhost:8080/"
        },
        "id": "dYfLMf5x1udI",
        "outputId": "c399964e-95bc-4200-cc2e-7c31cbfebe8e"
      },
      "execution_count": null,
      "outputs": [
        {
          "output_type": "execute_result",
          "data": {
            "text/plain": [
              "tensor([4, 1])"
            ]
          },
          "metadata": {},
          "execution_count": 30
        }
      ]
    },
    {
      "cell_type": "code",
      "source": [
        "unpacked.index_select(dim=0, index=(unpacked_len - 1).long())"
      ],
      "metadata": {
        "colab": {
          "base_uri": "https://localhost:8080/"
        },
        "id": "SfdRS1ny3yuk",
        "outputId": "99c09cb0-eb21-4f6c-cbc1-f331eb586ce7"
      },
      "execution_count": null,
      "outputs": [
        {
          "output_type": "execute_result",
          "data": {
            "text/plain": [
              "tensor([[[ 5,  5],\n",
              "         [ 0,  0]],\n",
              "\n",
              "        [[ 2,  2],\n",
              "         [20, 20]]])"
            ]
          },
          "metadata": {},
          "execution_count": 31
        }
      ]
    },
    {
      "cell_type": "code",
      "source": [
        "packed_padded_seq.batch_sizes.index_select(dim=0, index=(unpacked_len - 1).long())"
      ],
      "metadata": {
        "colab": {
          "base_uri": "https://localhost:8080/"
        },
        "id": "nu2CerEs7lil",
        "outputId": "44a9db3c-3d2e-4bb6-818e-affc7c66ebe2"
      },
      "execution_count": null,
      "outputs": [
        {
          "output_type": "execute_result",
          "data": {
            "text/plain": [
              "tensor([1, 2])"
            ]
          },
          "metadata": {},
          "execution_count": 40
        }
      ]
    },
    {
      "cell_type": "code",
      "source": [
        "indices = Variable(torch.LongTensor(np.array(unpacked_len) - 1).view(-1, 1)\n",
        "                                                                       .expand(unpacked.size(0), unpacked.size(2))\n",
        "                                                                       .unsqueeze(1))\n",
        "last_encoded_states = unpacked.gather(dim=1, index=indices).squeeze(dim=1)"
      ],
      "metadata": {
        "id": "ZJpvLlwk1rXk"
      },
      "execution_count": null,
      "outputs": []
    },
    {
      "cell_type": "code",
      "source": [
        "padded_packed_seq[1]"
      ],
      "metadata": {
        "colab": {
          "base_uri": "https://localhost:8080/"
        },
        "id": "zQEQ-3gG09cs",
        "outputId": "8c65053e-6332-4843-997d-f6b2327d2fb6"
      },
      "execution_count": null,
      "outputs": [
        {
          "output_type": "execute_result",
          "data": {
            "text/plain": [
              "tensor([5, 2])"
            ]
          },
          "metadata": {},
          "execution_count": 13
        }
      ]
    },
    {
      "cell_type": "code",
      "source": [
        "padded_packed_seq[0][]"
      ],
      "metadata": {
        "colab": {
          "base_uri": "https://localhost:8080/"
        },
        "id": "F6JO445QzdJZ",
        "outputId": "57692d6d-3df6-4aa3-fd7f-3482acc724b9"
      },
      "execution_count": null,
      "outputs": [
        {
          "output_type": "execute_result",
          "data": {
            "text/plain": [
              "tensor([[[ 1,  1],\n",
              "         [10, 10]],\n",
              "\n",
              "        [[ 2,  2],\n",
              "         [20, 20]],\n",
              "\n",
              "        [[ 3,  3],\n",
              "         [ 0,  0]],\n",
              "\n",
              "        [[ 4,  4],\n",
              "         [ 0,  0]],\n",
              "\n",
              "        [[ 5,  5],\n",
              "         [ 0,  0]]])"
            ]
          },
          "metadata": {},
          "execution_count": 14
        }
      ]
    },
    {
      "cell_type": "code",
      "source": [
        "x1, _ = dataset.__getitem__(idx=1)\n",
        "x2, _ = dataset.__getitem__(idx=2)\n",
        "seq = [x1, x2]\n",
        "packed_seq = pack_sequence(seq, enforce_sorted=False)"
      ],
      "metadata": {
        "id": "7AJEgRyryV92"
      },
      "execution_count": null,
      "outputs": []
    },
    {
      "cell_type": "code",
      "source": [
        "packed_seq"
      ],
      "metadata": {
        "colab": {
          "base_uri": "https://localhost:8080/"
        },
        "id": "x3pyT-gZHpVZ",
        "outputId": "d217be1d-3b81-4fb9-96fc-dde5907ff7d1"
      },
      "execution_count": null,
      "outputs": [
        {
          "output_type": "execute_result",
          "data": {
            "text/plain": [
              "PackedSequence(data=tensor([[ 0.5554, -0.4929, -0.0162,  ...,  1.0000,  0.0000,  1.0000],\n",
              "        [ 0.5554, -0.4929, -0.0162,  ...,  1.0000,  0.0000,  1.0000],\n",
              "        [ 0.5554, -0.4929, -0.0162,  ...,  1.0000,  0.0000,  1.0000],\n",
              "        ...,\n",
              "        [ 0.3693,  0.0924, -0.0163,  ...,  1.0000,  0.0000,  1.0000],\n",
              "        [ 0.3693,  0.0924, -0.0163,  ...,  1.0000,  0.0000,  1.0000],\n",
              "        [ 0.3693,  0.0924, -0.0163,  ...,  1.0000,  0.0000,  1.0000]]), batch_sizes=tensor([2, 2, 2, 2, 2, 2, 2, 2, 2, 2, 2, 2, 2, 2, 2, 2, 2, 2, 2, 2, 2, 2, 2, 2,\n",
              "        2, 2, 2, 2, 2, 2, 2, 2, 2, 2, 2, 2, 2, 2, 2, 2, 2, 2, 2, 2, 2, 2, 2, 2,\n",
              "        2, 2, 2, 2, 2, 2, 2, 2, 2, 2, 2, 2, 2, 2, 2, 2, 2, 2, 2, 2, 2, 2, 2, 2,\n",
              "        2, 2, 2, 2, 2, 2, 2, 2, 2, 2, 2, 2, 2, 2, 2, 2, 2, 2, 2, 2, 2, 2, 2]), sorted_indices=tensor([0, 1]), unsorted_indices=tensor([0, 1]))"
            ]
          },
          "metadata": {},
          "execution_count": 65
        }
      ]
    },
    {
      "cell_type": "code",
      "source": [
        "rnn = nn.RNN(9, 128)\n",
        "output, hn = rnn(packed_seq)"
      ],
      "metadata": {
        "id": "8my_W5BzyV7W"
      },
      "execution_count": null,
      "outputs": []
    },
    {
      "cell_type": "code",
      "source": [
        "x1.unsqueeze(dim=0).shape"
      ],
      "metadata": {
        "colab": {
          "base_uri": "https://localhost:8080/"
        },
        "id": "2G4G2E4FkAfO",
        "outputId": "58086634-84ef-4170-914b-fe14dd81c42a"
      },
      "execution_count": null,
      "outputs": [
        {
          "output_type": "execute_result",
          "data": {
            "text/plain": [
              "torch.Size([1, 95, 9])"
            ]
          },
          "metadata": {},
          "execution_count": 75
        }
      ]
    },
    {
      "cell_type": "code",
      "source": [
        "output, hn = rnn(x1.unsqueeze(dim=0))\n",
        "hn.shape"
      ],
      "metadata": {
        "colab": {
          "base_uri": "https://localhost:8080/"
        },
        "id": "b-DUjwIUbohs",
        "outputId": "cb56e872-512b-48fb-a702-0165fe2f32c0"
      },
      "execution_count": null,
      "outputs": [
        {
          "output_type": "execute_result",
          "data": {
            "text/plain": [
              "torch.Size([1, 95, 128])"
            ]
          },
          "metadata": {},
          "execution_count": 78
        }
      ]
    },
    {
      "cell_type": "code",
      "source": [
        "output"
      ],
      "metadata": {
        "colab": {
          "base_uri": "https://localhost:8080/"
        },
        "id": "rEkS5-0LD4Ib",
        "outputId": "1e5035ee-08cc-4453-cfd8-f05edf8d4d5d"
      },
      "execution_count": null,
      "outputs": [
        {
          "output_type": "execute_result",
          "data": {
            "text/plain": [
              "PackedSequence(data=tensor([[-0.0030,  0.0028,  0.0585,  ...,  0.0427, -0.1417, -0.0097],\n",
              "        [-0.0030,  0.0028,  0.0585,  ...,  0.0427, -0.1417, -0.0097],\n",
              "        [ 0.0466, -0.1255,  0.0698,  ...,  0.1718, -0.2161,  0.0509],\n",
              "        ...,\n",
              "        [ 0.1011, -0.0162,  0.0602,  ...,  0.2739, -0.1942, -0.0034],\n",
              "        [ 0.1011, -0.0161,  0.0601,  ...,  0.2738, -0.1941, -0.0033],\n",
              "        [ 0.1011, -0.0159,  0.0601,  ...,  0.2739, -0.1941, -0.0032]],\n",
              "       grad_fn=<CatBackward0>), batch_sizes=tensor([2, 2, 2, 2, 2, 2, 2, 2, 2, 2, 2, 2, 2, 2, 2, 2, 2, 2, 2, 2, 2, 2, 2, 2,\n",
              "        2, 2, 2, 2, 2, 2, 2, 2, 2, 2, 2, 2, 2, 2, 2, 2, 2, 2, 2, 2, 2, 2, 2, 2,\n",
              "        2, 2, 2, 2, 2, 2, 2, 2, 2, 2, 2, 2, 2, 2, 2, 2, 2, 2, 2, 2, 2, 2, 2, 2,\n",
              "        2, 2, 2, 2, 2, 2, 2, 2, 2, 2, 2, 2, 2, 2, 2, 2, 2, 2, 2, 2, 2, 2, 2, 2,\n",
              "        2, 2, 2, 2, 2, 2, 2, 2, 2, 2, 2, 2, 2, 2, 2, 2, 2, 2, 2, 2, 2, 2, 2, 2,\n",
              "        1, 1, 1, 1, 1, 1, 1, 1, 1, 1, 1, 1, 1, 1, 1, 1, 1, 1, 1, 1, 1, 1, 1, 1,\n",
              "        1, 1]), sorted_indices=tensor([1, 0]), unsorted_indices=tensor([1, 0]))"
            ]
          },
          "metadata": {},
          "execution_count": 186
        }
      ]
    },
    {
      "cell_type": "code",
      "source": [
        "from io import StringIO\n",
        "\n",
        "StringData = StringIO(\"\"\"PERÍODO REMUNERACIÓN_IMPONIBLE_($) RUT_EMPLEADOR RAZÓN_SOCIAL_EMPLEADOR FONDO\n",
        "04/2021 133.757 88.926.100-5 Paisajismo_Cordillera_S.A. E\n",
        "07/2020 624.911 81.826.800-9 Caja_De_Com_De_Asignacion_Familiar_Los_Andes E\n",
        "04/2020 323.943 88.926.100-5 Paisajismo_Cordillera_S.A. C\n",
        "03/2020 440.955 88.926.100-5 Paisajismo_Cordillera_S.A. C\n",
        "02/2020 624.911 88.926.100-5 Paisajismo_Cordillera_S.A. C\n",
        "01/2020 646.311 88.926.100-5 Paisajismo_Cordillera_S.A. C\n",
        "12/2019 517.911 88.926.100-5 Paisajismo_Cordillera_S.A. C\n",
        "11/2019 539.311 88.926.100-5 Paisajismo_Cordillera_S.A. C\n",
        "10/2019 539.311 88.926.100-5 Paisajismo_Cordillera_S.A. C\n",
        "09/2019 614.311 88.926.100-5 Paisajismo_Cordillera_S.A. C\n",
        "08/2019 517.911 88.926.100-5 Paisajismo_Cordillera_S.A. C\n",
        "07/2019 518.211 88.926.100-5 Paisajismo_Cordillera_S.A. C\n",
        "06/2019 539.311 88.926.100-5 Paisajismo_Cordillera_S.A. C\n",
        "05/2019 451.178 88.926.100-5 Paisajismo_Cordillera_S.A. C\n",
        "04/2019 539.311 88.926.100-5 Paisajismo_Cordillera_S.A. C\n",
        "03/2019 539.311 88.926.100-5 Paisajismo_Cordillera_S.A. C\n",
        "02/2019 525.933 88.926.100-5 Paisajismo_Cordillera_S.A. C\n",
        "01/2019 504.533 88.926.100-5 Paisajismo_Cordillera_S.A. C\n",
        "12/2018 547.333 88.926.100-5 Paisajismo_Cordillera_S.A. C\n",
        "11/2018 525.933 88.926.100-5 Paisajismo_Cordillera_S.A. C\n",
        "10/2018 483.133 88.926.100-5 Paisajismo_Cordillera_S.A. C\n",
        "09/2018 547.333 88.926.100-5 Paisajismo_Cordillera_S.A. C\n",
        "08/2018 483.133 88.926.100-5 Paisajismo_Cordillera_S.A. C\n",
        "07/2018 525.933 88.926.100-5 Paisajismo_Cordillera_S.A. C\n",
        "06/2018 483.133 88.926.100-5 Paisajismo_Cordillera_S.A. C\n",
        "05/2018 525.933 88.926.100-5 Paisajismo_Cordillera_S.A. C\n",
        "04/2018 327.000 88.926.100-5 Paisajismo_Cordillera_S.A. C\n",
        "03/2018 401.266 88.926.100-5 Paisajismo_Cordillera_S.A. C\n",
        "02/2018 611.533 88.926.100-5 Paisajismo_Cordillera_S.A. C\n",
        "01/2018 611.533 88.926.100-5 Paisajismo_Cordillera_S.A. C\n",
        "10/2017 101.250 99.503.010-1 Help_Security_S.A. C\n",
        "09/2017 427.500 99.503.010-1 Help_Security_S.A. C\n",
        "08/2017 646.875 99.503.010-1 Help_Security_S.A. C\n",
        "07/2017 631.875 99.503.010-1 Help_Security_S.A. C\n",
        "06/2017 608.500 99.503.010-1 Help_Security_S.A. C\n",
        "05/2017 523.500 99.503.010-1 Help_Security_S.A. C\n",
        "04/2017 393.166 99.503.010-1 Help_Security_S.A. C\n",
        "03/2017 390.600 99.503.010-1 Help_Security_S.A. C\n",
        "02/2017 440.649 99.503.010-1 Help_Security_S.A. C\n",
        "01/2017 440.649 99.503.010-1 Help_Security_S.A. C\n",
        "12/2016 480.724 99.503.010-1 Help_Security_S.A. C\n",
        "11/2016 430.724 99.503.010-1 Help_Security_S.A. C\n",
        "10/2016 423.213 99.503.010-1 Help_Security_S.A. C\n",
        "09/2016 486.989 99.503.010-1 Help_Security_S.A. C\n",
        "08/2016 441.989 99.503.010-1 Help_Security_S.A. B\n",
        "07/2016 441.989 99.503.010-1 Help_Security_S.A. B\n",
        "06/2016 430.208 99.503.010-1 Help_Security_S.A. B\n",
        "05/2016 430.208 99.503.010-1 Help_Security_S.A. B\n",
        "04/2016 422.916 99.503.010-1 Help_Security_S.A. B\n",
        "03/2016 399.583 99.503.010-1 Help_Security_S.A. B\n",
        "02/2016 422.916 99.503.010-1 Help_Security_S.A. B\n",
        "01/2016 411.250 99.503.010-1 Help_Security_S.A. B\n",
        "12/2015 447.916 99.503.010-1 Help_Security_S.A. B\n",
        "11/2015 433.854 99.503.010-1 Help_Security_S.A. B\n",
        "10/2015 426.561 99.503.010-1 Help_Security_S.A. B\n",
        "09/2015 447.916 99.503.010-1 Help_Security_S.A. B\n",
        "08/2015 433.854 99.503.010-1 Help_Security_S.A. B\n",
        "07/2015 10.709 77.198.310-3 Soc._De_Servicios_Maxima_Seguridad_Operativa_Ltda. B\n",
        "07/2015 128.334 99.503.010-1 Help_Security_S.A. B\n",
        "06/2015 118.750 76.688.860-7 Servicios_Y_Seguridad_Cosenza_Limitada B\n",
        "05/2015 707.063 76.688.860-7 Servicios_Y_Seguridad_Cosenza_Limitada B\n",
        "04/2015 730.563 76.688.860-7 Servicios_Y_Seguridad_Cosenza_Limitada B\n",
        "03/2015 115.875 76.688.860-7 Servicios_Y_Seguridad_Cosenza_Limitada B\n",
        "03/2015 51.463 76.733.350-1 Servicios_Helpbank_S.A_E.S.T B\n",
        "02/2015 151.508 76.733.350-1 Servicios_Helpbank_S.A_E.S.T B\n",
        "01/2015 133.125 76.733.350-1 Servicios_Helpbank_S.A_E.S.T B\n",
        "07/2014 363.434 77.508.190-2 Recursos_Externos_Ltda B\n",
        "06/2014 503.820 77.508.190-2 Recursos_Externos_Ltda B\n",
        "05/2014 456.739 77.508.190-2 Recursos_Externos_Ltda B\n",
        "04/2014 282.403 77.508.190-2 Recursos_Externos_Ltda B\n",
        "03/2014 442.612 77.508.190-2 Recursos_Externos_Ltda B\n",
        "02/2014 401.984 77.508.190-2 Recursos_Externos_Ltda B\n",
        "01/2014 336.991 77.508.190-2 Recursos_Externos_Ltda B\n",
        "12/2013 381.359 77.508.190-2 Recursos_Externos_Ltda B\n",
        "11/2013 602.546 77.508.190-2 Recursos_Externos_Ltda B\n",
        "10/2013 456.682 77.508.190-2 Recursos_Externos_Ltda B\n",
        "09/2013 413.213 77.508.190-2 Recursos_Externos_Ltda B\n",
        "08/2013 328.803 77.508.190-2 Recursos_Externos_Ltda B\n",
        "07/2013 378.536 77.508.190-2 Recursos_Externos_Ltda B\n",
        "06/2013 518.483 77.508.190-2 Recursos_Externos_Ltda B\n",
        "05/2013 440.517 77.508.190-2 Recursos_Externos_Ltda B\n",
        "04/2013 293.116 77.508.190-2 Recursos_Externos_Ltda B\n",
        "\"\"\")\n",
        "\n",
        "imposiciones = pd.read_csv(StringData, sep=' ')\n",
        "imposiciones['REMUNERACIÓN_IMPONIBLE_($)'] = imposiciones['REMUNERACIÓN_IMPONIBLE_($)'] * 1000\n",
        "\n"
      ],
      "metadata": {
        "id": "PG8NabMtD36l"
      },
      "execution_count": null,
      "outputs": []
    },
    {
      "cell_type": "code",
      "source": [
        "imposiciones.head()"
      ],
      "metadata": {
        "colab": {
          "base_uri": "https://localhost:8080/",
          "height": 206
        },
        "id": "v6Lz6Fd3HiML",
        "outputId": "be2a1c03-ae12-4b5c-c600-ec878701ca5a"
      },
      "execution_count": null,
      "outputs": [
        {
          "output_type": "execute_result",
          "data": {
            "text/html": [
              "\n",
              "  <div id=\"df-218e260d-2ffe-43d8-9be3-0126c530083a\">\n",
              "    <div class=\"colab-df-container\">\n",
              "      <div>\n",
              "<style scoped>\n",
              "    .dataframe tbody tr th:only-of-type {\n",
              "        vertical-align: middle;\n",
              "    }\n",
              "\n",
              "    .dataframe tbody tr th {\n",
              "        vertical-align: top;\n",
              "    }\n",
              "\n",
              "    .dataframe thead th {\n",
              "        text-align: right;\n",
              "    }\n",
              "</style>\n",
              "<table border=\"1\" class=\"dataframe\">\n",
              "  <thead>\n",
              "    <tr style=\"text-align: right;\">\n",
              "      <th></th>\n",
              "      <th>PERÍODO</th>\n",
              "      <th>REMUNERACIÓN_IMPONIBLE_($)</th>\n",
              "      <th>RUT_EMPLEADOR</th>\n",
              "      <th>RAZÓN_SOCIAL_EMPLEADOR</th>\n",
              "      <th>FONDO</th>\n",
              "    </tr>\n",
              "  </thead>\n",
              "  <tbody>\n",
              "    <tr>\n",
              "      <th>0</th>\n",
              "      <td>04/2021</td>\n",
              "      <td>133757.0</td>\n",
              "      <td>88.926.100-5</td>\n",
              "      <td>Paisajismo_Cordillera_S.A.</td>\n",
              "      <td>E</td>\n",
              "    </tr>\n",
              "    <tr>\n",
              "      <th>1</th>\n",
              "      <td>07/2020</td>\n",
              "      <td>624911.0</td>\n",
              "      <td>81.826.800-9</td>\n",
              "      <td>Caja_De_Com_De_Asignacion_Familiar_Los_Andes</td>\n",
              "      <td>E</td>\n",
              "    </tr>\n",
              "    <tr>\n",
              "      <th>2</th>\n",
              "      <td>04/2020</td>\n",
              "      <td>323943.0</td>\n",
              "      <td>88.926.100-5</td>\n",
              "      <td>Paisajismo_Cordillera_S.A.</td>\n",
              "      <td>C</td>\n",
              "    </tr>\n",
              "    <tr>\n",
              "      <th>3</th>\n",
              "      <td>03/2020</td>\n",
              "      <td>440955.0</td>\n",
              "      <td>88.926.100-5</td>\n",
              "      <td>Paisajismo_Cordillera_S.A.</td>\n",
              "      <td>C</td>\n",
              "    </tr>\n",
              "    <tr>\n",
              "      <th>4</th>\n",
              "      <td>02/2020</td>\n",
              "      <td>624911.0</td>\n",
              "      <td>88.926.100-5</td>\n",
              "      <td>Paisajismo_Cordillera_S.A.</td>\n",
              "      <td>C</td>\n",
              "    </tr>\n",
              "  </tbody>\n",
              "</table>\n",
              "</div>\n",
              "      <button class=\"colab-df-convert\" onclick=\"convertToInteractive('df-218e260d-2ffe-43d8-9be3-0126c530083a')\"\n",
              "              title=\"Convert this dataframe to an interactive table.\"\n",
              "              style=\"display:none;\">\n",
              "        \n",
              "  <svg xmlns=\"http://www.w3.org/2000/svg\" height=\"24px\"viewBox=\"0 0 24 24\"\n",
              "       width=\"24px\">\n",
              "    <path d=\"M0 0h24v24H0V0z\" fill=\"none\"/>\n",
              "    <path d=\"M18.56 5.44l.94 2.06.94-2.06 2.06-.94-2.06-.94-.94-2.06-.94 2.06-2.06.94zm-11 1L8.5 8.5l.94-2.06 2.06-.94-2.06-.94L8.5 2.5l-.94 2.06-2.06.94zm10 10l.94 2.06.94-2.06 2.06-.94-2.06-.94-.94-2.06-.94 2.06-2.06.94z\"/><path d=\"M17.41 7.96l-1.37-1.37c-.4-.4-.92-.59-1.43-.59-.52 0-1.04.2-1.43.59L10.3 9.45l-7.72 7.72c-.78.78-.78 2.05 0 2.83L4 21.41c.39.39.9.59 1.41.59.51 0 1.02-.2 1.41-.59l7.78-7.78 2.81-2.81c.8-.78.8-2.07 0-2.86zM5.41 20L4 18.59l7.72-7.72 1.47 1.35L5.41 20z\"/>\n",
              "  </svg>\n",
              "      </button>\n",
              "      \n",
              "  <style>\n",
              "    .colab-df-container {\n",
              "      display:flex;\n",
              "      flex-wrap:wrap;\n",
              "      gap: 12px;\n",
              "    }\n",
              "\n",
              "    .colab-df-convert {\n",
              "      background-color: #E8F0FE;\n",
              "      border: none;\n",
              "      border-radius: 50%;\n",
              "      cursor: pointer;\n",
              "      display: none;\n",
              "      fill: #1967D2;\n",
              "      height: 32px;\n",
              "      padding: 0 0 0 0;\n",
              "      width: 32px;\n",
              "    }\n",
              "\n",
              "    .colab-df-convert:hover {\n",
              "      background-color: #E2EBFA;\n",
              "      box-shadow: 0px 1px 2px rgba(60, 64, 67, 0.3), 0px 1px 3px 1px rgba(60, 64, 67, 0.15);\n",
              "      fill: #174EA6;\n",
              "    }\n",
              "\n",
              "    [theme=dark] .colab-df-convert {\n",
              "      background-color: #3B4455;\n",
              "      fill: #D2E3FC;\n",
              "    }\n",
              "\n",
              "    [theme=dark] .colab-df-convert:hover {\n",
              "      background-color: #434B5C;\n",
              "      box-shadow: 0px 1px 3px 1px rgba(0, 0, 0, 0.15);\n",
              "      filter: drop-shadow(0px 1px 2px rgba(0, 0, 0, 0.3));\n",
              "      fill: #FFFFFF;\n",
              "    }\n",
              "  </style>\n",
              "\n",
              "      <script>\n",
              "        const buttonEl =\n",
              "          document.querySelector('#df-218e260d-2ffe-43d8-9be3-0126c530083a button.colab-df-convert');\n",
              "        buttonEl.style.display =\n",
              "          google.colab.kernel.accessAllowed ? 'block' : 'none';\n",
              "\n",
              "        async function convertToInteractive(key) {\n",
              "          const element = document.querySelector('#df-218e260d-2ffe-43d8-9be3-0126c530083a');\n",
              "          const dataTable =\n",
              "            await google.colab.kernel.invokeFunction('convertToInteractive',\n",
              "                                                     [key], {});\n",
              "          if (!dataTable) return;\n",
              "\n",
              "          const docLinkHtml = 'Like what you see? Visit the ' +\n",
              "            '<a target=\"_blank\" href=https://colab.research.google.com/notebooks/data_table.ipynb>data table notebook</a>'\n",
              "            + ' to learn more about interactive tables.';\n",
              "          element.innerHTML = '';\n",
              "          dataTable['output_type'] = 'display_data';\n",
              "          await google.colab.output.renderOutput(dataTable, element);\n",
              "          const docLink = document.createElement('div');\n",
              "          docLink.innerHTML = docLinkHtml;\n",
              "          element.appendChild(docLink);\n",
              "        }\n",
              "      </script>\n",
              "    </div>\n",
              "  </div>\n",
              "  "
            ],
            "text/plain": [
              "   PERÍODO  ...  FONDO\n",
              "0  04/2021  ...      E\n",
              "1  07/2020  ...      E\n",
              "2  04/2020  ...      C\n",
              "3  03/2020  ...      C\n",
              "4  02/2020  ...      C\n",
              "\n",
              "[5 rows x 5 columns]"
            ]
          },
          "metadata": {},
          "execution_count": 9
        }
      ]
    },
    {
      "cell_type": "code",
      "source": [
        "imposiciones['REMUNERACIÓN_IMPONIBLE_($)'].sum() / 120"
      ],
      "metadata": {
        "colab": {
          "base_uri": "https://localhost:8080/"
        },
        "id": "maBUC7VOHu95",
        "outputId": "a34a0a22-88fd-4531-f683-f1ef57f7bd16"
      },
      "execution_count": null,
      "outputs": [
        {
          "output_type": "execute_result",
          "data": {
            "text/plain": [
              "299837.74166666664"
            ]
          },
          "metadata": {},
          "execution_count": 11
        }
      ]
    },
    {
      "cell_type": "markdown",
      "source": [
        "# Training Model 1: Encoder-Decoder Forecasting\n",
        "\n",
        "## Setting\n",
        "\n",
        "- input encoder (L_in x f): temperature | humidity\t| co2 |\thour |\tdt_device |\tlocation_gam |\tlocation_hcm |\tworkday_False |\tworkday_True|\n",
        "- input decoder (L_in x 1): dt_device\n",
        "- output decoder (L_out x 1): co2\n",
        "- L_in: variable length\n",
        "- L_out: **30**\n",
        "\n",
        "## Params architecture\n",
        "\n",
        "- ``hidden_size_enc`` = 128\n",
        "- ``hidden_size_dec`` = 128\n",
        "- ``num_layers`` = [2, 2]\n",
        "- ``dropout`` = [0.25, 0.25]\n",
        "- ``batch_first`` = True\n",
        "- ``optimizer`` = Adam(lr=0.001, betas=(0.9, 0.999), eps=1e-08, weight_decay=2e-04, amsgrad=False)\n",
        "- ``batch_size`` = 200\n",
        "- ``val_split`` = 0.8"
      ],
      "metadata": {
        "id": "EFPp4HnT0iMc"
      }
    },
    {
      "cell_type": "code",
      "source": [
        "dataset = TSeriesDataset(data_enc=input_enc_test, data_dec=input_dec_test, target=labels_test)\n",
        "\n",
        "# Model\n",
        "EncDecF = Model1(9, 128, 1, 128, 1, num_layers=[2, 2], dropout=[0.25, 0.25], batch_first=True)\n",
        "\n",
        "# Optimizer\n",
        "optimizer = torch.optim.Adam(EncDecF.parameters(), lr=0.001, betas=(0.9, 0.999), eps=1e-08, weight_decay=2e-04, amsgrad=False)\n"
      ],
      "metadata": {
        "id": "BETv1Xv304Er"
      },
      "execution_count": 40,
      "outputs": []
    },
    {
      "cell_type": "markdown",
      "source": [
        "## Training"
      ],
      "metadata": {
        "id": "5qaL2MMH9Y7O"
      }
    },
    {
      "cell_type": "code",
      "source": [
        "epochs = 10\n",
        "train_loss1, val_loss1, loss_batch1, num_upgrade1 = train(EncDecF, dataset, optimizer, epochs=epochs, batch_size=200,\n",
        "                                                      device='cuda', val_split=0.8, reports_every=1, \n",
        "                                                      model_name='Raw Encoder-Decoder Forecasting', report_batch=True,\n",
        "                                                      pin_memory=True)\n"
      ],
      "metadata": {
        "colab": {
          "base_uri": "https://localhost:8080/"
        },
        "id": "5jk-TcjA2eLE",
        "outputId": "5a6d1645-ac49-4392-c029-7e9deb8e3aa1"
      },
      "execution_count": 41,
      "outputs": [
        {
          "output_type": "stream",
          "name": "stdout",
          "text": [
            "Raw Encoder-Decoder Forecasting Model1(\n",
            "  (encoder): EncoderRNN(\n",
            "    (rnn): RNN(9, 128, num_layers=2, batch_first=True, dropout=0.25)\n",
            "  )\n",
            "  (decoder): DecoderRNN(\n",
            "    (rnn): RNN(1, 128, num_layers=2, batch_first=True, dropout=0.25)\n",
            "    (out): Linear(in_features=128, out_features=1, bias=True)\n",
            "  )\n",
            ")\n",
            "Num Params: 100737\n",
            " current loss: 4.4793e-01  [    0/171979]\n",
            " current loss: 6.4308e-02  [20000/171979]\n",
            " current loss: 4.3749e-02  [40000/171979]\n",
            " current loss: 4.3478e-02  [60000/171979]\n",
            " current loss: 3.9152e-02  [80000/171979]\n",
            " current loss: 3.1791e-02  [100000/171979]\n",
            " current loss: 5.3446e-02  [120000/171979]\n",
            " current loss: 2.9628e-02  [140000/171979]\n",
            " current loss: 2.8333e-02  [160000/171979]\n",
            "Epoch:001 Train Loss:4.8334e-02 Val Loss:3.5297e-02 Time/epoch:86.982s\n",
            " current loss: 4.6414e-02  [    0/171979]\n",
            " current loss: 2.8631e-02  [20000/171979]\n",
            " current loss: 3.0858e-02  [40000/171979]\n",
            " current loss: 2.5656e-02  [60000/171979]\n",
            " current loss: 3.6855e-02  [80000/171979]\n",
            " current loss: 2.7579e-02  [100000/171979]\n",
            " current loss: 3.0707e-02  [120000/171979]\n",
            " current loss: 1.6662e-02  [140000/171979]\n",
            " current loss: 2.6834e-02  [160000/171979]\n",
            "Epoch:002 Train Loss:2.8177e-02 Val Loss:2.2957e-02 Time/epoch:85.945s\n",
            " current loss: 3.4414e-02  [    0/171979]\n",
            " current loss: 2.7160e-02  [20000/171979]\n",
            " current loss: 4.1876e-02  [40000/171979]\n",
            " current loss: 3.2710e-02  [60000/171979]\n",
            " current loss: 2.0085e-02  [80000/171979]\n",
            " current loss: 2.0426e-02  [100000/171979]\n",
            " current loss: 1.3508e-02  [120000/171979]\n",
            " current loss: 3.6511e-02  [140000/171979]\n",
            " current loss: 1.6442e-02  [160000/171979]\n",
            "Epoch:003 Train Loss:2.5933e-02 Val Loss:2.2537e-02 Time/epoch:85.665s\n",
            " current loss: 1.3533e-02  [    0/171979]\n",
            " current loss: 2.0352e-02  [20000/171979]\n",
            " current loss: 2.2854e-02  [40000/171979]\n",
            " current loss: 2.8458e-02  [60000/171979]\n",
            " current loss: 2.8608e-02  [80000/171979]\n",
            " current loss: 1.0576e-02  [100000/171979]\n",
            " current loss: 1.9346e-02  [120000/171979]\n",
            " current loss: 1.8027e-02  [140000/171979]\n",
            " current loss: 1.6807e-02  [160000/171979]\n",
            "Epoch:004 Train Loss:2.3080e-02 Val Loss:2.1328e-02 Time/epoch:85.150s\n",
            " current loss: 1.7184e-02  [    0/171979]\n",
            " current loss: 3.0331e-02  [20000/171979]\n",
            " current loss: 3.0163e-02  [40000/171979]\n",
            " current loss: 2.4802e-02  [60000/171979]\n",
            " current loss: 2.2692e-02  [80000/171979]\n",
            " current loss: 1.5697e-02  [100000/171979]\n",
            " current loss: 3.0428e-02  [120000/171979]\n",
            " current loss: 1.5966e-02  [140000/171979]\n",
            " current loss: 2.1869e-02  [160000/171979]\n",
            "Epoch:005 Train Loss:2.0824e-02 Val Loss:1.7875e-02 Time/epoch:85.239s\n",
            " current loss: 8.6540e-03  [    0/171979]\n",
            " current loss: 1.4132e-02  [20000/171979]\n",
            " current loss: 1.8399e-02  [40000/171979]\n",
            " current loss: 2.3038e-02  [60000/171979]\n",
            " current loss: 1.3410e-02  [80000/171979]\n",
            " current loss: 2.1936e-02  [100000/171979]\n",
            " current loss: 1.9234e-02  [120000/171979]\n",
            " current loss: 2.8280e-02  [140000/171979]\n",
            " current loss: 2.8937e-02  [160000/171979]\n",
            "Epoch:006 Train Loss:1.8175e-02 Val Loss:1.6133e-02 Time/epoch:85.381s\n",
            " current loss: 1.8411e-02  [    0/171979]\n",
            " current loss: 2.8353e-02  [20000/171979]\n",
            " current loss: 2.1728e-02  [40000/171979]\n",
            " current loss: 1.0800e-02  [60000/171979]\n",
            " current loss: 2.1975e-02  [80000/171979]\n",
            " current loss: 1.5894e-02  [100000/171979]\n",
            " current loss: 1.4254e-02  [120000/171979]\n",
            " current loss: 1.5302e-02  [140000/171979]\n",
            " current loss: 1.2137e-02  [160000/171979]\n",
            "Epoch:007 Train Loss:1.8222e-02 Val Loss:1.7449e-02 Time/epoch:85.299s\n",
            " current loss: 1.8241e-02  [    0/171979]\n",
            " current loss: 1.7911e-02  [20000/171979]\n",
            " current loss: 1.7606e-02  [40000/171979]\n",
            " current loss: 2.7715e-02  [60000/171979]\n",
            " current loss: 1.5117e-02  [80000/171979]\n",
            " current loss: 1.5723e-02  [100000/171979]\n",
            " current loss: 2.5104e-02  [120000/171979]\n",
            " current loss: 2.2674e-02  [140000/171979]\n",
            " current loss: 2.8233e-02  [160000/171979]\n",
            "Epoch:008 Train Loss:1.6799e-02 Val Loss:1.3085e-02 Time/epoch:85.270s\n",
            " current loss: 8.8002e-03  [    0/171979]\n",
            " current loss: 1.7072e-02  [20000/171979]\n",
            " current loss: 1.0692e-02  [40000/171979]\n",
            " current loss: 2.1786e-02  [60000/171979]\n",
            " current loss: 2.0727e-02  [80000/171979]\n",
            " current loss: 2.2415e-02  [100000/171979]\n",
            " current loss: 1.6419e-02  [120000/171979]\n",
            " current loss: 1.7636e-02  [140000/171979]\n",
            " current loss: 1.7918e-02  [160000/171979]\n",
            "Epoch:009 Train Loss:1.6684e-02 Val Loss:1.2779e-02 Time/epoch:85.284s\n",
            " current loss: 1.1315e-02  [    0/171979]\n",
            " current loss: 1.1758e-02  [20000/171979]\n",
            " current loss: 1.5959e-02  [40000/171979]\n",
            " current loss: 1.3963e-02  [60000/171979]\n",
            " current loss: 1.2705e-02  [80000/171979]\n",
            " current loss: 1.3431e-02  [100000/171979]\n",
            " current loss: 2.1840e-02  [120000/171979]\n",
            " current loss: 6.9849e-03  [140000/171979]\n",
            " current loss: 1.3575e-02  [160000/171979]\n",
            "Epoch:010 Train Loss:1.6001e-02 Val Loss:1.3538e-02 Time/epoch:85.204s\n"
          ]
        }
      ]
    },
    {
      "cell_type": "markdown",
      "source": [
        "## Plots"
      ],
      "metadata": {
        "id": "x2_t59mk9b8G"
      }
    },
    {
      "cell_type": "code",
      "source": [
        "fig, ax = plt.subplots(figsize=(14, 5))\n",
        "epochs_list = np.arange(1, epochs+1)\n",
        "ax.set_yscale('log')\n",
        "ax.plot(epochs_list, train_loss1, label='Train set')\n",
        "ax.plot(epochs_list, val_loss1, label='Val set')\n",
        "ax.set_xlabel('epochs')\n",
        "ax.set_ylabel('Loss')\n",
        "ax.set_title('Raw Encoder-Decoder Forecasting')\n",
        "ax.legend()\n",
        "ax.grid();"
      ],
      "metadata": {
        "colab": {
          "base_uri": "https://localhost:8080/",
          "height": 350
        },
        "id": "o9ZrJ54F3FLM",
        "outputId": "c50b9dfb-c57e-4051-e409-03045f207aa3"
      },
      "execution_count": 42,
      "outputs": [
        {
          "output_type": "display_data",
          "data": {
            "image/png": "[encoded data removed]",
            "text/plain": [
              "<Figure size 1008x360 with 1 Axes>"
            ]
          },
          "metadata": {
            "needs_background": "light"
          }
        }
      ]
    },
    {
      "cell_type": "code",
      "source": [
        "fig, ax = plt.subplots(figsize=(14, 5))\n",
        "ax.plot(num_upgrade1, loss_batch1, label='Train set')\n",
        "ax.set_yscale('log')\n",
        "ax.set_xlabel('upgrades')\n",
        "ax.set_ylabel('Loss')\n",
        "ax.legend()\n",
        "ax.grid();"
      ],
      "metadata": {
        "colab": {
          "base_uri": "https://localhost:8080/",
          "height": 334
        },
        "id": "HLAE8BoD3zj4",
        "outputId": "97e2daa2-28bf-4cb4-a3bf-480c95731e49"
      },
      "execution_count": 43,
      "outputs": [
        {
          "output_type": "display_data",
          "data": {
            "image/png": "[encoded data removed]",
            "text/plain": [
              "<Figure size 1008x360 with 1 Axes>"
            ]
          },
          "metadata": {
            "needs_background": "light"
          }
        }
      ]
    },
    {
      "cell_type": "code",
      "source": [
        "# Testing random example:\n",
        "EncDecF.to('cpu')\n",
        "\n",
        "x, dt, y = dataset[np.random.randint(len(dataset))]\n",
        "x, dt, y = collate_seqs([[x, dt, y]])\n",
        "# x, dt, y = x.view(1, -1, 9), dt.view(1, -1, 1), y.view(1, -1).squeeze(dim=0)\n",
        "y = y.view(1, -1).squeeze(dim=0)\n",
        "\n",
        "y_pred = EncDecF(x, dt).squeeze(dim=0).squeeze(dim=1).to('cpu').detach().numpy()\n",
        "dt = dt.squeeze(dim=0).squeeze(dim=1).to('cpu').numpy()\n",
        "\n",
        "t0 = 0\n",
        "tt = np.zeros(len(dt))\n",
        "for i in range(len(dt)):\n",
        "    t0 += sigma[-1]*dt[i] + mu[-1]\n",
        "    tt[i] = t0\n",
        "tt = tt / 1000\n"
      ],
      "metadata": {
        "id": "HToXXiyk4bOH"
      },
      "execution_count": 49,
      "outputs": []
    },
    {
      "cell_type": "code",
      "source": [
        "idx = 0\n",
        "fig, ax = plt.subplots(figsize=(15, 6))\n",
        "ax.plot(tt[idx:], (sigma[2]*y + mu[2])[idx:], label='Real $CO_2$')\n",
        "ax.plot(tt[idx:], (sigma[2]*y_pred + mu[2])[idx:], label='Forecasting $CO_2$')\n",
        "# ax.plot(tt[idx:], y[idx:], label='Real co2')\n",
        "# ax.plot(tt[idx:], y_pred[idx:], label='Prediction co2')\n",
        "plt.xticks(rotation=45)\n",
        "handles, labels = ax.get_legend_handles_labels()\n",
        "ax.tick_params(axis='x', labelsize=20)\n",
        "ax.tick_params(axis='y', labelsize=20)\n",
        "ax.set_xlabel(\"Time\", fontsize=20)\n",
        "ax.set_title('Encoder-Decoder Forecasting')\n",
        "ax.legend()\n",
        "ax.grid()\n",
        "ax.set_ylabel('$CO_2$ [ppm]', fontsize=20);"
      ],
      "metadata": {
        "colab": {
          "base_uri": "https://localhost:8080/",
          "height": 453
        },
        "id": "7ke3fY_N4nWE",
        "outputId": "cef74708-ff57-459a-e780-1cc17bbfd5d5"
      },
      "execution_count": 52,
      "outputs": [
        {
          "output_type": "display_data",
          "data": {
            "image/png": "[encoded data removed]",
            "text/plain": [
              "<Figure size 1080x432 with 1 Axes>"
            ]
          },
          "metadata": {
            "needs_background": "light"
          }
        }
      ]
    },
    {
      "cell_type": "markdown",
      "source": [
        "# Training Model 1: Encoder-Decoder Duplicate (last 60) + Forescast\n",
        "\n",
        "## Setting\n",
        "\n",
        "- input encoder (L_in x f): temperature | humidity\t| co2 |\thour |\tdt_device |\tlocation_gam |\tlocation_hcm |\tworkday_False |\tworkday_True|\n",
        "- input decoder (L_out x 1): dt_device\n",
        "- output decoder (L_out x 1): co2\n",
        "- L_in: variable length\n",
        "- L_out: **L_in[-60:] + 30** = 90\n",
        "\n",
        "## Params architecture\n",
        "\n",
        "- ``hidden_size_enc`` = 128\n",
        "- ``hidden_size_dec`` = 128\n",
        "- ``num_layers`` = [2, 2]\n",
        "- ``dropout`` = [0.25, 0.25]\n",
        "- ``batch_first`` = True\n",
        "- ``optimizer`` = Adam(lr=0.001, betas=(0.9, 0.999), eps=1e-08, weight_decay=2e-04, amsgrad=False)\n",
        "- ``batch_size`` = 200\n",
        "- ``val_split`` = 0.7\n"
      ],
      "metadata": {
        "id": "8z8v7rhuaucE"
      }
    },
    {
      "cell_type": "code",
      "source": [
        "def collate_seqs(batch):\n",
        "    input_enc, input_dec, targets = [], [], []\n",
        "    \n",
        "    for x, deltat, y in batch:\n",
        "        input_enc.append(x)\n",
        "        input_dec.append(torch.cat([x[:, 4][-60:].unsqueeze(dim=1), deltat], dim=0))\n",
        "        targets.append(torch.cat([x[:, 2][-60:].unsqueeze(dim=1), y], dim=0))\n",
        "    input_enc = pack_sequence(input_enc, enforce_sorted=False)\n",
        "    input_dec = torch.stack(input_dec, dim=0)\n",
        "    targets = torch.stack(targets, dim=0)\n",
        "\n",
        "    return [input_enc, input_dec, targets]"
      ],
      "metadata": {
        "id": "uFE9KM-wa5_K"
      },
      "execution_count": 25,
      "outputs": []
    },
    {
      "cell_type": "code",
      "source": [
        "dataset = TSeriesDataset(data_enc=input_enc_test, data_dec=input_dec_test, target=labels_test)\n",
        "\n",
        "# Model\n",
        "model = Model1(9, 128, 1, 128, 1, num_layers=[2, 2], dropout=[0.25, 0.25], batch_first=True)\n",
        "\n",
        "# Optimizer\n",
        "optimizer = torch.optim.Adam(model.parameters(), lr=0.001, betas=(0.9, 0.999), eps=1e-08, weight_decay=2e-04, amsgrad=False)\n"
      ],
      "metadata": {
        "id": "VSpMOBBNmAxS"
      },
      "execution_count": 26,
      "outputs": []
    },
    {
      "cell_type": "markdown",
      "source": [
        "## Training the model"
      ],
      "metadata": {
        "id": "LQo77ENu36zU"
      }
    },
    {
      "cell_type": "code",
      "source": [
        "epochs = 10\n",
        "train_loss2, val_loss2, loss_batch2, num_upgrade2 = train(model, dataset, optimizer, epochs=epochs, batch_size=200,\n",
        "                                                      device='cuda', val_split=0.8, reports_every=1, \n",
        "                                                      model_name='Encoder-Decoder: Duplicate + Forecasting', \n",
        "                                                      report_batch=True, pin_memory=True)"
      ],
      "metadata": {
        "colab": {
          "base_uri": "https://localhost:8080/"
        },
        "id": "hjon9-SpmsJ9",
        "outputId": "08db3305-0e2f-438c-9570-233bfdeaa3cb"
      },
      "execution_count": 27,
      "outputs": [
        {
          "output_type": "stream",
          "name": "stdout",
          "text": [
            "Encoder-Decoder: Duplicate + Forecasting Model1(\n",
            "  (encoder): EncoderRNN(\n",
            "    (rnn): RNN(9, 128, num_layers=2, batch_first=True, dropout=0.25)\n",
            "  )\n",
            "  (decoder): DecoderRNN(\n",
            "    (rnn): RNN(1, 128, num_layers=2, batch_first=True, dropout=0.25)\n",
            "    (out): Linear(in_features=128, out_features=1, bias=True)\n",
            "  )\n",
            ")\n",
            "Num Params: 100737\n",
            " current loss: 2.6746e-01  [    0/171979]\n",
            " current loss: 1.6846e-02  [20000/171979]\n",
            " current loss: 3.4998e-02  [40000/171979]\n",
            " current loss: 5.9051e-02  [60000/171979]\n",
            " current loss: 1.8862e-01  [80000/171979]\n",
            " current loss: 3.3901e-02  [100000/171979]\n",
            " current loss: 4.5549e-02  [120000/171979]\n",
            " current loss: 3.7527e-02  [140000/171979]\n",
            " current loss: 4.8647e-02  [160000/171979]\n",
            "Epoch:001 Train Loss:5.2464e-02 Val Loss:3.8194e-02 Time/epoch:84.840s\n",
            " current loss: 4.0601e-02  [    0/171979]\n",
            " current loss: 6.1210e-02  [20000/171979]\n",
            " current loss: 3.5535e-02  [40000/171979]\n",
            " current loss: 3.0781e-02  [60000/171979]\n",
            " current loss: 3.5834e-02  [80000/171979]\n",
            " current loss: 4.0681e-02  [100000/171979]\n",
            " current loss: 3.7407e-02  [120000/171979]\n",
            " current loss: 4.1462e-02  [140000/171979]\n",
            " current loss: 3.9857e-02  [160000/171979]\n",
            "Epoch:002 Train Loss:3.5583e-02 Val Loss:2.7973e-02 Time/epoch:84.322s\n",
            " current loss: 2.6181e-02  [    0/171979]\n",
            " current loss: 2.1415e-02  [20000/171979]\n",
            " current loss: 4.6829e-02  [40000/171979]\n",
            " current loss: 3.9577e-02  [60000/171979]\n",
            " current loss: 3.6032e-02  [80000/171979]\n",
            " current loss: 2.8466e-02  [100000/171979]\n",
            " current loss: 2.5740e-02  [120000/171979]\n",
            " current loss: 1.9878e-02  [140000/171979]\n",
            " current loss: 2.3992e-02  [160000/171979]\n",
            "Epoch:003 Train Loss:2.6556e-02 Val Loss:2.4776e-02 Time/epoch:84.306s\n",
            " current loss: 1.9089e-02  [    0/171979]\n",
            " current loss: 3.3450e-02  [20000/171979]\n",
            " current loss: 1.7580e-02  [40000/171979]\n",
            " current loss: 3.1413e-02  [60000/171979]\n",
            " current loss: 2.8000e-02  [80000/171979]\n",
            " current loss: 2.1957e-02  [100000/171979]\n",
            " current loss: 2.5867e-02  [120000/171979]\n",
            " current loss: 2.1010e-02  [140000/171979]\n",
            " current loss: 1.7989e-02  [160000/171979]\n",
            "Epoch:004 Train Loss:2.3329e-02 Val Loss:2.2050e-02 Time/epoch:84.303s\n",
            " current loss: 2.1255e-02  [    0/171979]\n",
            " current loss: 1.6877e-02  [20000/171979]\n",
            " current loss: 2.7203e-02  [40000/171979]\n",
            " current loss: 3.0579e-02  [60000/171979]\n",
            " current loss: 1.3110e-02  [80000/171979]\n",
            " current loss: 2.8048e-02  [100000/171979]\n",
            " current loss: 2.6276e-02  [120000/171979]\n",
            " current loss: 3.2062e-02  [140000/171979]\n",
            " current loss: 2.5721e-02  [160000/171979]\n",
            "Epoch:005 Train Loss:2.1014e-02 Val Loss:1.7550e-02 Time/epoch:84.237s\n",
            " current loss: 1.8819e-02  [    0/171979]\n",
            " current loss: 2.3330e-02  [20000/171979]\n",
            " current loss: 1.9247e-02  [40000/171979]\n",
            " current loss: 2.1683e-02  [60000/171979]\n",
            " current loss: 2.3187e-02  [80000/171979]\n",
            " current loss: 2.4626e-02  [100000/171979]\n",
            " current loss: 1.6796e-02  [120000/171979]\n",
            " current loss: 2.3276e-02  [140000/171979]\n",
            " current loss: 2.2831e-02  [160000/171979]\n",
            "Epoch:006 Train Loss:1.9689e-02 Val Loss:2.2165e-02 Time/epoch:84.262s\n",
            " current loss: 1.3348e-02  [    0/171979]\n",
            " current loss: 2.8852e-02  [20000/171979]\n",
            " current loss: 1.3963e-02  [40000/171979]\n",
            " current loss: 1.6259e-02  [60000/171979]\n",
            " current loss: 1.6289e-02  [80000/171979]\n",
            " current loss: 3.1167e-02  [100000/171979]\n",
            " current loss: 2.2949e-02  [120000/171979]\n",
            " current loss: 1.8108e-02  [140000/171979]\n",
            " current loss: 3.2365e-02  [160000/171979]\n",
            "Epoch:007 Train Loss:1.9166e-02 Val Loss:2.2873e-02 Time/epoch:83.969s\n",
            " current loss: 2.2718e-02  [    0/171979]\n",
            " current loss: 1.3399e-02  [20000/171979]\n",
            " current loss: 2.0849e-02  [40000/171979]\n",
            " current loss: 1.1949e-02  [60000/171979]\n",
            " current loss: 2.3139e-02  [80000/171979]\n",
            " current loss: 1.7870e-02  [100000/171979]\n",
            " current loss: 2.0937e-02  [120000/171979]\n",
            " current loss: 1.2261e-02  [140000/171979]\n",
            " current loss: 1.4056e-02  [160000/171979]\n",
            "Epoch:008 Train Loss:1.8164e-02 Val Loss:1.7949e-02 Time/epoch:84.075s\n",
            " current loss: 1.6011e-02  [    0/171979]\n",
            " current loss: 1.3470e-02  [20000/171979]\n",
            " current loss: 1.3728e-02  [40000/171979]\n",
            " current loss: 1.1879e-02  [60000/171979]\n",
            " current loss: 1.1645e-02  [80000/171979]\n",
            " current loss: 1.6295e-02  [100000/171979]\n",
            " current loss: 1.9211e-02  [120000/171979]\n",
            " current loss: 1.3555e-02  [140000/171979]\n",
            " current loss: 2.4116e-02  [160000/171979]\n",
            "Epoch:009 Train Loss:1.7715e-02 Val Loss:1.5205e-02 Time/epoch:84.066s\n",
            " current loss: 1.3523e-02  [    0/171979]\n",
            " current loss: 1.8909e-02  [20000/171979]\n",
            " current loss: 1.6874e-02  [40000/171979]\n",
            " current loss: 1.7779e-02  [60000/171979]\n",
            " current loss: 1.0345e-02  [80000/171979]\n",
            " current loss: 1.6416e-02  [100000/171979]\n",
            " current loss: 3.0981e-02  [120000/171979]\n",
            " current loss: 2.2390e-02  [140000/171979]\n",
            " current loss: 2.0438e-02  [160000/171979]\n",
            "Epoch:010 Train Loss:1.7282e-02 Val Loss:1.4828e-02 Time/epoch:84.098s\n"
          ]
        }
      ]
    },
    {
      "cell_type": "markdown",
      "source": [
        "## Plots"
      ],
      "metadata": {
        "id": "lm3EyRF44Ad6"
      }
    },
    {
      "cell_type": "code",
      "source": [
        "fig, ax = plt.subplots(figsize=(14, 5))\n",
        "epochs = np.arange(1, epochs+1)\n",
        "ax.set_yscale('log')\n",
        "ax.plot(epochs, train_loss2, label='Train set')\n",
        "ax.plot(epochs, val_loss2, label='Val set')\n",
        "ax.set_xlabel('epochs')\n",
        "ax.set_ylabel('Loss')\n",
        "ax.set_title('Encoder-Decoder Duplication + Forecasting')\n",
        "ax.legend()\n",
        "ax.grid();"
      ],
      "metadata": {
        "colab": {
          "base_uri": "https://localhost:8080/",
          "height": 350
        },
        "id": "2dZBfKhqn4jv",
        "outputId": "f84b81ab-1595-4760-ef50-bb7ba1832fdc"
      },
      "execution_count": 38,
      "outputs": [
        {
          "output_type": "display_data",
          "data": {
            "image/png": "[encoded data removed]",
            "text/plain": [
              "<Figure size 1008x360 with 1 Axes>"
            ]
          },
          "metadata": {
            "needs_background": "light"
          }
        }
      ]
    },
    {
      "cell_type": "code",
      "source": [
        "fig, ax = plt.subplots(figsize=(14, 5))\n",
        "ax.plot(num_upgrade2, loss_batch2, label='Train set')\n",
        "ax.set_yscale('log')\n",
        "ax.set_xlabel('upgrades')\n",
        "ax.set_ylabel('Loss')\n",
        "ax.legend()\n",
        "ax.grid();"
      ],
      "metadata": {
        "colab": {
          "base_uri": "https://localhost:8080/",
          "height": 334
        },
        "id": "0SBZMofxoA1h",
        "outputId": "2bb3004d-e864-47f4-ba78-d3a49373ce3b"
      },
      "execution_count": 39,
      "outputs": [
        {
          "output_type": "display_data",
          "data": {
            "image/png": "[encoded data removed]",
            "text/plain": [
              "<Figure size 1008x360 with 1 Axes>"
            ]
          },
          "metadata": {
            "needs_background": "light"
          }
        }
      ]
    },
    {
      "cell_type": "code",
      "source": [
        "# Testing random example:\n",
        "model.to('cpu')\n",
        "\n",
        "x, dt, y = dataset[np.random.randint(len(dataset))]\n",
        "x, dt, y = collate_seqs([[x, dt, y]])\n",
        "# x, dt, y = x.view(1, -1, 9), dt.view(1, -1, 1), y.view(1, -1).squeeze(dim=0)\n",
        "y = y.view(1, -1).squeeze(dim=0)\n",
        "\n",
        "y_pred = model(x, dt).squeeze(dim=0).squeeze(dim=1).to('cpu').detach().numpy()\n",
        "\n",
        "dt = dt.squeeze(dim=0).squeeze(dim=1).to('cpu').numpy()"
      ],
      "metadata": {
        "id": "mjnSRrT8_0_v"
      },
      "execution_count": 54,
      "outputs": []
    },
    {
      "cell_type": "code",
      "source": [
        "t0 = 0\n",
        "tt = np.zeros(len(dt))\n",
        "for i in range(len(dt)):\n",
        "    t0 += sigma[-1]*dt[i] + mu[-1]\n",
        "    tt[i] = t0\n",
        "tt = tt / 1000"
      ],
      "metadata": {
        "id": "zJoJJgxa_0yZ"
      },
      "execution_count": 55,
      "outputs": []
    },
    {
      "cell_type": "code",
      "source": [
        "idx = 0\n",
        "fig, ax = plt.subplots(figsize=(15, 6))\n",
        "ax.plot(tt[idx:], (sigma[2]*y + mu[2])[idx:], label='Real $CO_2$')\n",
        "ax.plot(tt[idx:-30], (sigma[2]*y_pred + mu[2])[idx:-30], label='Duplicate $CO_2$')\n",
        "ax.plot(tt[-30:], (sigma[2]*y_pred + mu[2])[-30:], label='Forecasting $CO_2$')\n",
        "# ax.plot(tt[idx:], y[idx:], label='Real co2')\n",
        "# ax.plot(tt[idx:], y_pred[idx:], label='Prediction co2')\n",
        "plt.xticks(rotation=45)\n",
        "handles, labels = ax.get_legend_handles_labels()\n",
        "ax.tick_params(axis='x', labelsize=20)\n",
        "ax.tick_params(axis='y', labelsize=20)\n",
        "ax.set_xlabel(\"Time\", fontsize=20)\n",
        "ax.set_title('Encoder-Decoder Duplication + Forecasting')\n",
        "ax.legend()\n",
        "ax.grid()\n",
        "ax.set_ylabel('$CO_2$ [ppm]', fontsize=20);"
      ],
      "metadata": {
        "colab": {
          "base_uri": "https://localhost:8080/",
          "height": 453
        },
        "id": "MHBErEJrH-Tr",
        "outputId": "16d2eba8-95ed-4a0c-bdf8-e20aad492179"
      },
      "execution_count": 56,
      "outputs": [
        {
          "output_type": "display_data",
          "data": {
            "image/png": "[encoded data removed]",
            "text/plain": [
              "<Figure size 1080x432 with 1 Axes>"
            ]
          },
          "metadata": {
            "needs_background": "light"
          }
        }
      ]
    },
    {
      "cell_type": "markdown",
      "source": [
        "# Training Model 2: Encoder-Decoder based on https://arxiv.org/pdf/1711.10609.pdf\n",
        "\n",
        "## Setting\n",
        "\n",
        "- input encoder (L_in x f): temperature | humidity\t| co2 |\thour |\tdt_device |\tlocation_gam |\tlocation_hcm |\tworkday_False |\tworkday_True|\n",
        "- input decoder (L_out x **[1 + 8]**): dt_device\n",
        "- output decoder (L_out x 1): co2\n",
        "- L_in: variable length\n",
        "- L_out: **30**\n",
        "\n",
        "## Params architecture\n",
        "\n",
        "- ``hidden_size_enc`` = 128\n",
        "- ``embedding`` = 8\n",
        "- ``hidden_size_dec`` = 128\n",
        "- ``num_layers`` = [2, 2]\n",
        "- ``dropout`` = [0.25, 0.25]\n",
        "- ``batch_first`` = True\n",
        "- ``optimizer`` = Adam(lr=0.001, betas=(0.9, 0.999), eps=1e-08, weight_decay=2e-04, amsgrad=False)\n",
        "- ``batch_size`` = 200\n",
        "- ``val_split`` = 0.7\n"
      ],
      "metadata": {
        "id": "vQps2OKmoK-H"
      }
    },
    {
      "cell_type": "markdown",
      "source": [
        "## Encoder-Decoder Model based on https://arxiv.org/pdf/1711.10609.pdf\n",
        "\n",
        "- Encoder input $X_{features}$\n",
        "- Embedding layer of Fully Connected\n",
        "- Decoder input [`Embedded Context`, $\\Delta t$]"
      ],
      "metadata": {
        "id": "AW4M24WApt39"
      }
    },
    {
      "cell_type": "code",
      "source": [
        "a = torch.rand(3, 8, 1)\n",
        "b = torch.rand(1, 3, 8)"
      ],
      "metadata": {
        "id": "GxY0iQjCFOvD"
      },
      "execution_count": 23,
      "outputs": []
    },
    {
      "cell_type": "code",
      "source": [
        "b = b[-1].unsqueeze(dim=1)"
      ],
      "metadata": {
        "id": "aFXIGKQgPbFj"
      },
      "execution_count": 24,
      "outputs": []
    },
    {
      "cell_type": "code",
      "source": [
        "b.shape"
      ],
      "metadata": {
        "colab": {
          "base_uri": "https://localhost:8080/"
        },
        "id": "K8_JVSFVPevf",
        "outputId": "36949a69-7ba2-4e3e-f5ae-f3affdb802a6"
      },
      "execution_count": 25,
      "outputs": [
        {
          "output_type": "execute_result",
          "data": {
            "text/plain": [
              "torch.Size([3, 1, 8])"
            ]
          },
          "metadata": {},
          "execution_count": 25
        }
      ]
    },
    {
      "cell_type": "code",
      "source": [
        "b = b.expand(-1, a.shape[1], -1)"
      ],
      "metadata": {
        "id": "cJKoXendGUCs"
      },
      "execution_count": 15,
      "outputs": []
    },
    {
      "cell_type": "code",
      "source": [
        "torch.cat([a, b], dim=-1).shape"
      ],
      "metadata": {
        "colab": {
          "base_uri": "https://localhost:8080/"
        },
        "id": "dGtDr8f6IK6S",
        "outputId": "13c13274-7dc9-4fdc-9893-cc5ab6281355"
      },
      "execution_count": 16,
      "outputs": [
        {
          "output_type": "execute_result",
          "data": {
            "text/plain": [
              "torch.Size([3, 8, 9])"
            ]
          },
          "metadata": {},
          "execution_count": 16
        }
      ]
    },
    {
      "cell_type": "code",
      "source": [
        ""
      ],
      "metadata": {
        "id": "1ufPGwHaGT3Z"
      },
      "execution_count": null,
      "outputs": []
    },
    {
      "cell_type": "code",
      "source": [
        ""
      ],
      "metadata": {
        "id": "iDzSxVr5Fie7"
      },
      "execution_count": null,
      "outputs": []
    },
    {
      "cell_type": "code",
      "source": [
        "class Model1(nn.Module):\n",
        "  def __init__(self, input_size_enc, hidden_size_enc, embedding_size, input_size_dec, hidden_size_dec, output_size,\n",
        "               num_layers=[1, 1], dropout=[0, 0, 0], batch_first=True):\n",
        "    super(Model1, self).__init__()\n",
        "\n",
        "    # keep for reference\n",
        "    self.input_size_enc = input_size_enc\n",
        "    self.hidden_size_enc = hidden_size_enc\n",
        "    self.embedding_size = embedding_size\n",
        "    self.hidden_size_dec = hidden_size_dec\n",
        "    self.input_size_dec = input_size_dec\n",
        "    self.output_size = output_size\n",
        "    self.num_layers = num_layers\n",
        "    self.dropout = dropout\n",
        "    self.batch_first = batch_first\n",
        "\n",
        "    self.encoder = EncoderRNN(input_size_enc, hidden_size_enc, num_layers=num_layers[0], dropout=dropout[0],\n",
        "                              batch_first=batch_first)\n",
        "    self.embedding = nn.Linear(hidden_size_enc, embedding_size)\n",
        "    self.embedding_dropout = nn.Dropout(dropout[1])\n",
        "    self.decoder = DecoderRNN(input_size_dec + embedding_size, hidden_size_dec, output_size,\n",
        "                              num_layers=num_layers[1], dropout=dropout[2], batch_first=batch_first)\n",
        "\n",
        "  def forward(self, input_enc, input_dec, hidden_enc=None): # change None in hidden\n",
        "\n",
        "    # output: B* x length_enc* x H_enc ; hidden: num_layers x B x H_enc\n",
        "    output, hidden = self.encoder(input_enc, hidden_enc)\n",
        "\n",
        "    # hidden: B x 1 x H_enc\n",
        "    hidden = hidden[-1].unsqueeze(dim=1)\n",
        "\n",
        "    # embedded: B x 1 x embedding_size\n",
        "    embedded = self.embedding(hidden)\n",
        "    embedded = self.embedding_dropout(embedded)\n",
        "\n",
        "    # copied embedding: B x length_dec x embedding_size\n",
        "    embedded = embedded.expand(-1, input_dec.shape[1], -1)\n",
        "\n",
        "    # cat(input_dec, embedding): B x length_dec x (embedding_size + input_size_dec)\n",
        "    input_dec = torch.cat([input_dec, embedded], dim=-1)\n",
        "\n",
        "    # output: B x length_dec x output_size; hiddden: num_layers x B x output_size\n",
        "    output, hidden = self.decoder(input_dec, None)\n",
        "\n",
        "    return output\n",
        "\n",
        "  def num_parameters(self):\n",
        "    total = 0\n",
        "    for p in self.parameters():\n",
        "      if p.requires_grad:\n",
        "        total += p.numel()\n",
        "    return total\n"
      ],
      "metadata": {
        "id": "x6oIBuIzpsN6"
      },
      "execution_count": null,
      "outputs": []
    },
    {
      "cell_type": "code",
      "source": [
        ""
      ],
      "metadata": {
        "id": "i2Sh_VCp9sd6"
      },
      "execution_count": null,
      "outputs": []
    },
    {
      "cell_type": "code",
      "source": [
        ""
      ],
      "metadata": {
        "id": "K8WjP13w9sai"
      },
      "execution_count": null,
      "outputs": []
    },
    {
      "cell_type": "code",
      "source": [
        ""
      ],
      "metadata": {
        "id": "m1kCxz0O9sRX"
      },
      "execution_count": null,
      "outputs": []
    },
    {
      "cell_type": "code",
      "source": [
        ""
      ],
      "metadata": {
        "id": "1v2wOpae9sFa"
      },
      "execution_count": null,
      "outputs": []
    }
  ]
}